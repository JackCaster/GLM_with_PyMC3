{
 "cells": [
  {
   "cell_type": "markdown",
   "metadata": {},
   "source": [
    "# Nested ANOVA - one between factor\n",
    "Reference: http://www.flutterbys.com.au/stats/tut/tut9.2b.html"
   ]
  },
  {
   "cell_type": "code",
   "execution_count": 1,
   "metadata": {},
   "outputs": [
    {
     "name": "stderr",
     "output_type": "stream",
     "text": [
      "C:\\Miniconda3\\envs\\GLM_with_PyMC3\\lib\\site-packages\\h5py\\__init__.py:36: FutureWarning: Conversion of the second argument of issubdtype from `float` to `np.floating` is deprecated. In future, it will be treated as `np.float64 == np.dtype(float).type`.\n",
      "  from ._conv import register_converters as _register_converters\n"
     ]
    }
   ],
   "source": [
    "import pandas as pd\n",
    "import numpy as np\n",
    " \n",
    "%matplotlib inline\n",
    "import matplotlib.pyplot as plt\n",
    "import seaborn as sns\n",
    "sns.set()\n",
    "\n",
    "import pymc3 as pm\n",
    "import patsy"
   ]
  },
  {
   "cell_type": "markdown",
   "metadata": {},
   "source": [
    "### Data loading"
   ]
  },
  {
   "cell_type": "code",
   "execution_count": 2,
   "metadata": {},
   "outputs": [
    {
     "data": {
      "text/html": [
       "<div>\n",
       "<style scoped>\n",
       "    .dataframe tbody tr th:only-of-type {\n",
       "        vertical-align: middle;\n",
       "    }\n",
       "\n",
       "    .dataframe tbody tr th {\n",
       "        vertical-align: top;\n",
       "    }\n",
       "\n",
       "    .dataframe thead th {\n",
       "        text-align: right;\n",
       "    }\n",
       "</style>\n",
       "<table border=\"1\" class=\"dataframe\">\n",
       "  <thead>\n",
       "    <tr style=\"text-align: right;\">\n",
       "      <th></th>\n",
       "      <th>SEASON</th>\n",
       "      <th>SITE</th>\n",
       "      <th>DUGESIA</th>\n",
       "      <th>S4DUGES</th>\n",
       "    </tr>\n",
       "  </thead>\n",
       "  <tbody>\n",
       "    <tr>\n",
       "      <th>0</th>\n",
       "      <td>WINTER</td>\n",
       "      <td>1</td>\n",
       "      <td>0.647683</td>\n",
       "      <td>0.897100</td>\n",
       "    </tr>\n",
       "    <tr>\n",
       "      <th>1</th>\n",
       "      <td>WINTER</td>\n",
       "      <td>1</td>\n",
       "      <td>6.096152</td>\n",
       "      <td>1.571317</td>\n",
       "    </tr>\n",
       "    <tr>\n",
       "      <th>2</th>\n",
       "      <td>WINTER</td>\n",
       "      <td>1</td>\n",
       "      <td>1.310564</td>\n",
       "      <td>1.069953</td>\n",
       "    </tr>\n",
       "    <tr>\n",
       "      <th>3</th>\n",
       "      <td>WINTER</td>\n",
       "      <td>1</td>\n",
       "      <td>1.725279</td>\n",
       "      <td>1.146080</td>\n",
       "    </tr>\n",
       "    <tr>\n",
       "      <th>4</th>\n",
       "      <td>WINTER</td>\n",
       "      <td>1</td>\n",
       "      <td>1.459387</td>\n",
       "      <td>1.099114</td>\n",
       "    </tr>\n",
       "  </tbody>\n",
       "</table>\n",
       "</div>"
      ],
      "text/plain": [
       "         SEASON  SITE   DUGESIA   S4DUGES\n",
       "0  WINTER           1  0.647683  0.897100\n",
       "1  WINTER           1  6.096152  1.571317\n",
       "2  WINTER           1  1.310564  1.069953\n",
       "3  WINTER           1  1.725279  1.146080\n",
       "4  WINTER           1  1.459387  1.099114"
      ]
     },
     "execution_count": 2,
     "metadata": {},
     "output_type": "execute_result"
    }
   ],
   "source": [
    "#curdies = pd.read_csv('../datasets/curdies.csv', na_values=0)\n",
    "curdies = pd.read_csv('../datasets/curdies.csv')\n",
    "curdies.head()"
   ]
  },
  {
   "cell_type": "code",
   "execution_count": 3,
   "metadata": {},
   "outputs": [
    {
     "data": {
      "text/plain": [
       "['1W', '2W', '3W', '4S', '5S', '6S']"
      ]
     },
     "execution_count": 3,
     "metadata": {},
     "output_type": "execute_result"
    }
   ],
   "source": [
    "labels_SITE = ['{}{}'.format(curdies['SITE'][i], curdies['SEASON'][j][0]) for i, j in zip(curdies['SITE'].index, curdies['SEASON'].index)]\n",
    "labels_SITE = sorted(list(set(labels_SITE)))\n",
    "labels_SITE"
   ]
  },
  {
   "cell_type": "code",
   "execution_count": 4,
   "metadata": {},
   "outputs": [
    {
     "data": {
      "text/html": [
       "<div>\n",
       "<style scoped>\n",
       "    .dataframe tbody tr th:only-of-type {\n",
       "        vertical-align: middle;\n",
       "    }\n",
       "\n",
       "    .dataframe tbody tr th {\n",
       "        vertical-align: top;\n",
       "    }\n",
       "\n",
       "    .dataframe thead th {\n",
       "        text-align: right;\n",
       "    }\n",
       "</style>\n",
       "<table border=\"1\" class=\"dataframe\">\n",
       "  <thead>\n",
       "    <tr style=\"text-align: right;\">\n",
       "      <th></th>\n",
       "      <th>SEASON</th>\n",
       "      <th>SITE</th>\n",
       "      <th>DUGESIA</th>\n",
       "      <th>S4DUGES</th>\n",
       "    </tr>\n",
       "  </thead>\n",
       "  <tbody>\n",
       "    <tr>\n",
       "      <th>0</th>\n",
       "      <td>WINTER</td>\n",
       "      <td>1</td>\n",
       "      <td>0.647683</td>\n",
       "      <td>0.897100</td>\n",
       "    </tr>\n",
       "    <tr>\n",
       "      <th>1</th>\n",
       "      <td>WINTER</td>\n",
       "      <td>1</td>\n",
       "      <td>6.096152</td>\n",
       "      <td>1.571317</td>\n",
       "    </tr>\n",
       "    <tr>\n",
       "      <th>2</th>\n",
       "      <td>WINTER</td>\n",
       "      <td>1</td>\n",
       "      <td>1.310564</td>\n",
       "      <td>1.069953</td>\n",
       "    </tr>\n",
       "    <tr>\n",
       "      <th>3</th>\n",
       "      <td>WINTER</td>\n",
       "      <td>1</td>\n",
       "      <td>1.725279</td>\n",
       "      <td>1.146080</td>\n",
       "    </tr>\n",
       "    <tr>\n",
       "      <th>4</th>\n",
       "      <td>WINTER</td>\n",
       "      <td>1</td>\n",
       "      <td>1.459387</td>\n",
       "      <td>1.099114</td>\n",
       "    </tr>\n",
       "  </tbody>\n",
       "</table>\n",
       "</div>"
      ],
      "text/plain": [
       "         SEASON  SITE   DUGESIA   S4DUGES\n",
       "0  WINTER           1  0.647683  0.897100\n",
       "1  WINTER           1  6.096152  1.571317\n",
       "2  WINTER           1  1.310564  1.069953\n",
       "3  WINTER           1  1.725279  1.146080\n",
       "4  WINTER           1  1.459387  1.099114"
      ]
     },
     "execution_count": 4,
     "metadata": {},
     "output_type": "execute_result"
    }
   ],
   "source": [
    "#curdies.dropna(axis=0, inplace=True)\n",
    "#curdies.reset_index(inplace=True)\n",
    "curdies.head()"
   ]
  },
  {
   "cell_type": "code",
   "execution_count": 5,
   "metadata": {},
   "outputs": [
    {
     "data": {
      "text/html": [
       "<div>\n",
       "<style scoped>\n",
       "    .dataframe tbody tr th:only-of-type {\n",
       "        vertical-align: middle;\n",
       "    }\n",
       "\n",
       "    .dataframe tbody tr th {\n",
       "        vertical-align: top;\n",
       "    }\n",
       "\n",
       "    .dataframe thead th {\n",
       "        text-align: right;\n",
       "    }\n",
       "</style>\n",
       "<table border=\"1\" class=\"dataframe\">\n",
       "  <thead>\n",
       "    <tr style=\"text-align: right;\">\n",
       "      <th></th>\n",
       "      <th>SEASON</th>\n",
       "      <th>SITE</th>\n",
       "      <th>DUGESIA</th>\n",
       "      <th>S4DUGES</th>\n",
       "    </tr>\n",
       "  </thead>\n",
       "  <tbody>\n",
       "    <tr>\n",
       "      <th>0</th>\n",
       "      <td>WINTER</td>\n",
       "      <td>1W</td>\n",
       "      <td>0.647683</td>\n",
       "      <td>0.897100</td>\n",
       "    </tr>\n",
       "    <tr>\n",
       "      <th>1</th>\n",
       "      <td>WINTER</td>\n",
       "      <td>1W</td>\n",
       "      <td>6.096152</td>\n",
       "      <td>1.571317</td>\n",
       "    </tr>\n",
       "    <tr>\n",
       "      <th>2</th>\n",
       "      <td>WINTER</td>\n",
       "      <td>1W</td>\n",
       "      <td>1.310564</td>\n",
       "      <td>1.069953</td>\n",
       "    </tr>\n",
       "    <tr>\n",
       "      <th>3</th>\n",
       "      <td>WINTER</td>\n",
       "      <td>1W</td>\n",
       "      <td>1.725279</td>\n",
       "      <td>1.146080</td>\n",
       "    </tr>\n",
       "    <tr>\n",
       "      <th>4</th>\n",
       "      <td>WINTER</td>\n",
       "      <td>1W</td>\n",
       "      <td>1.459387</td>\n",
       "      <td>1.099114</td>\n",
       "    </tr>\n",
       "    <tr>\n",
       "      <th>5</th>\n",
       "      <td>WINTER</td>\n",
       "      <td>1W</td>\n",
       "      <td>1.057561</td>\n",
       "      <td>1.014090</td>\n",
       "    </tr>\n",
       "    <tr>\n",
       "      <th>6</th>\n",
       "      <td>WINTER</td>\n",
       "      <td>2W</td>\n",
       "      <td>1.016298</td>\n",
       "      <td>1.004050</td>\n",
       "    </tr>\n",
       "    <tr>\n",
       "      <th>7</th>\n",
       "      <td>WINTER</td>\n",
       "      <td>2W</td>\n",
       "      <td>16.196794</td>\n",
       "      <td>2.006122</td>\n",
       "    </tr>\n",
       "    <tr>\n",
       "      <th>8</th>\n",
       "      <td>WINTER</td>\n",
       "      <td>2W</td>\n",
       "      <td>1.168081</td>\n",
       "      <td>1.039605</td>\n",
       "    </tr>\n",
       "    <tr>\n",
       "      <th>9</th>\n",
       "      <td>WINTER</td>\n",
       "      <td>2W</td>\n",
       "      <td>1.024299</td>\n",
       "      <td>1.006020</td>\n",
       "    </tr>\n",
       "  </tbody>\n",
       "</table>\n",
       "</div>"
      ],
      "text/plain": [
       "   SEASON SITE    DUGESIA   S4DUGES\n",
       "0  WINTER   1W   0.647683  0.897100\n",
       "1  WINTER   1W   6.096152  1.571317\n",
       "2  WINTER   1W   1.310564  1.069953\n",
       "3  WINTER   1W   1.725279  1.146080\n",
       "4  WINTER   1W   1.459387  1.099114\n",
       "5  WINTER   1W   1.057561  1.014090\n",
       "6  WINTER   2W   1.016298  1.004050\n",
       "7  WINTER   2W  16.196794  2.006122\n",
       "8  WINTER   2W   1.168081  1.039605\n",
       "9  WINTER   2W   1.024299  1.006020"
      ]
     },
     "execution_count": 5,
     "metadata": {},
     "output_type": "execute_result"
    }
   ],
   "source": [
    "curdies['SEASON'] = pd.Categorical(curdies['SEASON'].apply(lambda x: x.strip()), categories=['WINTER', 'SUMMER'], ordered=True)\n",
    "curdies['SITE'] = pd.Categorical(curdies['SITE'], ordered=False)\n",
    "curdies['SITE'].cat.rename_categories(labels_SITE, inplace=True)\n",
    "curdies.head(10)"
   ]
  },
  {
   "cell_type": "code",
   "execution_count": 6,
   "metadata": {},
   "outputs": [
    {
     "data": {
      "text/html": [
       "<div>\n",
       "<style scoped>\n",
       "    .dataframe tbody tr th:only-of-type {\n",
       "        vertical-align: middle;\n",
       "    }\n",
       "\n",
       "    .dataframe tbody tr th {\n",
       "        vertical-align: top;\n",
       "    }\n",
       "\n",
       "    .dataframe thead th {\n",
       "        text-align: right;\n",
       "    }\n",
       "</style>\n",
       "<table border=\"1\" class=\"dataframe\">\n",
       "  <thead>\n",
       "    <tr style=\"text-align: right;\">\n",
       "      <th></th>\n",
       "      <th>index</th>\n",
       "      <th>SEASON</th>\n",
       "      <th>SITE</th>\n",
       "      <th>DUGESIA</th>\n",
       "      <th>S4DUGES</th>\n",
       "    </tr>\n",
       "  </thead>\n",
       "  <tbody>\n",
       "    <tr>\n",
       "      <th>0</th>\n",
       "      <td>0</td>\n",
       "      <td>WINTER</td>\n",
       "      <td>1W</td>\n",
       "      <td>2.049437</td>\n",
       "      <td>1.132942</td>\n",
       "    </tr>\n",
       "    <tr>\n",
       "      <th>1</th>\n",
       "      <td>1</td>\n",
       "      <td>WINTER</td>\n",
       "      <td>2W</td>\n",
       "      <td>4.181908</td>\n",
       "      <td>1.271870</td>\n",
       "    </tr>\n",
       "    <tr>\n",
       "      <th>2</th>\n",
       "      <td>2</td>\n",
       "      <td>WINTER</td>\n",
       "      <td>3W</td>\n",
       "      <td>0.678206</td>\n",
       "      <td>0.867871</td>\n",
       "    </tr>\n",
       "    <tr>\n",
       "      <th>3</th>\n",
       "      <td>9</td>\n",
       "      <td>SUMMER</td>\n",
       "      <td>4S</td>\n",
       "      <td>0.419095</td>\n",
       "      <td>0.350821</td>\n",
       "    </tr>\n",
       "    <tr>\n",
       "      <th>4</th>\n",
       "      <td>10</td>\n",
       "      <td>SUMMER</td>\n",
       "      <td>5S</td>\n",
       "      <td>0.229086</td>\n",
       "      <td>0.180462</td>\n",
       "    </tr>\n",
       "    <tr>\n",
       "      <th>5</th>\n",
       "      <td>11</td>\n",
       "      <td>SUMMER</td>\n",
       "      <td>6S</td>\n",
       "      <td>0.194244</td>\n",
       "      <td>0.381122</td>\n",
       "    </tr>\n",
       "  </tbody>\n",
       "</table>\n",
       "</div>"
      ],
      "text/plain": [
       "   index  SEASON SITE   DUGESIA   S4DUGES\n",
       "0      0  WINTER   1W  2.049437  1.132942\n",
       "1      1  WINTER   2W  4.181908  1.271870\n",
       "2      2  WINTER   3W  0.678206  0.867871\n",
       "3      9  SUMMER   4S  0.419095  0.350821\n",
       "4     10  SUMMER   5S  0.229086  0.180462\n",
       "5     11  SUMMER   6S  0.194244  0.381122"
      ]
     },
     "execution_count": 6,
     "metadata": {},
     "output_type": "execute_result"
    }
   ],
   "source": [
    "curdies_agg = curdies.groupby(by=['SEASON', 'SITE'], as_index=False).mean()\n",
    "curdies_agg.dropna(axis=0, inplace=True)\n",
    "curdies_agg.reset_index(inplace=True)\n",
    "curdies_agg"
   ]
  },
  {
   "cell_type": "code",
   "execution_count": 7,
   "metadata": {},
   "outputs": [
    {
     "data": {
      "text/plain": [
       "<matplotlib.axes._subplots.AxesSubplot at 0x200e7020668>"
      ]
     },
     "execution_count": 7,
     "metadata": {},
     "output_type": "execute_result"
    },
    {
     "data": {
      "image/png": "[encoded data removed]",
      "text/plain": [
       "<Figure size 432x288 with 2 Axes>"
      ]
     },
     "metadata": {},
     "output_type": "display_data"
    }
   ],
   "source": [
    "fig, ax = plt.subplots(1, 2, sharex=True, sharey=True)\n",
    "\n",
    "sns.boxplot(data=curdies_agg, x='SEASON', y='DUGESIA', ax=ax[0]) # variance is non heterogeneous\n",
    "sns.boxplot(data=curdies_agg, x='SEASON', y='S4DUGES', ax=ax[1]) # the 4th root transformation helps at making the variance heterogeneous"
   ]
  },
  {
   "cell_type": "markdown",
   "metadata": {},
   "source": [
    "## Fit hierarchical model\n",
    "I will use the matrix parametrization"
   ]
  },
  {
   "cell_type": "code",
   "execution_count": 8,
   "metadata": {},
   "outputs": [
    {
     "data": {
      "text/plain": [
       "array([[1., 0.],\n",
       "       [1., 0.],\n",
       "       [1., 0.],\n",
       "       [1., 0.],\n",
       "       [1., 0.],\n",
       "       [1., 0.],\n",
       "       [1., 0.],\n",
       "       [1., 0.],\n",
       "       [1., 0.],\n",
       "       [1., 0.],\n",
       "       [1., 0.],\n",
       "       [1., 0.],\n",
       "       [1., 0.],\n",
       "       [1., 0.],\n",
       "       [1., 0.],\n",
       "       [1., 0.],\n",
       "       [1., 0.],\n",
       "       [1., 0.],\n",
       "       [1., 1.],\n",
       "       [1., 1.],\n",
       "       [1., 1.],\n",
       "       [1., 1.],\n",
       "       [1., 1.],\n",
       "       [1., 1.],\n",
       "       [1., 1.],\n",
       "       [1., 1.],\n",
       "       [1., 1.],\n",
       "       [1., 1.],\n",
       "       [1., 1.],\n",
       "       [1., 1.],\n",
       "       [1., 1.],\n",
       "       [1., 1.],\n",
       "       [1., 1.],\n",
       "       [1., 1.],\n",
       "       [1., 1.],\n",
       "       [1., 1.]])"
      ]
     },
     "execution_count": 8,
     "metadata": {},
     "output_type": "execute_result"
    }
   ],
   "source": [
    "#X = patsy.dmatrix('SEASON', data=curdies_agg, return_type='dataframe')\n",
    "#X # the size should be (n_sites, n_seasons), that is the number of row should be equal to the number of random factors\n",
    "X = patsy.dmatrix(\"SEASON\", data=curdies, return_type='dataframe')\n",
    "X = np.asarray(X)\n",
    "X"
   ]
  },
  {
   "cell_type": "code",
   "execution_count": 9,
   "metadata": {},
   "outputs": [],
   "source": [
    "# Random effect on the intercepts\n",
    "Z = patsy.dmatrix('-1 + SITE', data=curdies, return_type='dataframe')\n",
    "Z = np.asarray(Z)"
   ]
  },
  {
   "cell_type": "code",
   "execution_count": 10,
   "metadata": {},
   "outputs": [
    {
     "data": {
      "text/plain": [
       "array([0.8970995, 1.5713175, 1.0699526, 1.1460797, 1.0991136, 1.0140897,\n",
       "       1.0040498, 2.0061216, 1.0396048, 1.0060202, 1.1908882, 1.3845343,\n",
       "       0.9111253, 1.0507807, 1.0271582, 0.9002881, 0.6074385, 0.7104333,\n",
       "       0.       , 0.       , 0.9849349, 0.       , 0.       , 1.1199931,\n",
       "       1.0827734, 0.       , 0.       , 0.       , 0.       , 0.       ,\n",
       "       0.       , 0.       , 0.6037669, 0.       , 0.9006648, 0.7823021])"
      ]
     },
     "execution_count": 10,
     "metadata": {},
     "output_type": "execute_result"
    }
   ],
   "source": [
    "Y = np.asarray(curdies.S4DUGES)\n",
    "Y"
   ]
  },
  {
   "cell_type": "code",
   "execution_count": 11,
   "metadata": {
    "scrolled": true
   },
   "outputs": [
    {
     "name": "stderr",
     "output_type": "stream",
     "text": [
      "C:\\Miniconda3\\envs\\GLM_with_PyMC3\\lib\\site-packages\\pymc3\\model.py:384: FutureWarning: Conversion of the second argument of issubdtype from `float` to `np.floating` is deprecated. In future, it will be treated as `np.float64 == np.dtype(float).type`.\n",
      "  if not np.issubdtype(var.dtype, float):\n",
      "WARNING (theano.tensor.blas): We did not find a dynamic library in the library_dir of the library we use for blas. If you use ATLAS, make sure to compile it with dynamics library.\n",
      "Multiprocess sampling (2 chains in 2 jobs)\n",
      "NUTS: [sigma_log__, gamma_Z, sigma_Z_log__, beta_X, sigma_X_log__]\n",
      "There were 15 divergences after tuning. Increase `target_accept` or reparameterize.\n",
      "There were 10 divergences after tuning. Increase `target_accept` or reparameterize.\n",
      "The number of effective samples is smaller than 10% for some parameters.\n"
     ]
    }
   ],
   "source": [
    "with pm.Model() as model:\n",
    "    \n",
    "    ## Priors\n",
    "    # SEASON (2 levels)\n",
    "    # The values split on season have the same variance (see boxplot above)\n",
    "    sigma_X = pm.HalfCauchy('sigma_X', beta=5)\n",
    "    \n",
    "    # Coefficients for WINTER and SUMMER\n",
    "    beta_X = pm.Normal('beta_X', mu=0, sd=sigma_X, shape=X.shape[1])\n",
    "    \n",
    "    estimate_X = pm.math.dot(X, beta_X)\n",
    "     \n",
    "    # SITE (6 levels)\n",
    "    # There are 6 different sites, 3 within SEASON\n",
    "    sigma_Z = pm.HalfCauchy('sigma_Z', beta=5)\n",
    "    \n",
    "    # Centered version\n",
    "    gamma_Z = pm.Normal('gamma_Z', mu=0, sd=sigma_Z, shape=Z.shape[1])\n",
    "    \n",
    "    # Non Centered version\n",
    "    #gamma_Z_offset = pm.Normal('gamma_Z_offset', mu=0, sd=1, shape=Z_.shape[1])\n",
    "    #gamma_Z = pm.Deterministic('gamma_Z', gamma_Z_offset * sigma_Z)\n",
    "    \n",
    "    estimate_Z = pm.math.dot(Z, gamma_Z)\n",
    "    \n",
    "    ## likelihood\n",
    "    estimate = estimate_X + estimate_Z\n",
    "    sigma = pm.HalfCauchy('sigma', beta=5) # unexplained variability\n",
    "    y_likelihood = pm.Normal('y_likelihood', mu=estimate, sd=sigma, observed=Y)\n",
    "    \n",
    "    trace = pm.sample(draws=3000, chains=2, step=pm.NUTS(), njobs=2, tune=1000)"
   ]
  },
  {
   "cell_type": "code",
   "execution_count": 12,
   "metadata": {
    "scrolled": true
   },
   "outputs": [
    {
     "data": {
      "image/png": "[encoded data removed]",
      "text/plain": [
       "<Figure size 864x720 with 10 Axes>"
      ]
     },
     "metadata": {},
     "output_type": "display_data"
    }
   ],
   "source": [
    "_ = pm.traceplot(trace)"
   ]
  },
  {
   "cell_type": "code",
   "execution_count": 13,
   "metadata": {
    "scrolled": true
   },
   "outputs": [
    {
     "data": {
      "text/html": [
       "<div>\n",
       "<style scoped>\n",
       "    .dataframe tbody tr th:only-of-type {\n",
       "        vertical-align: middle;\n",
       "    }\n",
       "\n",
       "    .dataframe tbody tr th {\n",
       "        vertical-align: top;\n",
       "    }\n",
       "\n",
       "    .dataframe thead th {\n",
       "        text-align: right;\n",
       "    }\n",
       "</style>\n",
       "<table border=\"1\" class=\"dataframe\">\n",
       "  <thead>\n",
       "    <tr style=\"text-align: right;\">\n",
       "      <th></th>\n",
       "      <th>mean</th>\n",
       "      <th>sd</th>\n",
       "      <th>mc_error</th>\n",
       "      <th>hpd_2.5</th>\n",
       "      <th>hpd_97.5</th>\n",
       "      <th>n_eff</th>\n",
       "      <th>Rhat</th>\n",
       "    </tr>\n",
       "  </thead>\n",
       "  <tbody>\n",
       "    <tr>\n",
       "      <th>beta_X__0</th>\n",
       "      <td>1.035850</td>\n",
       "      <td>0.214385</td>\n",
       "      <td>0.007375</td>\n",
       "      <td>0.600705</td>\n",
       "      <td>1.437971</td>\n",
       "      <td>779.0</td>\n",
       "      <td>0.999914</td>\n",
       "    </tr>\n",
       "    <tr>\n",
       "      <th>beta_X__1</th>\n",
       "      <td>-0.717334</td>\n",
       "      <td>0.279942</td>\n",
       "      <td>0.007962</td>\n",
       "      <td>-1.268687</td>\n",
       "      <td>-0.131649</td>\n",
       "      <td>1111.0</td>\n",
       "      <td>1.000209</td>\n",
       "    </tr>\n",
       "    <tr>\n",
       "      <th>gamma_Z__0</th>\n",
       "      <td>0.059148</td>\n",
       "      <td>0.214967</td>\n",
       "      <td>0.007374</td>\n",
       "      <td>-0.319611</td>\n",
       "      <td>0.558605</td>\n",
       "      <td>818.0</td>\n",
       "      <td>0.999839</td>\n",
       "    </tr>\n",
       "    <tr>\n",
       "      <th>gamma_Z__1</th>\n",
       "      <td>0.124319</td>\n",
       "      <td>0.227841</td>\n",
       "      <td>0.008554</td>\n",
       "      <td>-0.257147</td>\n",
       "      <td>0.615978</td>\n",
       "      <td>700.0</td>\n",
       "      <td>0.999900</td>\n",
       "    </tr>\n",
       "    <tr>\n",
       "      <th>gamma_Z__2</th>\n",
       "      <td>-0.063009</td>\n",
       "      <td>0.204459</td>\n",
       "      <td>0.006439</td>\n",
       "      <td>-0.542363</td>\n",
       "      <td>0.293661</td>\n",
       "      <td>963.0</td>\n",
       "      <td>1.000111</td>\n",
       "    </tr>\n",
       "    <tr>\n",
       "      <th>gamma_Z__3</th>\n",
       "      <td>0.014460</td>\n",
       "      <td>0.173035</td>\n",
       "      <td>0.002713</td>\n",
       "      <td>-0.306295</td>\n",
       "      <td>0.399474</td>\n",
       "      <td>2473.0</td>\n",
       "      <td>1.000020</td>\n",
       "    </tr>\n",
       "    <tr>\n",
       "      <th>gamma_Z__4</th>\n",
       "      <td>-0.065040</td>\n",
       "      <td>0.181989</td>\n",
       "      <td>0.003549</td>\n",
       "      <td>-0.433915</td>\n",
       "      <td>0.264627</td>\n",
       "      <td>2088.0</td>\n",
       "      <td>0.999836</td>\n",
       "    </tr>\n",
       "    <tr>\n",
       "      <th>gamma_Z__5</th>\n",
       "      <td>0.027307</td>\n",
       "      <td>0.173836</td>\n",
       "      <td>0.003031</td>\n",
       "      <td>-0.304117</td>\n",
       "      <td>0.396721</td>\n",
       "      <td>2420.0</td>\n",
       "      <td>1.000159</td>\n",
       "    </tr>\n",
       "    <tr>\n",
       "      <th>sigma_X</th>\n",
       "      <td>2.072993</td>\n",
       "      <td>1.983698</td>\n",
       "      <td>0.041553</td>\n",
       "      <td>0.108822</td>\n",
       "      <td>5.477498</td>\n",
       "      <td>2148.0</td>\n",
       "      <td>0.999852</td>\n",
       "    </tr>\n",
       "    <tr>\n",
       "      <th>sigma_Z</th>\n",
       "      <td>0.203837</td>\n",
       "      <td>0.207057</td>\n",
       "      <td>0.008521</td>\n",
       "      <td>0.015806</td>\n",
       "      <td>0.576304</td>\n",
       "      <td>564.0</td>\n",
       "      <td>1.001645</td>\n",
       "    </tr>\n",
       "    <tr>\n",
       "      <th>sigma</th>\n",
       "      <td>0.402416</td>\n",
       "      <td>0.053586</td>\n",
       "      <td>0.001153</td>\n",
       "      <td>0.310585</td>\n",
       "      <td>0.512338</td>\n",
       "      <td>2718.0</td>\n",
       "      <td>1.001289</td>\n",
       "    </tr>\n",
       "  </tbody>\n",
       "</table>\n",
       "</div>"
      ],
      "text/plain": [
       "                mean        sd  mc_error   hpd_2.5  hpd_97.5   n_eff      Rhat\n",
       "beta_X__0   1.035850  0.214385  0.007375  0.600705  1.437971   779.0  0.999914\n",
       "beta_X__1  -0.717334  0.279942  0.007962 -1.268687 -0.131649  1111.0  1.000209\n",
       "gamma_Z__0  0.059148  0.214967  0.007374 -0.319611  0.558605   818.0  0.999839\n",
       "gamma_Z__1  0.124319  0.227841  0.008554 -0.257147  0.615978   700.0  0.999900\n",
       "gamma_Z__2 -0.063009  0.204459  0.006439 -0.542363  0.293661   963.0  1.000111\n",
       "gamma_Z__3  0.014460  0.173035  0.002713 -0.306295  0.399474  2473.0  1.000020\n",
       "gamma_Z__4 -0.065040  0.181989  0.003549 -0.433915  0.264627  2088.0  0.999836\n",
       "gamma_Z__5  0.027307  0.173836  0.003031 -0.304117  0.396721  2420.0  1.000159\n",
       "sigma_X     2.072993  1.983698  0.041553  0.108822  5.477498  2148.0  0.999852\n",
       "sigma_Z     0.203837  0.207057  0.008521  0.015806  0.576304   564.0  1.001645\n",
       "sigma       0.402416  0.053586  0.001153  0.310585  0.512338  2718.0  1.001289"
      ]
     },
     "execution_count": 13,
     "metadata": {},
     "output_type": "execute_result"
    }
   ],
   "source": [
    "pm.summary(trace)"
   ]
  },
  {
   "cell_type": "code",
   "execution_count": 14,
   "metadata": {},
   "outputs": [
    {
     "data": {
      "text/plain": [
       "array([<matplotlib.axes._subplots.AxesSubplot object at 0x00000200D72BCE10>,\n",
       "       <matplotlib.axes._subplots.AxesSubplot object at 0x00000200EAF312B0>],\n",
       "      dtype=object)"
      ]
     },
     "execution_count": 14,
     "metadata": {},
     "output_type": "execute_result"
    },
    {
     "data": {
      "image/png": "[encoded data removed]",
      "text/plain": [
       "<Figure size 864x180 with 2 Axes>"
      ]
     },
     "metadata": {},
     "output_type": "display_data"
    }
   ],
   "source": [
    "pm.plot_posterior(trace, varnames=['beta_X'])"
   ]
  },
  {
   "cell_type": "markdown",
   "metadata": {},
   "source": [
    "The `beta_X` seems to be close enough"
   ]
  },
  {
   "cell_type": "code",
   "execution_count": 15,
   "metadata": {},
   "outputs": [
    {
     "data": {
      "text/html": [
       "<div>\n",
       "<style scoped>\n",
       "    .dataframe tbody tr th:only-of-type {\n",
       "        vertical-align: middle;\n",
       "    }\n",
       "\n",
       "    .dataframe tbody tr th {\n",
       "        vertical-align: top;\n",
       "    }\n",
       "\n",
       "    .dataframe thead th {\n",
       "        text-align: right;\n",
       "    }\n",
       "</style>\n",
       "<table border=\"1\" class=\"dataframe\">\n",
       "  <thead>\n",
       "    <tr style=\"text-align: right;\">\n",
       "      <th></th>\n",
       "      <th>S4DUGES</th>\n",
       "    </tr>\n",
       "    <tr>\n",
       "      <th>SEASON</th>\n",
       "      <th></th>\n",
       "    </tr>\n",
       "  </thead>\n",
       "  <tbody>\n",
       "    <tr>\n",
       "      <th>WINTER</th>\n",
       "      <td>1.090894</td>\n",
       "    </tr>\n",
       "    <tr>\n",
       "      <th>SUMMER</th>\n",
       "      <td>0.304135</td>\n",
       "    </tr>\n",
       "  </tbody>\n",
       "</table>\n",
       "</div>"
      ],
      "text/plain": [
       "         S4DUGES\n",
       "SEASON          \n",
       "WINTER  1.090894\n",
       "SUMMER  0.304135"
      ]
     },
     "execution_count": 15,
     "metadata": {},
     "output_type": "execute_result"
    }
   ],
   "source": [
    "curdies.groupby(['SEASON'])[['S4DUGES']].mean()"
   ]
  },
  {
   "cell_type": "markdown",
   "metadata": {},
   "source": [
    "The `sigma` seems to be ok"
   ]
  },
  {
   "cell_type": "code",
   "execution_count": 16,
   "metadata": {},
   "outputs": [
    {
     "data": {
      "text/plain": [
       "0.3847746117705029"
      ]
     },
     "execution_count": 16,
     "metadata": {},
     "output_type": "execute_result"
    }
   ],
   "source": [
    "curdies.groupby(['SEASON'])['S4DUGES'].std().mean()"
   ]
  },
  {
   "cell_type": "code",
   "execution_count": 17,
   "metadata": {},
   "outputs": [],
   "source": [
    "mcmc_X = trace['beta_X']"
   ]
  },
  {
   "cell_type": "code",
   "execution_count": 18,
   "metadata": {},
   "outputs": [],
   "source": [
    "fit_X = np.dot(np.asarray(mcmc_X), X.T)"
   ]
  },
  {
   "cell_type": "code",
   "execution_count": 19,
   "metadata": {},
   "outputs": [
    {
     "data": {
      "text/plain": [
       "array([1.03584983, 1.03584983, 1.03584983, 1.03584983, 1.03584983,\n",
       "       1.03584983, 1.03584983, 1.03584983, 1.03584983, 1.03584983,\n",
       "       1.03584983, 1.03584983, 1.03584983, 1.03584983, 1.03584983,\n",
       "       1.03584983, 1.03584983, 1.03584983, 0.31851573, 0.31851573,\n",
       "       0.31851573, 0.31851573, 0.31851573, 0.31851573, 0.31851573,\n",
       "       0.31851573, 0.31851573, 0.31851573, 0.31851573, 0.31851573,\n",
       "       0.31851573, 0.31851573, 0.31851573, 0.31851573, 0.31851573,\n",
       "       0.31851573])"
      ]
     },
     "execution_count": 19,
     "metadata": {},
     "output_type": "execute_result"
    }
   ],
   "source": [
    "fit_X.mean(axis=0)"
   ]
  },
  {
   "cell_type": "code",
   "execution_count": 20,
   "metadata": {},
   "outputs": [],
   "source": [
    "mcmc_Z = trace['gamma_Z']"
   ]
  },
  {
   "cell_type": "code",
   "execution_count": 21,
   "metadata": {},
   "outputs": [],
   "source": [
    "fit_Z = np.dot(np.asarray(mcmc_Z), Z.T)"
   ]
  },
  {
   "cell_type": "code",
   "execution_count": 22,
   "metadata": {},
   "outputs": [
    {
     "data": {
      "text/plain": [
       "array([ 0.05914825,  0.05914825,  0.05914825,  0.05914825,  0.05914825,\n",
       "        0.05914825,  0.12431916,  0.12431916,  0.12431916,  0.12431916,\n",
       "        0.12431916,  0.12431916, -0.06300868, -0.06300868, -0.06300868,\n",
       "       -0.06300868, -0.06300868, -0.06300868,  0.01446043,  0.01446043,\n",
       "        0.01446043,  0.01446043,  0.01446043,  0.01446043, -0.0650401 ,\n",
       "       -0.0650401 , -0.0650401 , -0.0650401 , -0.0650401 , -0.0650401 ,\n",
       "        0.02730719,  0.02730719,  0.02730719,  0.02730719,  0.02730719,\n",
       "        0.02730719])"
      ]
     },
     "execution_count": 22,
     "metadata": {},
     "output_type": "execute_result"
    }
   ],
   "source": [
    "fit_Z.mean(axis=0)"
   ]
  },
  {
   "cell_type": "code",
   "execution_count": 23,
   "metadata": {},
   "outputs": [],
   "source": [
    "fit = fit_X + fit_Z"
   ]
  },
  {
   "cell_type": "code",
   "execution_count": 24,
   "metadata": {},
   "outputs": [],
   "source": [
    "curdies['S4DUGES_FIT'] = fit.mean(axis=0)"
   ]
  },
  {
   "cell_type": "code",
   "execution_count": 25,
   "metadata": {},
   "outputs": [
    {
     "data": {
      "text/html": [
       "<div>\n",
       "<style scoped>\n",
       "    .dataframe tbody tr th:only-of-type {\n",
       "        vertical-align: middle;\n",
       "    }\n",
       "\n",
       "    .dataframe tbody tr th {\n",
       "        vertical-align: top;\n",
       "    }\n",
       "\n",
       "    .dataframe thead th {\n",
       "        text-align: right;\n",
       "    }\n",
       "</style>\n",
       "<table border=\"1\" class=\"dataframe\">\n",
       "  <thead>\n",
       "    <tr style=\"text-align: right;\">\n",
       "      <th></th>\n",
       "      <th>SEASON</th>\n",
       "      <th>SITE</th>\n",
       "      <th>DUGESIA</th>\n",
       "      <th>S4DUGES</th>\n",
       "      <th>S4DUGES_FIT</th>\n",
       "    </tr>\n",
       "  </thead>\n",
       "  <tbody>\n",
       "    <tr>\n",
       "      <th>0</th>\n",
       "      <td>WINTER</td>\n",
       "      <td>1W</td>\n",
       "      <td>0.647683</td>\n",
       "      <td>0.897100</td>\n",
       "      <td>1.094998</td>\n",
       "    </tr>\n",
       "    <tr>\n",
       "      <th>1</th>\n",
       "      <td>WINTER</td>\n",
       "      <td>1W</td>\n",
       "      <td>6.096152</td>\n",
       "      <td>1.571317</td>\n",
       "      <td>1.094998</td>\n",
       "    </tr>\n",
       "    <tr>\n",
       "      <th>2</th>\n",
       "      <td>WINTER</td>\n",
       "      <td>1W</td>\n",
       "      <td>1.310564</td>\n",
       "      <td>1.069953</td>\n",
       "      <td>1.094998</td>\n",
       "    </tr>\n",
       "    <tr>\n",
       "      <th>3</th>\n",
       "      <td>WINTER</td>\n",
       "      <td>1W</td>\n",
       "      <td>1.725279</td>\n",
       "      <td>1.146080</td>\n",
       "      <td>1.094998</td>\n",
       "    </tr>\n",
       "    <tr>\n",
       "      <th>4</th>\n",
       "      <td>WINTER</td>\n",
       "      <td>1W</td>\n",
       "      <td>1.459387</td>\n",
       "      <td>1.099114</td>\n",
       "      <td>1.094998</td>\n",
       "    </tr>\n",
       "    <tr>\n",
       "      <th>5</th>\n",
       "      <td>WINTER</td>\n",
       "      <td>1W</td>\n",
       "      <td>1.057561</td>\n",
       "      <td>1.014090</td>\n",
       "      <td>1.094998</td>\n",
       "    </tr>\n",
       "    <tr>\n",
       "      <th>6</th>\n",
       "      <td>WINTER</td>\n",
       "      <td>2W</td>\n",
       "      <td>1.016298</td>\n",
       "      <td>1.004050</td>\n",
       "      <td>1.160169</td>\n",
       "    </tr>\n",
       "    <tr>\n",
       "      <th>7</th>\n",
       "      <td>WINTER</td>\n",
       "      <td>2W</td>\n",
       "      <td>16.196794</td>\n",
       "      <td>2.006122</td>\n",
       "      <td>1.160169</td>\n",
       "    </tr>\n",
       "    <tr>\n",
       "      <th>8</th>\n",
       "      <td>WINTER</td>\n",
       "      <td>2W</td>\n",
       "      <td>1.168081</td>\n",
       "      <td>1.039605</td>\n",
       "      <td>1.160169</td>\n",
       "    </tr>\n",
       "    <tr>\n",
       "      <th>9</th>\n",
       "      <td>WINTER</td>\n",
       "      <td>2W</td>\n",
       "      <td>1.024299</td>\n",
       "      <td>1.006020</td>\n",
       "      <td>1.160169</td>\n",
       "    </tr>\n",
       "    <tr>\n",
       "      <th>10</th>\n",
       "      <td>WINTER</td>\n",
       "      <td>2W</td>\n",
       "      <td>2.011333</td>\n",
       "      <td>1.190888</td>\n",
       "      <td>1.160169</td>\n",
       "    </tr>\n",
       "    <tr>\n",
       "      <th>11</th>\n",
       "      <td>WINTER</td>\n",
       "      <td>2W</td>\n",
       "      <td>3.674641</td>\n",
       "      <td>1.384534</td>\n",
       "      <td>1.160169</td>\n",
       "    </tr>\n",
       "    <tr>\n",
       "      <th>12</th>\n",
       "      <td>WINTER</td>\n",
       "      <td>3W</td>\n",
       "      <td>0.689148</td>\n",
       "      <td>0.911125</td>\n",
       "      <td>0.972841</td>\n",
       "    </tr>\n",
       "    <tr>\n",
       "      <th>13</th>\n",
       "      <td>WINTER</td>\n",
       "      <td>3W</td>\n",
       "      <td>1.219125</td>\n",
       "      <td>1.050781</td>\n",
       "      <td>0.972841</td>\n",
       "    </tr>\n",
       "    <tr>\n",
       "      <th>14</th>\n",
       "      <td>WINTER</td>\n",
       "      <td>3W</td>\n",
       "      <td>1.113139</td>\n",
       "      <td>1.027158</td>\n",
       "      <td>0.972841</td>\n",
       "    </tr>\n",
       "    <tr>\n",
       "      <th>15</th>\n",
       "      <td>WINTER</td>\n",
       "      <td>3W</td>\n",
       "      <td>0.656940</td>\n",
       "      <td>0.900288</td>\n",
       "      <td>0.972841</td>\n",
       "    </tr>\n",
       "    <tr>\n",
       "      <th>16</th>\n",
       "      <td>WINTER</td>\n",
       "      <td>3W</td>\n",
       "      <td>0.136147</td>\n",
       "      <td>0.607438</td>\n",
       "      <td>0.972841</td>\n",
       "    </tr>\n",
       "    <tr>\n",
       "      <th>17</th>\n",
       "      <td>WINTER</td>\n",
       "      <td>3W</td>\n",
       "      <td>0.254738</td>\n",
       "      <td>0.710433</td>\n",
       "      <td>0.972841</td>\n",
       "    </tr>\n",
       "    <tr>\n",
       "      <th>18</th>\n",
       "      <td>SUMMER</td>\n",
       "      <td>4S</td>\n",
       "      <td>0.000000</td>\n",
       "      <td>0.000000</td>\n",
       "      <td>0.332976</td>\n",
       "    </tr>\n",
       "    <tr>\n",
       "      <th>19</th>\n",
       "      <td>SUMMER</td>\n",
       "      <td>4S</td>\n",
       "      <td>0.000000</td>\n",
       "      <td>0.000000</td>\n",
       "      <td>0.332976</td>\n",
       "    </tr>\n",
       "    <tr>\n",
       "      <th>20</th>\n",
       "      <td>SUMMER</td>\n",
       "      <td>4S</td>\n",
       "      <td>0.941088</td>\n",
       "      <td>0.984935</td>\n",
       "      <td>0.332976</td>\n",
       "    </tr>\n",
       "    <tr>\n",
       "      <th>21</th>\n",
       "      <td>SUMMER</td>\n",
       "      <td>4S</td>\n",
       "      <td>0.000000</td>\n",
       "      <td>0.000000</td>\n",
       "      <td>0.332976</td>\n",
       "    </tr>\n",
       "    <tr>\n",
       "      <th>22</th>\n",
       "      <td>SUMMER</td>\n",
       "      <td>4S</td>\n",
       "      <td>0.000000</td>\n",
       "      <td>0.000000</td>\n",
       "      <td>0.332976</td>\n",
       "    </tr>\n",
       "    <tr>\n",
       "      <th>23</th>\n",
       "      <td>SUMMER</td>\n",
       "      <td>4S</td>\n",
       "      <td>1.573481</td>\n",
       "      <td>1.119993</td>\n",
       "      <td>0.332976</td>\n",
       "    </tr>\n",
       "    <tr>\n",
       "      <th>24</th>\n",
       "      <td>SUMMER</td>\n",
       "      <td>5S</td>\n",
       "      <td>1.374517</td>\n",
       "      <td>1.082773</td>\n",
       "      <td>0.253476</td>\n",
       "    </tr>\n",
       "    <tr>\n",
       "      <th>25</th>\n",
       "      <td>SUMMER</td>\n",
       "      <td>5S</td>\n",
       "      <td>0.000000</td>\n",
       "      <td>0.000000</td>\n",
       "      <td>0.253476</td>\n",
       "    </tr>\n",
       "    <tr>\n",
       "      <th>26</th>\n",
       "      <td>SUMMER</td>\n",
       "      <td>5S</td>\n",
       "      <td>0.000000</td>\n",
       "      <td>0.000000</td>\n",
       "      <td>0.253476</td>\n",
       "    </tr>\n",
       "    <tr>\n",
       "      <th>27</th>\n",
       "      <td>SUMMER</td>\n",
       "      <td>5S</td>\n",
       "      <td>0.000000</td>\n",
       "      <td>0.000000</td>\n",
       "      <td>0.253476</td>\n",
       "    </tr>\n",
       "    <tr>\n",
       "      <th>28</th>\n",
       "      <td>SUMMER</td>\n",
       "      <td>5S</td>\n",
       "      <td>0.000000</td>\n",
       "      <td>0.000000</td>\n",
       "      <td>0.253476</td>\n",
       "    </tr>\n",
       "    <tr>\n",
       "      <th>29</th>\n",
       "      <td>SUMMER</td>\n",
       "      <td>5S</td>\n",
       "      <td>0.000000</td>\n",
       "      <td>0.000000</td>\n",
       "      <td>0.253476</td>\n",
       "    </tr>\n",
       "    <tr>\n",
       "      <th>30</th>\n",
       "      <td>SUMMER</td>\n",
       "      <td>6S</td>\n",
       "      <td>0.000000</td>\n",
       "      <td>0.000000</td>\n",
       "      <td>0.345823</td>\n",
       "    </tr>\n",
       "    <tr>\n",
       "      <th>31</th>\n",
       "      <td>SUMMER</td>\n",
       "      <td>6S</td>\n",
       "      <td>0.000000</td>\n",
       "      <td>0.000000</td>\n",
       "      <td>0.345823</td>\n",
       "    </tr>\n",
       "    <tr>\n",
       "      <th>32</th>\n",
       "      <td>SUMMER</td>\n",
       "      <td>6S</td>\n",
       "      <td>0.132885</td>\n",
       "      <td>0.603767</td>\n",
       "      <td>0.345823</td>\n",
       "    </tr>\n",
       "    <tr>\n",
       "      <th>33</th>\n",
       "      <td>SUMMER</td>\n",
       "      <td>6S</td>\n",
       "      <td>0.000000</td>\n",
       "      <td>0.000000</td>\n",
       "      <td>0.345823</td>\n",
       "    </tr>\n",
       "    <tr>\n",
       "      <th>34</th>\n",
       "      <td>SUMMER</td>\n",
       "      <td>6S</td>\n",
       "      <td>0.658041</td>\n",
       "      <td>0.900665</td>\n",
       "      <td>0.345823</td>\n",
       "    </tr>\n",
       "    <tr>\n",
       "      <th>35</th>\n",
       "      <td>SUMMER</td>\n",
       "      <td>6S</td>\n",
       "      <td>0.374540</td>\n",
       "      <td>0.782302</td>\n",
       "      <td>0.345823</td>\n",
       "    </tr>\n",
       "  </tbody>\n",
       "</table>\n",
       "</div>"
      ],
      "text/plain": [
       "    SEASON SITE    DUGESIA   S4DUGES  S4DUGES_FIT\n",
       "0   WINTER   1W   0.647683  0.897100     1.094998\n",
       "1   WINTER   1W   6.096152  1.571317     1.094998\n",
       "2   WINTER   1W   1.310564  1.069953     1.094998\n",
       "3   WINTER   1W   1.725279  1.146080     1.094998\n",
       "4   WINTER   1W   1.459387  1.099114     1.094998\n",
       "5   WINTER   1W   1.057561  1.014090     1.094998\n",
       "6   WINTER   2W   1.016298  1.004050     1.160169\n",
       "7   WINTER   2W  16.196794  2.006122     1.160169\n",
       "8   WINTER   2W   1.168081  1.039605     1.160169\n",
       "9   WINTER   2W   1.024299  1.006020     1.160169\n",
       "10  WINTER   2W   2.011333  1.190888     1.160169\n",
       "11  WINTER   2W   3.674641  1.384534     1.160169\n",
       "12  WINTER   3W   0.689148  0.911125     0.972841\n",
       "13  WINTER   3W   1.219125  1.050781     0.972841\n",
       "14  WINTER   3W   1.113139  1.027158     0.972841\n",
       "15  WINTER   3W   0.656940  0.900288     0.972841\n",
       "16  WINTER   3W   0.136147  0.607438     0.972841\n",
       "17  WINTER   3W   0.254738  0.710433     0.972841\n",
       "18  SUMMER   4S   0.000000  0.000000     0.332976\n",
       "19  SUMMER   4S   0.000000  0.000000     0.332976\n",
       "20  SUMMER   4S   0.941088  0.984935     0.332976\n",
       "21  SUMMER   4S   0.000000  0.000000     0.332976\n",
       "22  SUMMER   4S   0.000000  0.000000     0.332976\n",
       "23  SUMMER   4S   1.573481  1.119993     0.332976\n",
       "24  SUMMER   5S   1.374517  1.082773     0.253476\n",
       "25  SUMMER   5S   0.000000  0.000000     0.253476\n",
       "26  SUMMER   5S   0.000000  0.000000     0.253476\n",
       "27  SUMMER   5S   0.000000  0.000000     0.253476\n",
       "28  SUMMER   5S   0.000000  0.000000     0.253476\n",
       "29  SUMMER   5S   0.000000  0.000000     0.253476\n",
       "30  SUMMER   6S   0.000000  0.000000     0.345823\n",
       "31  SUMMER   6S   0.000000  0.000000     0.345823\n",
       "32  SUMMER   6S   0.132885  0.603767     0.345823\n",
       "33  SUMMER   6S   0.000000  0.000000     0.345823\n",
       "34  SUMMER   6S   0.658041  0.900665     0.345823\n",
       "35  SUMMER   6S   0.374540  0.782302     0.345823"
      ]
     },
     "execution_count": 25,
     "metadata": {},
     "output_type": "execute_result"
    }
   ],
   "source": [
    "curdies"
   ]
  },
  {
   "cell_type": "code",
   "execution_count": null,
   "metadata": {},
   "outputs": [],
   "source": []
  }
 ],
 "metadata": {
  "kernelspec": {
   "display_name": "Python 3",
   "language": "python",
   "name": "python3"
  },
  "language_info": {
   "codemirror_mode": {
    "name": "ipython",
    "version": 3
   },
   "file_extension": ".py",
   "mimetype": "text/x-python",
   "name": "python",
   "nbconvert_exporter": "python",
   "pygments_lexer": "ipython3",
   "version": "3.6.4"
  }
 },
 "nbformat": 4,
 "nbformat_minor": 2
}
