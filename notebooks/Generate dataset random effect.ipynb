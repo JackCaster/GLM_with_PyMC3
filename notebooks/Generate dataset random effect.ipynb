{
 "cells": [
  {
   "cell_type": "markdown",
   "metadata": {},
   "source": [
    "# Generate dataset random effect\n",
    "## 1 factors, 1 continuos predictor, random effect\n",
    "Reference: http://www.flutterbys.com.au/stats/tut/tut9.1.html"
   ]
  },
  {
   "cell_type": "markdown",
   "metadata": {},
   "source": [
    "$y_{block} = q_{block} + m_{block}\\cdot\\ x_{block}$\n",
    "\n",
    "Hence the design matrix is $y \\sim block + block:x$ and the vector to be mulitplied with will have a list of the intercepts for each block, following a list of slopes for each block. The effect of x, changes with the block, and this change is the slopes set for a particular block"
   ]
  },
  {
   "cell_type": "code",
   "execution_count": 169,
   "metadata": {},
   "outputs": [],
   "source": [
    "import pandas as pd\n",
    "import numpy as np\n",
    "np.random.seed(1)\n",
    " \n",
    "%matplotlib inline\n",
    "import matplotlib.pyplot as plt\n",
    "import seaborn as sns\n",
    "sns.set()\n",
    "\n",
    "import pymc3 as pm\n",
    "import patsy"
   ]
  },
  {
   "cell_type": "markdown",
   "metadata": {},
   "source": [
    "### Data generation"
   ]
  },
  {
   "cell_type": "code",
   "execution_count": 170,
   "metadata": {},
   "outputs": [],
   "source": [
    "n_groups = 6\n",
    "n_sample = 50\n",
    "n = n_groups * n_sample\n",
    "\n",
    "labels_block = ['Block{}'.format(i+1) for i in range(n_groups)]\n",
    "\n",
    "block = np.repeat(labels_block, repeats=n_sample)"
   ]
  },
  {
   "cell_type": "code",
   "execution_count": 171,
   "metadata": {},
   "outputs": [],
   "source": [
    "x = np.random.uniform(low=0, high=70, size=n)"
   ]
  },
  {
   "cell_type": "code",
   "execution_count": 172,
   "metadata": {},
   "outputs": [
    {
     "data": {
      "text/html": [
       "<div>\n",
       "<style scoped>\n",
       "    .dataframe tbody tr th:only-of-type {\n",
       "        vertical-align: middle;\n",
       "    }\n",
       "\n",
       "    .dataframe tbody tr th {\n",
       "        vertical-align: top;\n",
       "    }\n",
       "\n",
       "    .dataframe thead th {\n",
       "        text-align: right;\n",
       "    }\n",
       "</style>\n",
       "<table border=\"1\" class=\"dataframe\">\n",
       "  <thead>\n",
       "    <tr style=\"text-align: right;\">\n",
       "      <th></th>\n",
       "      <th>block[Block1]</th>\n",
       "      <th>block[Block2]</th>\n",
       "      <th>block[Block3]</th>\n",
       "      <th>block[Block4]</th>\n",
       "      <th>block[Block5]</th>\n",
       "      <th>block[Block6]</th>\n",
       "      <th>block[Block1]:x</th>\n",
       "      <th>block[Block2]:x</th>\n",
       "      <th>block[Block3]:x</th>\n",
       "      <th>block[Block4]:x</th>\n",
       "      <th>block[Block5]:x</th>\n",
       "      <th>block[Block6]:x</th>\n",
       "    </tr>\n",
       "  </thead>\n",
       "  <tbody>\n",
       "    <tr>\n",
       "      <th>0</th>\n",
       "      <td>1.0</td>\n",
       "      <td>0.0</td>\n",
       "      <td>0.0</td>\n",
       "      <td>0.0</td>\n",
       "      <td>0.0</td>\n",
       "      <td>0.0</td>\n",
       "      <td>29.191540</td>\n",
       "      <td>0.0</td>\n",
       "      <td>0.0</td>\n",
       "      <td>0.0</td>\n",
       "      <td>0.0</td>\n",
       "      <td>0.0</td>\n",
       "    </tr>\n",
       "    <tr>\n",
       "      <th>1</th>\n",
       "      <td>1.0</td>\n",
       "      <td>0.0</td>\n",
       "      <td>0.0</td>\n",
       "      <td>0.0</td>\n",
       "      <td>0.0</td>\n",
       "      <td>0.0</td>\n",
       "      <td>50.422715</td>\n",
       "      <td>0.0</td>\n",
       "      <td>0.0</td>\n",
       "      <td>0.0</td>\n",
       "      <td>0.0</td>\n",
       "      <td>0.0</td>\n",
       "    </tr>\n",
       "    <tr>\n",
       "      <th>2</th>\n",
       "      <td>1.0</td>\n",
       "      <td>0.0</td>\n",
       "      <td>0.0</td>\n",
       "      <td>0.0</td>\n",
       "      <td>0.0</td>\n",
       "      <td>0.0</td>\n",
       "      <td>0.008006</td>\n",
       "      <td>0.0</td>\n",
       "      <td>0.0</td>\n",
       "      <td>0.0</td>\n",
       "      <td>0.0</td>\n",
       "      <td>0.0</td>\n",
       "    </tr>\n",
       "    <tr>\n",
       "      <th>3</th>\n",
       "      <td>1.0</td>\n",
       "      <td>0.0</td>\n",
       "      <td>0.0</td>\n",
       "      <td>0.0</td>\n",
       "      <td>0.0</td>\n",
       "      <td>0.0</td>\n",
       "      <td>21.163280</td>\n",
       "      <td>0.0</td>\n",
       "      <td>0.0</td>\n",
       "      <td>0.0</td>\n",
       "      <td>0.0</td>\n",
       "      <td>0.0</td>\n",
       "    </tr>\n",
       "    <tr>\n",
       "      <th>4</th>\n",
       "      <td>1.0</td>\n",
       "      <td>0.0</td>\n",
       "      <td>0.0</td>\n",
       "      <td>0.0</td>\n",
       "      <td>0.0</td>\n",
       "      <td>0.0</td>\n",
       "      <td>10.272912</td>\n",
       "      <td>0.0</td>\n",
       "      <td>0.0</td>\n",
       "      <td>0.0</td>\n",
       "      <td>0.0</td>\n",
       "      <td>0.0</td>\n",
       "    </tr>\n",
       "  </tbody>\n",
       "</table>\n",
       "</div>"
      ],
      "text/plain": [
       "   block[Block1]  block[Block2]  block[Block3]  block[Block4]  block[Block5]  \\\n",
       "0            1.0            0.0            0.0            0.0            0.0   \n",
       "1            1.0            0.0            0.0            0.0            0.0   \n",
       "2            1.0            0.0            0.0            0.0            0.0   \n",
       "3            1.0            0.0            0.0            0.0            0.0   \n",
       "4            1.0            0.0            0.0            0.0            0.0   \n",
       "\n",
       "   block[Block6]  block[Block1]:x  block[Block2]:x  block[Block3]:x  \\\n",
       "0            0.0        29.191540              0.0              0.0   \n",
       "1            0.0        50.422715              0.0              0.0   \n",
       "2            0.0         0.008006              0.0              0.0   \n",
       "3            0.0        21.163280              0.0              0.0   \n",
       "4            0.0        10.272912              0.0              0.0   \n",
       "\n",
       "   block[Block4]:x  block[Block5]:x  block[Block6]:x  \n",
       "0              0.0              0.0              0.0  \n",
       "1              0.0              0.0              0.0  \n",
       "2              0.0              0.0              0.0  \n",
       "3              0.0              0.0              0.0  \n",
       "4              0.0              0.0              0.0  "
      ]
     },
     "execution_count": 172,
     "metadata": {},
     "output_type": "execute_result"
    }
   ],
   "source": [
    "Xmat_intercept = patsy.dmatrix('-1 + block + x', data={'block':block, 'x':x}, return_type='dataframe')\n",
    "Xmat_intercept_slope = patsy.dmatrix('-1 + block*x - x', data={'block':block, 'x':x}, return_type='dataframe')\n",
    "\n",
    "Xmat_intercept.head()\n",
    "Xmat_intercept_slope.head()"
   ]
  },
  {
   "cell_type": "code",
   "execution_count": 173,
   "metadata": {},
   "outputs": [
    {
     "data": {
      "text/plain": [
       "array([2.32426694e+02, 2.32018302e+02, 2.36610203e+02, 2.47921582e+02,\n",
       "       2.28795354e+02, 2.17668793e+02, 4.08840937e-01, 6.67122741e-01,\n",
       "       1.62902096e-01, 1.41251491e+00, 7.50893218e-01, 8.44507511e-01])"
      ]
     },
     "execution_count": 173,
     "metadata": {},
     "output_type": "execute_result"
    }
   ],
   "source": [
    "intercept_mean = 230\n",
    "intercept_sd = 10\n",
    "\n",
    "slope_mean = 1\n",
    "slope_sd = 0.5\n",
    "\n",
    "intercept_effect = np.random.normal(loc=intercept_mean, scale=intercept_sd, size=n_groups)\n",
    "slope_effect =  np.random.normal(loc=slope_mean, scale=slope_sd, size=n_groups)\n",
    "\n",
    "all_effects = np.concatenate((intercept_effect, slope_effect), axis=0)\n",
    "all_effects"
   ]
  },
  {
   "cell_type": "code",
   "execution_count": 174,
   "metadata": {},
   "outputs": [
    {
     "data": {
      "text/plain": [
       "array([244.3613911 , 253.04156426, 232.42996769, 241.07910967,\n",
       "       236.62668152, 235.06932024, 237.75725036, 242.31625041,\n",
       "       243.78172942, 247.84701809, 244.42356587, 252.03689918,\n",
       "       238.27788586, 257.55741928, 233.21049626, 251.61471396,\n",
       "       244.36948445, 248.41576351, 236.44440933, 238.0961343 ,\n",
       "       255.34309558, 260.13724229, 241.39653883, 252.24018228,\n",
       "       257.50795775, 258.02932225, 234.86056326, 233.544398  ,\n",
       "       237.28704836, 257.55813667, 235.24126923, 244.47831692,\n",
       "       259.84040611, 247.68528003, 252.22743253, 241.45639384,\n",
       "       252.07357218, 256.31273432, 232.95008416, 253.89497372,\n",
       "       260.72677698, 253.8383467 , 240.45268332, 255.01497341,\n",
       "       235.38090562, 245.24489903, 258.42966697, 240.82959825,\n",
       "       240.66249814, 236.14796464, 232.57256215, 251.44580465,\n",
       "       238.07485839, 239.61794594, 246.08656795, 233.54547729,\n",
       "       248.44889636, 236.21750715, 248.88355773, 252.04459223,\n",
       "       234.94699705, 243.86811444, 251.89124656, 243.87164263,\n",
       "       233.44791312, 247.35504899, 251.01535151, 246.75384407,\n",
       "       259.05153213, 248.80484164, 257.87263976, 235.95267187,\n",
       "       236.00423285, 255.12492454, 243.39936173, 236.75055133,\n",
       "       258.56254517, 241.97096618, 253.50569244, 252.79554054,\n",
       "       257.29752007, 249.86709284, 253.50942236, 242.00337654,\n",
       "       239.74333184, 257.65754904, 244.269786  , 259.6309294 ,\n",
       "       251.00524483, 249.81052803, 235.30220136, 259.19160725,\n",
       "       244.89427666, 248.57115641, 243.69871408, 238.80174507,\n",
       "       257.87199885, 248.4363579 , 232.10044729, 249.68028911,\n",
       "       245.95840941, 251.69400785, 261.96486072, 246.83485811,\n",
       "       262.61144823, 254.45006223, 237.0629889 , 263.20964213,\n",
       "       256.38288888, 265.15245147, 241.54239272, 240.53487246,\n",
       "       263.30002707, 256.55234817, 238.49905295, 258.23069842,\n",
       "       258.18528417, 263.02611798, 256.97323429, 240.16669683,\n",
       "       237.17914975, 237.36033159, 237.42030245, 243.65648432,\n",
       "       261.22322713, 252.03093667, 252.43134077, 260.70817179,\n",
       "       240.16390229, 244.60012306, 253.37396872, 264.35893326,\n",
       "       252.6662513 , 237.14386714, 259.52340171, 243.2776623 ,\n",
       "       259.70863797, 247.71033451, 261.32379113, 257.99197674,\n",
       "       252.52916736, 240.51539664, 238.32497918, 240.08291492,\n",
       "       237.8852271 , 239.68656291, 243.0697481 , 257.01513866,\n",
       "       252.62866794, 236.96954078, 249.98140432, 275.60393335,\n",
       "       264.17997284, 253.73960384, 255.14285865, 269.20903422,\n",
       "       253.51455214, 264.55941508, 275.68245376, 272.15686172,\n",
       "       254.78575287, 262.05271117, 265.66401145, 271.64607502,\n",
       "       252.40877394, 248.45321192, 249.92553641, 261.84022744,\n",
       "       265.27404345, 264.2014649 , 257.00413422, 276.21465492,\n",
       "       264.51323259, 258.80079121, 263.68909511, 269.25220797,\n",
       "       267.0742683 , 255.5032793 , 249.8200098 , 258.512972  ,\n",
       "       265.94338277, 253.93652383, 269.46459209, 249.82578071,\n",
       "       255.3715049 , 270.95274477, 253.45745182, 266.22222708,\n",
       "       262.93705114, 274.38853707, 255.45683697, 249.80931368,\n",
       "       268.95833608, 270.02044132, 273.90224194, 274.59356546,\n",
       "       248.32086028, 254.62875913, 265.57307898, 275.0813526 ,\n",
       "       255.98831691, 244.72613705, 254.99896932, 247.15625137,\n",
       "       239.95693263, 242.70385585, 246.09003476, 244.52279237,\n",
       "       255.30161603, 255.08846297, 240.09624637, 256.36283509,\n",
       "       233.77376812, 232.41076182, 232.66116655, 243.26683183,\n",
       "       229.41136979, 255.92518632, 252.46646076, 229.22518047,\n",
       "       233.83789123, 238.29863708, 232.54433537, 251.96205958,\n",
       "       238.6613262 , 255.70016394, 245.45193986, 253.9465287 ,\n",
       "       252.97069582, 254.70665534, 241.95660579, 244.43118037,\n",
       "       251.6504831 , 236.97230369, 242.82585394, 245.94121164,\n",
       "       229.23989901, 245.78011892, 241.20667942, 251.90109673,\n",
       "       237.81730292, 254.3488162 , 245.33297225, 234.06151751,\n",
       "       251.34499511, 246.31099226, 230.33817649, 240.82082072,\n",
       "       248.22953403, 255.08469508, 217.68029814, 245.62253143,\n",
       "       228.44609405, 245.53737283, 234.97508145, 241.3894194 ,\n",
       "       234.11638394, 235.64362093, 225.84166186, 234.46329714,\n",
       "       239.13356468, 242.23276095, 239.27838829, 237.6463992 ,\n",
       "       242.40921324, 226.90355672, 236.86600688, 230.57229322,\n",
       "       228.60413994, 229.42574744, 229.15868287, 226.75196113,\n",
       "       235.46741943, 229.98198145, 245.53790341, 237.06668524,\n",
       "       223.35163759, 229.88049147, 227.49497253, 240.49631035,\n",
       "       242.85334537, 243.53572408, 236.63508187, 225.40184657,\n",
       "       224.89124135, 242.13500195, 232.77138717, 240.62573288,\n",
       "       234.05276456, 238.65050002, 232.52231664, 239.73061565,\n",
       "       233.94886301, 230.99688106, 227.47616044, 219.62086682,\n",
       "       228.48455393, 219.94760066, 245.79590351, 222.86634642])"
      ]
     },
     "execution_count": 174,
     "metadata": {},
     "output_type": "execute_result"
    }
   ],
   "source": [
    "lin_pred_intercept = np.dot(Xmat_intercept, all_effects[0:7]) # here I pick only one value of slope\n",
    "lin_pred_intercept_slope = np.dot(Xmat_intercept_slope, all_effects)\n",
    "\n",
    "lin_pred_intercept"
   ]
  },
  {
   "cell_type": "code",
   "execution_count": 175,
   "metadata": {},
   "outputs": [
    {
     "data": {
      "text/html": [
       "<div>\n",
       "<style scoped>\n",
       "    .dataframe tbody tr th:only-of-type {\n",
       "        vertical-align: middle;\n",
       "    }\n",
       "\n",
       "    .dataframe tbody tr th {\n",
       "        vertical-align: top;\n",
       "    }\n",
       "\n",
       "    .dataframe thead th {\n",
       "        text-align: right;\n",
       "    }\n",
       "</style>\n",
       "<table border=\"1\" class=\"dataframe\">\n",
       "  <thead>\n",
       "    <tr style=\"text-align: right;\">\n",
       "      <th></th>\n",
       "      <th>block</th>\n",
       "      <th>x</th>\n",
       "      <th>y</th>\n",
       "    </tr>\n",
       "  </thead>\n",
       "  <tbody>\n",
       "    <tr>\n",
       "      <th>0</th>\n",
       "      <td>Block1</td>\n",
       "      <td>29.191540</td>\n",
       "      <td>244.357608</td>\n",
       "    </tr>\n",
       "    <tr>\n",
       "      <th>1</th>\n",
       "      <td>Block1</td>\n",
       "      <td>50.422715</td>\n",
       "      <td>250.248323</td>\n",
       "    </tr>\n",
       "    <tr>\n",
       "      <th>2</th>\n",
       "      <td>Block1</td>\n",
       "      <td>0.008006</td>\n",
       "      <td>230.707335</td>\n",
       "    </tr>\n",
       "    <tr>\n",
       "      <th>3</th>\n",
       "      <td>Block1</td>\n",
       "      <td>21.163280</td>\n",
       "      <td>242.428533</td>\n",
       "    </tr>\n",
       "    <tr>\n",
       "      <th>4</th>\n",
       "      <td>Block1</td>\n",
       "      <td>10.272912</td>\n",
       "      <td>237.863760</td>\n",
       "    </tr>\n",
       "  </tbody>\n",
       "</table>\n",
       "</div>"
      ],
      "text/plain": [
       "    block          x           y\n",
       "0  Block1  29.191540  244.357608\n",
       "1  Block1  50.422715  250.248323\n",
       "2  Block1   0.008006  230.707335\n",
       "3  Block1  21.163280  242.428533\n",
       "4  Block1  10.272912  237.863760"
      ]
     },
     "execution_count": 175,
     "metadata": {},
     "output_type": "execute_result"
    }
   ],
   "source": [
    "eps = np.random.normal(loc=0, scale=2, size=n)\n",
    "\n",
    "y_intercept = lin_pred_intercept + eps\n",
    "y_intercept_slope = lin_pred_intercept_slope + eps\n",
    "\n",
    "data_hier_intercept = pd.DataFrame({'y':y_intercept, 'x':x, 'block':block})\n",
    "data_hier_intercept_slope = pd.DataFrame({'y':y_intercept_slope, 'x':x, 'block':block})\n",
    "\n",
    "data_hier_intercept.head()"
   ]
  },
  {
   "cell_type": "code",
   "execution_count": 176,
   "metadata": {},
   "outputs": [
    {
     "data": {
      "text/html": [
       "<div>\n",
       "<style scoped>\n",
       "    .dataframe tbody tr th:only-of-type {\n",
       "        vertical-align: middle;\n",
       "    }\n",
       "\n",
       "    .dataframe tbody tr th {\n",
       "        vertical-align: top;\n",
       "    }\n",
       "\n",
       "    .dataframe thead th {\n",
       "        text-align: right;\n",
       "    }\n",
       "</style>\n",
       "<table border=\"1\" class=\"dataframe\">\n",
       "  <thead>\n",
       "    <tr style=\"text-align: right;\">\n",
       "      <th></th>\n",
       "      <th>block</th>\n",
       "      <th>x</th>\n",
       "      <th>y</th>\n",
       "    </tr>\n",
       "  </thead>\n",
       "  <tbody>\n",
       "    <tr>\n",
       "      <th>0</th>\n",
       "      <td>Block1</td>\n",
       "      <td>29.191540</td>\n",
       "      <td>244.357608</td>\n",
       "    </tr>\n",
       "    <tr>\n",
       "      <th>1</th>\n",
       "      <td>Block1</td>\n",
       "      <td>50.422715</td>\n",
       "      <td>250.248323</td>\n",
       "    </tr>\n",
       "    <tr>\n",
       "      <th>2</th>\n",
       "      <td>Block1</td>\n",
       "      <td>0.008006</td>\n",
       "      <td>230.707335</td>\n",
       "    </tr>\n",
       "    <tr>\n",
       "      <th>3</th>\n",
       "      <td>Block1</td>\n",
       "      <td>21.163280</td>\n",
       "      <td>242.428533</td>\n",
       "    </tr>\n",
       "    <tr>\n",
       "      <th>4</th>\n",
       "      <td>Block1</td>\n",
       "      <td>10.272912</td>\n",
       "      <td>237.863760</td>\n",
       "    </tr>\n",
       "  </tbody>\n",
       "</table>\n",
       "</div>"
      ],
      "text/plain": [
       "    block          x           y\n",
       "0  Block1  29.191540  244.357608\n",
       "1  Block1  50.422715  250.248323\n",
       "2  Block1   0.008006  230.707335\n",
       "3  Block1  21.163280  242.428533\n",
       "4  Block1  10.272912  237.863760"
      ]
     },
     "execution_count": 176,
     "metadata": {},
     "output_type": "execute_result"
    }
   ],
   "source": [
    "data_hier_intercept_slope.head()"
   ]
  },
  {
   "cell_type": "code",
   "execution_count": 177,
   "metadata": {},
   "outputs": [
    {
     "data": {
      "text/plain": [
       "<seaborn.axisgrid.FacetGrid at 0x17295710dd8>"
      ]
     },
     "execution_count": 177,
     "metadata": {},
     "output_type": "execute_result"
    },
    {
     "data": {
      "image/png": "[encoded data removed]",
      "text/plain": [
       "<Figure size 426.125x360 with 1 Axes>"
      ]
     },
     "metadata": {},
     "output_type": "display_data"
    },
    {
     "data": {
      "image/png": "[encoded data removed]",
      "text/plain": [
       "<Figure size 426.125x360 with 1 Axes>"
      ]
     },
     "metadata": {},
     "output_type": "display_data"
    }
   ],
   "source": [
    "sns.lmplot(x='x', y='y', hue='block', data=data_hier_intercept)\n",
    "sns.lmplot(x='x', y='y', hue='block', data=data_hier_intercept_slope)"
   ]
  },
  {
   "cell_type": "markdown",
   "metadata": {},
   "source": [
    "## Randomized complete block\n",
    "reference: http://www.flutterbys.com.au/stats/tut/tut9.3b.html"
   ]
  },
  {
   "cell_type": "code",
   "execution_count": 201,
   "metadata": {},
   "outputs": [],
   "source": [
    "nTreat = 3\n",
    "nBlock = 10\n",
    "sigma = 5\n",
    "sigma_block = 12\n",
    "n = nBlock*nTreat"
   ]
  },
  {
   "cell_type": "code",
   "execution_count": 202,
   "metadata": {},
   "outputs": [
    {
     "data": {
      "text/plain": [
       "array(['Block01', 'Block02', 'Block03', 'Block04', 'Block05', 'Block06',\n",
       "       'Block07', 'Block08', 'Block09', 'Block010'], dtype='<U8')"
      ]
     },
     "execution_count": 202,
     "metadata": {},
     "output_type": "execute_result"
    }
   ],
   "source": [
    "labels_block = ['Block0{}'.format(i+1) for i in range(nBlock)]\n",
    "block = np.repeat(labels_block, repeats=1)\n",
    "block"
   ]
  },
  {
   "cell_type": "code",
   "execution_count": 203,
   "metadata": {},
   "outputs": [
    {
     "data": {
      "text/plain": [
       "array(['A1', 'A2', 'A3'], dtype='<U2')"
      ]
     },
     "execution_count": 203,
     "metadata": {},
     "output_type": "execute_result"
    }
   ],
   "source": [
    "labels_A = ['A{}'.format(i+1) for i in range(nTreat)]\n",
    "A = np.repeat(labels_A, repeats=1)\n",
    "A"
   ]
  },
  {
   "cell_type": "code",
   "execution_count": 207,
   "metadata": {},
   "outputs": [
    {
     "data": {
      "text/html": [
       "<div>\n",
       "<style scoped>\n",
       "    .dataframe tbody tr th:only-of-type {\n",
       "        vertical-align: middle;\n",
       "    }\n",
       "\n",
       "    .dataframe tbody tr th {\n",
       "        vertical-align: top;\n",
       "    }\n",
       "\n",
       "    .dataframe thead th {\n",
       "        text-align: right;\n",
       "    }\n",
       "</style>\n",
       "<table border=\"1\" class=\"dataframe\">\n",
       "  <thead>\n",
       "    <tr style=\"text-align: right;\">\n",
       "      <th></th>\n",
       "      <th>A</th>\n",
       "      <th>Block</th>\n",
       "    </tr>\n",
       "  </thead>\n",
       "  <tbody>\n",
       "    <tr>\n",
       "      <th>0</th>\n",
       "      <td>A1</td>\n",
       "      <td>Block01</td>\n",
       "    </tr>\n",
       "    <tr>\n",
       "      <th>1</th>\n",
       "      <td>A1</td>\n",
       "      <td>Block02</td>\n",
       "    </tr>\n",
       "    <tr>\n",
       "      <th>2</th>\n",
       "      <td>A1</td>\n",
       "      <td>Block03</td>\n",
       "    </tr>\n",
       "    <tr>\n",
       "      <th>3</th>\n",
       "      <td>A1</td>\n",
       "      <td>Block04</td>\n",
       "    </tr>\n",
       "    <tr>\n",
       "      <th>4</th>\n",
       "      <td>A1</td>\n",
       "      <td>Block05</td>\n",
       "    </tr>\n",
       "  </tbody>\n",
       "</table>\n",
       "</div>"
      ],
      "text/plain": [
       "    A    Block\n",
       "0  A1  Block01\n",
       "1  A1  Block02\n",
       "2  A1  Block03\n",
       "3  A1  Block04\n",
       "4  A1  Block05"
      ]
     },
     "execution_count": 207,
     "metadata": {},
     "output_type": "execute_result"
    }
   ],
   "source": [
    "import itertools\n",
    "dt = pd.DataFrame([row for row in itertools.product(labels_A, labels_block)], columns=['A', 'Block'])\n",
    "dt.head()"
   ]
  },
  {
   "cell_type": "code",
   "execution_count": 208,
   "metadata": {},
   "outputs": [
    {
     "data": {
      "text/html": [
       "<div>\n",
       "<style scoped>\n",
       "    .dataframe tbody tr th:only-of-type {\n",
       "        vertical-align: middle;\n",
       "    }\n",
       "\n",
       "    .dataframe tbody tr th {\n",
       "        vertical-align: top;\n",
       "    }\n",
       "\n",
       "    .dataframe thead th {\n",
       "        text-align: right;\n",
       "    }\n",
       "</style>\n",
       "<table border=\"1\" class=\"dataframe\">\n",
       "  <thead>\n",
       "    <tr style=\"text-align: right;\">\n",
       "      <th></th>\n",
       "      <th>Block[Block01]</th>\n",
       "      <th>Block[Block010]</th>\n",
       "      <th>Block[Block02]</th>\n",
       "      <th>Block[Block03]</th>\n",
       "      <th>Block[Block04]</th>\n",
       "      <th>Block[Block05]</th>\n",
       "      <th>Block[Block06]</th>\n",
       "      <th>Block[Block07]</th>\n",
       "      <th>Block[Block08]</th>\n",
       "      <th>Block[Block09]</th>\n",
       "      <th>A[T.A2]</th>\n",
       "      <th>A[T.A3]</th>\n",
       "    </tr>\n",
       "  </thead>\n",
       "  <tbody>\n",
       "    <tr>\n",
       "      <th>0</th>\n",
       "      <td>1.0</td>\n",
       "      <td>0.0</td>\n",
       "      <td>0.0</td>\n",
       "      <td>0.0</td>\n",
       "      <td>0.0</td>\n",
       "      <td>0.0</td>\n",
       "      <td>0.0</td>\n",
       "      <td>0.0</td>\n",
       "      <td>0.0</td>\n",
       "      <td>0.0</td>\n",
       "      <td>0.0</td>\n",
       "      <td>0.0</td>\n",
       "    </tr>\n",
       "    <tr>\n",
       "      <th>1</th>\n",
       "      <td>0.0</td>\n",
       "      <td>0.0</td>\n",
       "      <td>1.0</td>\n",
       "      <td>0.0</td>\n",
       "      <td>0.0</td>\n",
       "      <td>0.0</td>\n",
       "      <td>0.0</td>\n",
       "      <td>0.0</td>\n",
       "      <td>0.0</td>\n",
       "      <td>0.0</td>\n",
       "      <td>0.0</td>\n",
       "      <td>0.0</td>\n",
       "    </tr>\n",
       "    <tr>\n",
       "      <th>2</th>\n",
       "      <td>0.0</td>\n",
       "      <td>0.0</td>\n",
       "      <td>0.0</td>\n",
       "      <td>1.0</td>\n",
       "      <td>0.0</td>\n",
       "      <td>0.0</td>\n",
       "      <td>0.0</td>\n",
       "      <td>0.0</td>\n",
       "      <td>0.0</td>\n",
       "      <td>0.0</td>\n",
       "      <td>0.0</td>\n",
       "      <td>0.0</td>\n",
       "    </tr>\n",
       "    <tr>\n",
       "      <th>3</th>\n",
       "      <td>0.0</td>\n",
       "      <td>0.0</td>\n",
       "      <td>0.0</td>\n",
       "      <td>0.0</td>\n",
       "      <td>1.0</td>\n",
       "      <td>0.0</td>\n",
       "      <td>0.0</td>\n",
       "      <td>0.0</td>\n",
       "      <td>0.0</td>\n",
       "      <td>0.0</td>\n",
       "      <td>0.0</td>\n",
       "      <td>0.0</td>\n",
       "    </tr>\n",
       "    <tr>\n",
       "      <th>4</th>\n",
       "      <td>0.0</td>\n",
       "      <td>0.0</td>\n",
       "      <td>0.0</td>\n",
       "      <td>0.0</td>\n",
       "      <td>0.0</td>\n",
       "      <td>1.0</td>\n",
       "      <td>0.0</td>\n",
       "      <td>0.0</td>\n",
       "      <td>0.0</td>\n",
       "      <td>0.0</td>\n",
       "      <td>0.0</td>\n",
       "      <td>0.0</td>\n",
       "    </tr>\n",
       "  </tbody>\n",
       "</table>\n",
       "</div>"
      ],
      "text/plain": [
       "   Block[Block01]  Block[Block010]  Block[Block02]  Block[Block03]  \\\n",
       "0             1.0              0.0             0.0             0.0   \n",
       "1             0.0              0.0             1.0             0.0   \n",
       "2             0.0              0.0             0.0             1.0   \n",
       "3             0.0              0.0             0.0             0.0   \n",
       "4             0.0              0.0             0.0             0.0   \n",
       "\n",
       "   Block[Block04]  Block[Block05]  Block[Block06]  Block[Block07]  \\\n",
       "0             0.0             0.0             0.0             0.0   \n",
       "1             0.0             0.0             0.0             0.0   \n",
       "2             0.0             0.0             0.0             0.0   \n",
       "3             1.0             0.0             0.0             0.0   \n",
       "4             0.0             1.0             0.0             0.0   \n",
       "\n",
       "   Block[Block08]  Block[Block09]  A[T.A2]  A[T.A3]  \n",
       "0             0.0             0.0      0.0      0.0  \n",
       "1             0.0             0.0      0.0      0.0  \n",
       "2             0.0             0.0      0.0      0.0  \n",
       "3             0.0             0.0      0.0      0.0  \n",
       "4             0.0             0.0      0.0      0.0  "
      ]
     },
     "execution_count": 208,
     "metadata": {},
     "output_type": "execute_result"
    }
   ],
   "source": [
    "Xmat = patsy.dmatrix('-1 + Block + A', data=dt, return_type='dataframe')\n",
    "Xmat.head()"
   ]
  },
  {
   "cell_type": "code",
   "execution_count": 209,
   "metadata": {},
   "outputs": [],
   "source": [
    "block_effects = np.random.normal(size=nBlock, loc=40, scale=sigma_block)\n",
    "A_effects = np.array([30, 40]) # the average in A is 40, 70, 80. Here I set the difference, which is the effect size\n",
    "\n",
    "all_effects = np.concatenate((block_effects, A_effects))"
   ]
  },
  {
   "cell_type": "code",
   "execution_count": 210,
   "metadata": {},
   "outputs": [
    {
     "data": {
      "text/plain": [
       "array([29.92013302, 57.47832864, 43.79964683,  8.03048873, 34.88285659,\n",
       "       44.72545277, 37.26231171, 46.96396135, 28.32078898, 12.42152943,\n",
       "       59.92013302, 87.47832864, 73.79964683, 38.03048873, 64.88285659,\n",
       "       74.72545277, 67.26231171, 76.96396135, 58.32078898, 42.42152943,\n",
       "       69.92013302, 97.47832864, 83.79964683, 48.03048873, 74.88285659,\n",
       "       84.72545277, 77.26231171, 86.96396135, 68.32078898, 52.42152943])"
      ]
     },
     "execution_count": 210,
     "metadata": {},
     "output_type": "execute_result"
    }
   ],
   "source": [
    "lin_pred = np.dot(Xmat, all_effects)\n",
    "lin_pred"
   ]
  },
  {
   "cell_type": "code",
   "execution_count": 211,
   "metadata": {},
   "outputs": [
    {
     "data": {
      "text/html": [
       "<div>\n",
       "<style scoped>\n",
       "    .dataframe tbody tr th:only-of-type {\n",
       "        vertical-align: middle;\n",
       "    }\n",
       "\n",
       "    .dataframe tbody tr th {\n",
       "        vertical-align: top;\n",
       "    }\n",
       "\n",
       "    .dataframe thead th {\n",
       "        text-align: right;\n",
       "    }\n",
       "</style>\n",
       "<table border=\"1\" class=\"dataframe\">\n",
       "  <thead>\n",
       "    <tr style=\"text-align: right;\">\n",
       "      <th></th>\n",
       "      <th>Block[Block01]</th>\n",
       "      <th>Block[Block010]</th>\n",
       "      <th>Block[Block02]</th>\n",
       "      <th>Block[Block03]</th>\n",
       "      <th>Block[Block04]</th>\n",
       "      <th>Block[Block05]</th>\n",
       "      <th>Block[Block06]</th>\n",
       "      <th>Block[Block07]</th>\n",
       "      <th>Block[Block08]</th>\n",
       "      <th>Block[Block09]</th>\n",
       "      <th>A[A1]</th>\n",
       "      <th>A[A2]</th>\n",
       "      <th>A[A3]</th>\n",
       "    </tr>\n",
       "  </thead>\n",
       "  <tbody>\n",
       "    <tr>\n",
       "      <th>0</th>\n",
       "      <td>1.0</td>\n",
       "      <td>0.0</td>\n",
       "      <td>0.0</td>\n",
       "      <td>0.0</td>\n",
       "      <td>0.0</td>\n",
       "      <td>0.0</td>\n",
       "      <td>0.0</td>\n",
       "      <td>0.0</td>\n",
       "      <td>0.0</td>\n",
       "      <td>0.0</td>\n",
       "      <td>1.0</td>\n",
       "      <td>0.0</td>\n",
       "      <td>0.0</td>\n",
       "    </tr>\n",
       "    <tr>\n",
       "      <th>1</th>\n",
       "      <td>0.0</td>\n",
       "      <td>0.0</td>\n",
       "      <td>1.0</td>\n",
       "      <td>0.0</td>\n",
       "      <td>0.0</td>\n",
       "      <td>0.0</td>\n",
       "      <td>0.0</td>\n",
       "      <td>0.0</td>\n",
       "      <td>0.0</td>\n",
       "      <td>0.0</td>\n",
       "      <td>1.0</td>\n",
       "      <td>0.0</td>\n",
       "      <td>0.0</td>\n",
       "    </tr>\n",
       "    <tr>\n",
       "      <th>2</th>\n",
       "      <td>0.0</td>\n",
       "      <td>0.0</td>\n",
       "      <td>0.0</td>\n",
       "      <td>1.0</td>\n",
       "      <td>0.0</td>\n",
       "      <td>0.0</td>\n",
       "      <td>0.0</td>\n",
       "      <td>0.0</td>\n",
       "      <td>0.0</td>\n",
       "      <td>0.0</td>\n",
       "      <td>1.0</td>\n",
       "      <td>0.0</td>\n",
       "      <td>0.0</td>\n",
       "    </tr>\n",
       "    <tr>\n",
       "      <th>3</th>\n",
       "      <td>0.0</td>\n",
       "      <td>0.0</td>\n",
       "      <td>0.0</td>\n",
       "      <td>0.0</td>\n",
       "      <td>1.0</td>\n",
       "      <td>0.0</td>\n",
       "      <td>0.0</td>\n",
       "      <td>0.0</td>\n",
       "      <td>0.0</td>\n",
       "      <td>0.0</td>\n",
       "      <td>1.0</td>\n",
       "      <td>0.0</td>\n",
       "      <td>0.0</td>\n",
       "    </tr>\n",
       "    <tr>\n",
       "      <th>4</th>\n",
       "      <td>0.0</td>\n",
       "      <td>0.0</td>\n",
       "      <td>0.0</td>\n",
       "      <td>0.0</td>\n",
       "      <td>0.0</td>\n",
       "      <td>1.0</td>\n",
       "      <td>0.0</td>\n",
       "      <td>0.0</td>\n",
       "      <td>0.0</td>\n",
       "      <td>0.0</td>\n",
       "      <td>1.0</td>\n",
       "      <td>0.0</td>\n",
       "      <td>0.0</td>\n",
       "    </tr>\n",
       "  </tbody>\n",
       "</table>\n",
       "</div>"
      ],
      "text/plain": [
       "   Block[Block01]  Block[Block010]  Block[Block02]  Block[Block03]  \\\n",
       "0             1.0              0.0             0.0             0.0   \n",
       "1             0.0              0.0             1.0             0.0   \n",
       "2             0.0              0.0             0.0             1.0   \n",
       "3             0.0              0.0             0.0             0.0   \n",
       "4             0.0              0.0             0.0             0.0   \n",
       "\n",
       "   Block[Block04]  Block[Block05]  Block[Block06]  Block[Block07]  \\\n",
       "0             0.0             0.0             0.0             0.0   \n",
       "1             0.0             0.0             0.0             0.0   \n",
       "2             0.0             0.0             0.0             0.0   \n",
       "3             1.0             0.0             0.0             0.0   \n",
       "4             0.0             1.0             0.0             0.0   \n",
       "\n",
       "   Block[Block08]  Block[Block09]  A[A1]  A[A2]  A[A3]  \n",
       "0             0.0             0.0    1.0    0.0    0.0  \n",
       "1             0.0             0.0    1.0    0.0    0.0  \n",
       "2             0.0             0.0    1.0    0.0    0.0  \n",
       "3             0.0             0.0    1.0    0.0    0.0  \n",
       "4             0.0             0.0    1.0    0.0    0.0  "
      ]
     },
     "execution_count": 211,
     "metadata": {},
     "output_type": "execute_result"
    }
   ],
   "source": [
    "# alternative\n",
    "Xmat = pd.concat((patsy.dmatrix('-1 + Block', data=dt, return_type='dataframe'), \n",
    "    patsy.dmatrix('-1 + A', data=dt, return_type='dataframe')), \n",
    "    axis=1)\n",
    "\n",
    "Xmat.head()"
   ]
  },
  {
   "cell_type": "code",
   "execution_count": 212,
   "metadata": {},
   "outputs": [
    {
     "data": {
      "text/plain": [
       "array([42.10201275, 37.80325616, 37.34765318, 42.39711466, 51.19265696,\n",
       "       33.6385624 , 35.11311971, 41.9267799 , 38.55820029, 39.35819569,\n",
       "       72.10201275, 67.80325616, 67.34765318, 72.39711466, 81.19265696,\n",
       "       63.6385624 , 65.11311971, 71.9267799 , 68.55820029, 69.35819569,\n",
       "       82.10201275, 77.80325616, 77.34765318, 82.39711466, 91.19265696,\n",
       "       73.6385624 , 75.11311971, 81.9267799 , 78.55820029, 79.35819569])"
      ]
     },
     "execution_count": 212,
     "metadata": {},
     "output_type": "execute_result"
    }
   ],
   "source": [
    "## Sum to zero block effects\n",
    "block_effects = np.random.normal(size=nBlock, loc=0, scale=sigma_block)\n",
    "A_effects = np.array([40, 70, 80])\n",
    "all_effects = np.concatenate((block_effects, A_effects))\n",
    "lin_pred = np.dot(Xmat, all_effects)\n",
    "lin_pred"
   ]
  },
  {
   "cell_type": "code",
   "execution_count": 213,
   "metadata": {},
   "outputs": [
    {
     "data": {
      "text/html": [
       "<div>\n",
       "<style scoped>\n",
       "    .dataframe tbody tr th:only-of-type {\n",
       "        vertical-align: middle;\n",
       "    }\n",
       "\n",
       "    .dataframe tbody tr th {\n",
       "        vertical-align: top;\n",
       "    }\n",
       "\n",
       "    .dataframe thead th {\n",
       "        text-align: right;\n",
       "    }\n",
       "</style>\n",
       "<table border=\"1\" class=\"dataframe\">\n",
       "  <thead>\n",
       "    <tr style=\"text-align: right;\">\n",
       "      <th></th>\n",
       "      <th>A</th>\n",
       "      <th>Block</th>\n",
       "      <th>y</th>\n",
       "    </tr>\n",
       "  </thead>\n",
       "  <tbody>\n",
       "    <tr>\n",
       "      <th>0</th>\n",
       "      <td>A1</td>\n",
       "      <td>Block01</td>\n",
       "      <td>44.030024</td>\n",
       "    </tr>\n",
       "    <tr>\n",
       "      <th>1</th>\n",
       "      <td>A1</td>\n",
       "      <td>Block02</td>\n",
       "      <td>41.394710</td>\n",
       "    </tr>\n",
       "    <tr>\n",
       "      <th>2</th>\n",
       "      <td>A1</td>\n",
       "      <td>Block03</td>\n",
       "      <td>43.803598</td>\n",
       "    </tr>\n",
       "    <tr>\n",
       "      <th>3</th>\n",
       "      <td>A1</td>\n",
       "      <td>Block04</td>\n",
       "      <td>41.814894</td>\n",
       "    </tr>\n",
       "    <tr>\n",
       "      <th>4</th>\n",
       "      <td>A1</td>\n",
       "      <td>Block05</td>\n",
       "      <td>39.806167</td>\n",
       "    </tr>\n",
       "  </tbody>\n",
       "</table>\n",
       "</div>"
      ],
      "text/plain": [
       "    A    Block          y\n",
       "0  A1  Block01  44.030024\n",
       "1  A1  Block02  41.394710\n",
       "2  A1  Block03  43.803598\n",
       "3  A1  Block04  41.814894\n",
       "4  A1  Block05  39.806167"
      ]
     },
     "execution_count": 213,
     "metadata": {},
     "output_type": "execute_result"
    }
   ],
   "source": [
    "## the quadrat observations (within sites) are drawn from\n",
    "## normal distributions with means according to the site means\n",
    "## and standard deviations of 5\n",
    "y = np.random.normal(size=n, loc=lin_pred, scale=sigma)\n",
    "dt['y'] = y\n",
    "\n",
    "dt.head()"
   ]
  },
  {
   "cell_type": "code",
   "execution_count": 214,
   "metadata": {},
   "outputs": [
    {
     "data": {
      "text/plain": [
       "<matplotlib.axes._subplots.AxesSubplot at 0x17296e5cba8>"
      ]
     },
     "execution_count": 214,
     "metadata": {},
     "output_type": "execute_result"
    },
    {
     "data": {
      "image/png": "[encoded data removed]",
      "text/plain": [
       "<Figure size 432x288 with 1 Axes>"
      ]
     },
     "metadata": {},
     "output_type": "display_data"
    }
   ],
   "source": [
    "sns.boxplot(x='A', y='y', data=dt)"
   ]
  },
  {
   "cell_type": "code",
   "execution_count": 215,
   "metadata": {},
   "outputs": [
    {
     "data": {
      "text/plain": [
       "<matplotlib.axes._subplots.AxesSubplot at 0x17296ec8dd8>"
      ]
     },
     "execution_count": 215,
     "metadata": {},
     "output_type": "execute_result"
    },
    {
     "data": {
      "image/png": "[encoded data removed]",
      "text/plain": [
       "<Figure size 432x288 with 1 Axes>"
      ]
     },
     "metadata": {},
     "output_type": "display_data"
    }
   ],
   "source": [
    "sns.pointplot(x='A', y='y', hue='Block', data=dt)"
   ]
  },
  {
   "cell_type": "code",
   "execution_count": null,
   "metadata": {},
   "outputs": [],
   "source": []
  },
  {
   "cell_type": "markdown",
   "metadata": {},
   "source": [
    "## Nested ANOVA\n",
    "reference: http://www.flutterbys.com.au/stats/tut/tut9.2b.html"
   ]
  },
  {
   "cell_type": "code",
   "execution_count": 243,
   "metadata": {},
   "outputs": [],
   "source": [
    "nTreat = 3\n",
    "nSites = 15\n",
    "nSitesPerTreat = nSites/nTreat\n",
    "nQuads = 10\n",
    "site_sigma = 12\n",
    "sigma = 12\n",
    "n = nSites*nQuads"
   ]
  },
  {
   "cell_type": "code",
   "execution_count": 244,
   "metadata": {},
   "outputs": [
    {
     "data": {
      "text/plain": [
       "array(['S01', 'S01', 'S01', 'S01', 'S01', 'S01', 'S01', 'S01', 'S01',\n",
       "       'S01', 'S02', 'S02', 'S02', 'S02', 'S02', 'S02', 'S02', 'S02',\n",
       "       'S02', 'S02', 'S03', 'S03', 'S03', 'S03', 'S03', 'S03', 'S03',\n",
       "       'S03', 'S03', 'S03', 'S04', 'S04', 'S04', 'S04', 'S04', 'S04',\n",
       "       'S04', 'S04', 'S04', 'S04', 'S05', 'S05', 'S05', 'S05', 'S05',\n",
       "       'S05', 'S05', 'S05', 'S05', 'S05', 'S06', 'S06', 'S06', 'S06',\n",
       "       'S06', 'S06', 'S06', 'S06', 'S06', 'S06', 'S07', 'S07', 'S07',\n",
       "       'S07', 'S07', 'S07', 'S07', 'S07', 'S07', 'S07', 'S08', 'S08',\n",
       "       'S08', 'S08', 'S08', 'S08', 'S08', 'S08', 'S08', 'S08', 'S09',\n",
       "       'S09', 'S09', 'S09', 'S09', 'S09', 'S09', 'S09', 'S09', 'S09',\n",
       "       'S010', 'S010', 'S010', 'S010', 'S010', 'S010', 'S010', 'S010',\n",
       "       'S010', 'S010', 'S011', 'S011', 'S011', 'S011', 'S011', 'S011',\n",
       "       'S011', 'S011', 'S011', 'S011', 'S012', 'S012', 'S012', 'S012',\n",
       "       'S012', 'S012', 'S012', 'S012', 'S012', 'S012', 'S013', 'S013',\n",
       "       'S013', 'S013', 'S013', 'S013', 'S013', 'S013', 'S013', 'S013',\n",
       "       'S014', 'S014', 'S014', 'S014', 'S014', 'S014', 'S014', 'S014',\n",
       "       'S014', 'S014', 'S015', 'S015', 'S015', 'S015', 'S015', 'S015',\n",
       "       'S015', 'S015', 'S015', 'S015'], dtype='<U4')"
      ]
     },
     "execution_count": 244,
     "metadata": {},
     "output_type": "execute_result"
    }
   ],
   "source": [
    "labels_sites = ['S0{}'.format(i+1) for i in range(nSites)]\n",
    "sites = np.repeat(labels_sites, repeats=nQuads)\n",
    "sites"
   ]
  },
  {
   "cell_type": "code",
   "execution_count": 245,
   "metadata": {},
   "outputs": [
    {
     "data": {
      "text/plain": [
       "array(['A01', 'A01', 'A01', 'A01', 'A01', 'A01', 'A01', 'A01', 'A01',\n",
       "       'A01', 'A01', 'A01', 'A01', 'A01', 'A01', 'A01', 'A01', 'A01',\n",
       "       'A01', 'A01', 'A01', 'A01', 'A01', 'A01', 'A01', 'A01', 'A01',\n",
       "       'A01', 'A01', 'A01', 'A01', 'A01', 'A01', 'A01', 'A01', 'A01',\n",
       "       'A01', 'A01', 'A01', 'A01', 'A01', 'A01', 'A01', 'A01', 'A01',\n",
       "       'A01', 'A01', 'A01', 'A01', 'A01', 'A02', 'A02', 'A02', 'A02',\n",
       "       'A02', 'A02', 'A02', 'A02', 'A02', 'A02', 'A02', 'A02', 'A02',\n",
       "       'A02', 'A02', 'A02', 'A02', 'A02', 'A02', 'A02', 'A02', 'A02',\n",
       "       'A02', 'A02', 'A02', 'A02', 'A02', 'A02', 'A02', 'A02', 'A02',\n",
       "       'A02', 'A02', 'A02', 'A02', 'A02', 'A02', 'A02', 'A02', 'A02',\n",
       "       'A02', 'A02', 'A02', 'A02', 'A02', 'A02', 'A02', 'A02', 'A02',\n",
       "       'A02', 'A03', 'A03', 'A03', 'A03', 'A03', 'A03', 'A03', 'A03',\n",
       "       'A03', 'A03', 'A03', 'A03', 'A03', 'A03', 'A03', 'A03', 'A03',\n",
       "       'A03', 'A03', 'A03', 'A03', 'A03', 'A03', 'A03', 'A03', 'A03',\n",
       "       'A03', 'A03', 'A03', 'A03', 'A03', 'A03', 'A03', 'A03', 'A03',\n",
       "       'A03', 'A03', 'A03', 'A03', 'A03', 'A03', 'A03', 'A03', 'A03',\n",
       "       'A03', 'A03', 'A03', 'A03', 'A03', 'A03'], dtype='<U3')"
      ]
     },
     "execution_count": 245,
     "metadata": {},
     "output_type": "execute_result"
    }
   ],
   "source": [
    "labels_A = ['A0{}'.format(i+1) for i in range(nTreat)]\n",
    "A = np.repeat(labels_A, repeats=nSitesPerTreat*nQuads)\n",
    "A"
   ]
  },
  {
   "cell_type": "code",
   "execution_count": 246,
   "metadata": {},
   "outputs": [],
   "source": [
    "A_means = np.array([40, 70, 80])"
   ]
  },
  {
   "cell_type": "code",
   "execution_count": 247,
   "metadata": {},
   "outputs": [
    {
     "data": {
      "text/plain": [
       "array([10.02144743, 44.61231224, 24.27214521, 33.9915811 , 26.20332654,\n",
       "       75.10747096, 62.48071066, 79.26543613, 75.72762876, 67.1191652 ,\n",
       "       80.96672445, 91.0090372 , 75.53441701, 90.98742663, 79.76820792])"
      ]
     },
     "execution_count": 247,
     "metadata": {},
     "output_type": "execute_result"
    }
   ],
   "source": [
    "## the site means (treatment effects) are drawn from normal distributions\n",
    "## with means of 40, 70 and 80 and standard deviations of 12\n",
    "A_effects = np.random.normal(size=nSites, \n",
    "                             loc=np.repeat(A_means, nSitesPerTreat),\n",
    "                             scale=site_sigma)\n",
    "A_effects"
   ]
  },
  {
   "cell_type": "code",
   "execution_count": 248,
   "metadata": {},
   "outputs": [],
   "source": [
    "Xmat = patsy.dmatrix('sites - 1', data={'sites':sites}, return_type='dataframe')\n",
    "lin_pred = np.dot(Xmat, A_effects)"
   ]
  },
  {
   "cell_type": "code",
   "execution_count": 249,
   "metadata": {},
   "outputs": [
    {
     "data": {
      "text/plain": [
       "array([10.02144743, 10.02144743, 10.02144743, 10.02144743, 10.02144743,\n",
       "       10.02144743, 10.02144743, 10.02144743, 10.02144743, 10.02144743,\n",
       "       79.26543613, 79.26543613, 79.26543613, 79.26543613, 79.26543613,\n",
       "       79.26543613, 79.26543613, 79.26543613, 79.26543613, 79.26543613,\n",
       "       75.72762876, 75.72762876, 75.72762876, 75.72762876, 75.72762876,\n",
       "       75.72762876, 75.72762876, 75.72762876, 75.72762876, 75.72762876,\n",
       "       67.1191652 , 67.1191652 , 67.1191652 , 67.1191652 , 67.1191652 ,\n",
       "       67.1191652 , 67.1191652 , 67.1191652 , 67.1191652 , 67.1191652 ,\n",
       "       80.96672445, 80.96672445, 80.96672445, 80.96672445, 80.96672445,\n",
       "       80.96672445, 80.96672445, 80.96672445, 80.96672445, 80.96672445,\n",
       "       91.0090372 , 91.0090372 , 91.0090372 , 91.0090372 , 91.0090372 ,\n",
       "       91.0090372 , 91.0090372 , 91.0090372 , 91.0090372 , 91.0090372 ,\n",
       "       75.53441701, 75.53441701, 75.53441701, 75.53441701, 75.53441701,\n",
       "       75.53441701, 75.53441701, 75.53441701, 75.53441701, 75.53441701,\n",
       "       90.98742663, 90.98742663, 90.98742663, 90.98742663, 90.98742663,\n",
       "       90.98742663, 90.98742663, 90.98742663, 90.98742663, 90.98742663,\n",
       "       79.76820792, 79.76820792, 79.76820792, 79.76820792, 79.76820792,\n",
       "       79.76820792, 79.76820792, 79.76820792, 79.76820792, 79.76820792,\n",
       "       44.61231224, 44.61231224, 44.61231224, 44.61231224, 44.61231224,\n",
       "       44.61231224, 44.61231224, 44.61231224, 44.61231224, 44.61231224,\n",
       "       24.27214521, 24.27214521, 24.27214521, 24.27214521, 24.27214521,\n",
       "       24.27214521, 24.27214521, 24.27214521, 24.27214521, 24.27214521,\n",
       "       33.9915811 , 33.9915811 , 33.9915811 , 33.9915811 , 33.9915811 ,\n",
       "       33.9915811 , 33.9915811 , 33.9915811 , 33.9915811 , 33.9915811 ,\n",
       "       26.20332654, 26.20332654, 26.20332654, 26.20332654, 26.20332654,\n",
       "       26.20332654, 26.20332654, 26.20332654, 26.20332654, 26.20332654,\n",
       "       75.10747096, 75.10747096, 75.10747096, 75.10747096, 75.10747096,\n",
       "       75.10747096, 75.10747096, 75.10747096, 75.10747096, 75.10747096,\n",
       "       62.48071066, 62.48071066, 62.48071066, 62.48071066, 62.48071066,\n",
       "       62.48071066, 62.48071066, 62.48071066, 62.48071066, 62.48071066])"
      ]
     },
     "execution_count": 249,
     "metadata": {},
     "output_type": "execute_result"
    }
   ],
   "source": [
    "lin_pred"
   ]
  },
  {
   "cell_type": "code",
   "execution_count": 250,
   "metadata": {},
   "outputs": [],
   "source": [
    "y = np.random.normal(size=n, loc=lin_pred, scale=sigma)\n",
    "data_nest = pd.DataFrame({'y':y, 'A':A, 'Sites':sites, 'Quads': np.arange(y.shape[0])+1})"
   ]
  },
  {
   "cell_type": "code",
   "execution_count": 251,
   "metadata": {},
   "outputs": [
    {
     "data": {
      "text/html": [
       "<div>\n",
       "<style scoped>\n",
       "    .dataframe tbody tr th:only-of-type {\n",
       "        vertical-align: middle;\n",
       "    }\n",
       "\n",
       "    .dataframe tbody tr th {\n",
       "        vertical-align: top;\n",
       "    }\n",
       "\n",
       "    .dataframe thead th {\n",
       "        text-align: right;\n",
       "    }\n",
       "</style>\n",
       "<table border=\"1\" class=\"dataframe\">\n",
       "  <thead>\n",
       "    <tr style=\"text-align: right;\">\n",
       "      <th></th>\n",
       "      <th>A</th>\n",
       "      <th>Quads</th>\n",
       "      <th>Sites</th>\n",
       "      <th>y</th>\n",
       "    </tr>\n",
       "  </thead>\n",
       "  <tbody>\n",
       "    <tr>\n",
       "      <th>0</th>\n",
       "      <td>A01</td>\n",
       "      <td>1</td>\n",
       "      <td>S01</td>\n",
       "      <td>13.254217</td>\n",
       "    </tr>\n",
       "    <tr>\n",
       "      <th>1</th>\n",
       "      <td>A01</td>\n",
       "      <td>2</td>\n",
       "      <td>S01</td>\n",
       "      <td>19.612338</td>\n",
       "    </tr>\n",
       "    <tr>\n",
       "      <th>2</th>\n",
       "      <td>A01</td>\n",
       "      <td>3</td>\n",
       "      <td>S01</td>\n",
       "      <td>25.999838</td>\n",
       "    </tr>\n",
       "    <tr>\n",
       "      <th>3</th>\n",
       "      <td>A01</td>\n",
       "      <td>4</td>\n",
       "      <td>S01</td>\n",
       "      <td>16.271194</td>\n",
       "    </tr>\n",
       "    <tr>\n",
       "      <th>4</th>\n",
       "      <td>A01</td>\n",
       "      <td>5</td>\n",
       "      <td>S01</td>\n",
       "      <td>10.721910</td>\n",
       "    </tr>\n",
       "    <tr>\n",
       "      <th>5</th>\n",
       "      <td>A01</td>\n",
       "      <td>6</td>\n",
       "      <td>S01</td>\n",
       "      <td>18.669679</td>\n",
       "    </tr>\n",
       "    <tr>\n",
       "      <th>6</th>\n",
       "      <td>A01</td>\n",
       "      <td>7</td>\n",
       "      <td>S01</td>\n",
       "      <td>-8.523924</td>\n",
       "    </tr>\n",
       "    <tr>\n",
       "      <th>7</th>\n",
       "      <td>A01</td>\n",
       "      <td>8</td>\n",
       "      <td>S01</td>\n",
       "      <td>29.688987</td>\n",
       "    </tr>\n",
       "    <tr>\n",
       "      <th>8</th>\n",
       "      <td>A01</td>\n",
       "      <td>9</td>\n",
       "      <td>S01</td>\n",
       "      <td>-5.884448</td>\n",
       "    </tr>\n",
       "    <tr>\n",
       "      <th>9</th>\n",
       "      <td>A01</td>\n",
       "      <td>10</td>\n",
       "      <td>S01</td>\n",
       "      <td>20.865961</td>\n",
       "    </tr>\n",
       "    <tr>\n",
       "      <th>10</th>\n",
       "      <td>A01</td>\n",
       "      <td>11</td>\n",
       "      <td>S02</td>\n",
       "      <td>72.495469</td>\n",
       "    </tr>\n",
       "    <tr>\n",
       "      <th>11</th>\n",
       "      <td>A01</td>\n",
       "      <td>12</td>\n",
       "      <td>S02</td>\n",
       "      <td>85.352455</td>\n",
       "    </tr>\n",
       "    <tr>\n",
       "      <th>12</th>\n",
       "      <td>A01</td>\n",
       "      <td>13</td>\n",
       "      <td>S02</td>\n",
       "      <td>77.866627</td>\n",
       "    </tr>\n",
       "    <tr>\n",
       "      <th>13</th>\n",
       "      <td>A01</td>\n",
       "      <td>14</td>\n",
       "      <td>S02</td>\n",
       "      <td>82.908513</td>\n",
       "    </tr>\n",
       "    <tr>\n",
       "      <th>14</th>\n",
       "      <td>A01</td>\n",
       "      <td>15</td>\n",
       "      <td>S02</td>\n",
       "      <td>69.655992</td>\n",
       "    </tr>\n",
       "  </tbody>\n",
       "</table>\n",
       "</div>"
      ],
      "text/plain": [
       "      A  Quads Sites          y\n",
       "0   A01      1   S01  13.254217\n",
       "1   A01      2   S01  19.612338\n",
       "2   A01      3   S01  25.999838\n",
       "3   A01      4   S01  16.271194\n",
       "4   A01      5   S01  10.721910\n",
       "5   A01      6   S01  18.669679\n",
       "6   A01      7   S01  -8.523924\n",
       "7   A01      8   S01  29.688987\n",
       "8   A01      9   S01  -5.884448\n",
       "9   A01     10   S01  20.865961\n",
       "10  A01     11   S02  72.495469\n",
       "11  A01     12   S02  85.352455\n",
       "12  A01     13   S02  77.866627\n",
       "13  A01     14   S02  82.908513\n",
       "14  A01     15   S02  69.655992"
      ]
     },
     "execution_count": 251,
     "metadata": {},
     "output_type": "execute_result"
    }
   ],
   "source": [
    "data_nest.head(15)"
   ]
  },
  {
   "cell_type": "code",
   "execution_count": 252,
   "metadata": {},
   "outputs": [
    {
     "data": {
      "text/plain": [
       "<seaborn.axisgrid.FacetGrid at 0x17296fb36d8>"
      ]
     },
     "execution_count": 252,
     "metadata": {},
     "output_type": "execute_result"
    },
    {
     "data": {
      "image/png": "[encoded data removed]",
      "text/plain": [
       "<Figure size 864x1440 with 15 Axes>"
      ]
     },
     "metadata": {},
     "output_type": "display_data"
    }
   ],
   "source": [
    "sns.factorplot(y='y', col='Sites', data=data_nest, kind='box', col_wrap=3)"
   ]
  },
  {
   "cell_type": "code",
   "execution_count": null,
   "metadata": {},
   "outputs": [],
   "source": []
  }
 ],
 "metadata": {
  "kernelspec": {
   "display_name": "Python 3",
   "language": "python",
   "name": "python3"
  },
  "language_info": {
   "codemirror_mode": {
    "name": "ipython",
    "version": 3
   },
   "file_extension": ".py",
   "mimetype": "text/x-python",
   "name": "python",
   "nbconvert_exporter": "python",
   "pygments_lexer": "ipython3",
   "version": "3.6.4"
  }
 },
 "nbformat": 4,
 "nbformat_minor": 2
}
