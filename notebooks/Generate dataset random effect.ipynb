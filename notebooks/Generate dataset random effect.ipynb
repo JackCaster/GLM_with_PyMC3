{
 "cells": [
  {
   "cell_type": "markdown",
   "metadata": {},
   "source": [
    "# Generate dataset random effect\n",
    "## 1 factors, 1 continuos predictor, random effect\n",
    "Reference: http://www.flutterbys.com.au/stats/tut/tut9.1.html"
   ]
  },
  {
   "cell_type": "markdown",
   "metadata": {},
   "source": [
    "$y_{block} = q_{block} + m_{block}\\cdot\\ x_{block}$\n",
    "\n",
    "Hence the design matrix is $y \\sim block + block:x$ and the vector to be mulitplied with will have a list of the intercepts for each block, following a list of slopes for each block. The effect of x, changes with the block, and this change is the slopes set for a particular block"
   ]
  },
  {
   "cell_type": "code",
   "execution_count": 265,
   "metadata": {},
   "outputs": [],
   "source": [
    "import pandas as pd\n",
    "import numpy as np\n",
    "np.random.seed(1)\n",
    " \n",
    "%matplotlib inline\n",
    "import matplotlib.pyplot as plt\n",
    "import seaborn as sns\n",
    "sns.set()\n",
    "\n",
    "import pymc3 as pm\n",
    "import patsy"
   ]
  },
  {
   "cell_type": "markdown",
   "metadata": {},
   "source": [
    "### Data generation"
   ]
  },
  {
   "cell_type": "code",
   "execution_count": 266,
   "metadata": {},
   "outputs": [],
   "source": [
    "n_groups = 6\n",
    "n_sample = 50\n",
    "n = n_groups * n_sample\n",
    "\n",
    "labels_block = ['Block{}'.format(i+1) for i in range(n_groups)]\n",
    "\n",
    "block = np.repeat(labels_block, repeats=n_sample)"
   ]
  },
  {
   "cell_type": "code",
   "execution_count": 267,
   "metadata": {},
   "outputs": [],
   "source": [
    "x = np.random.uniform(low=0, high=70, size=n)"
   ]
  },
  {
   "cell_type": "code",
   "execution_count": 268,
   "metadata": {},
   "outputs": [
    {
     "data": {
      "text/html": [
       "<div>\n",
       "<style scoped>\n",
       "    .dataframe tbody tr th:only-of-type {\n",
       "        vertical-align: middle;\n",
       "    }\n",
       "\n",
       "    .dataframe tbody tr th {\n",
       "        vertical-align: top;\n",
       "    }\n",
       "\n",
       "    .dataframe thead th {\n",
       "        text-align: right;\n",
       "    }\n",
       "</style>\n",
       "<table border=\"1\" class=\"dataframe\">\n",
       "  <thead>\n",
       "    <tr style=\"text-align: right;\">\n",
       "      <th></th>\n",
       "      <th>block[Block1]</th>\n",
       "      <th>block[Block2]</th>\n",
       "      <th>block[Block3]</th>\n",
       "      <th>block[Block4]</th>\n",
       "      <th>block[Block5]</th>\n",
       "      <th>block[Block6]</th>\n",
       "      <th>block[Block1]:x</th>\n",
       "      <th>block[Block2]:x</th>\n",
       "      <th>block[Block3]:x</th>\n",
       "      <th>block[Block4]:x</th>\n",
       "      <th>block[Block5]:x</th>\n",
       "      <th>block[Block6]:x</th>\n",
       "    </tr>\n",
       "  </thead>\n",
       "  <tbody>\n",
       "    <tr>\n",
       "      <th>0</th>\n",
       "      <td>1.0</td>\n",
       "      <td>0.0</td>\n",
       "      <td>0.0</td>\n",
       "      <td>0.0</td>\n",
       "      <td>0.0</td>\n",
       "      <td>0.0</td>\n",
       "      <td>29.191540</td>\n",
       "      <td>0.0</td>\n",
       "      <td>0.0</td>\n",
       "      <td>0.0</td>\n",
       "      <td>0.0</td>\n",
       "      <td>0.0</td>\n",
       "    </tr>\n",
       "    <tr>\n",
       "      <th>1</th>\n",
       "      <td>1.0</td>\n",
       "      <td>0.0</td>\n",
       "      <td>0.0</td>\n",
       "      <td>0.0</td>\n",
       "      <td>0.0</td>\n",
       "      <td>0.0</td>\n",
       "      <td>50.422715</td>\n",
       "      <td>0.0</td>\n",
       "      <td>0.0</td>\n",
       "      <td>0.0</td>\n",
       "      <td>0.0</td>\n",
       "      <td>0.0</td>\n",
       "    </tr>\n",
       "    <tr>\n",
       "      <th>2</th>\n",
       "      <td>1.0</td>\n",
       "      <td>0.0</td>\n",
       "      <td>0.0</td>\n",
       "      <td>0.0</td>\n",
       "      <td>0.0</td>\n",
       "      <td>0.0</td>\n",
       "      <td>0.008006</td>\n",
       "      <td>0.0</td>\n",
       "      <td>0.0</td>\n",
       "      <td>0.0</td>\n",
       "      <td>0.0</td>\n",
       "      <td>0.0</td>\n",
       "    </tr>\n",
       "    <tr>\n",
       "      <th>3</th>\n",
       "      <td>1.0</td>\n",
       "      <td>0.0</td>\n",
       "      <td>0.0</td>\n",
       "      <td>0.0</td>\n",
       "      <td>0.0</td>\n",
       "      <td>0.0</td>\n",
       "      <td>21.163280</td>\n",
       "      <td>0.0</td>\n",
       "      <td>0.0</td>\n",
       "      <td>0.0</td>\n",
       "      <td>0.0</td>\n",
       "      <td>0.0</td>\n",
       "    </tr>\n",
       "    <tr>\n",
       "      <th>4</th>\n",
       "      <td>1.0</td>\n",
       "      <td>0.0</td>\n",
       "      <td>0.0</td>\n",
       "      <td>0.0</td>\n",
       "      <td>0.0</td>\n",
       "      <td>0.0</td>\n",
       "      <td>10.272912</td>\n",
       "      <td>0.0</td>\n",
       "      <td>0.0</td>\n",
       "      <td>0.0</td>\n",
       "      <td>0.0</td>\n",
       "      <td>0.0</td>\n",
       "    </tr>\n",
       "  </tbody>\n",
       "</table>\n",
       "</div>"
      ],
      "text/plain": [
       "   block[Block1]  block[Block2]  block[Block3]  block[Block4]  block[Block5]  \\\n",
       "0            1.0            0.0            0.0            0.0            0.0   \n",
       "1            1.0            0.0            0.0            0.0            0.0   \n",
       "2            1.0            0.0            0.0            0.0            0.0   \n",
       "3            1.0            0.0            0.0            0.0            0.0   \n",
       "4            1.0            0.0            0.0            0.0            0.0   \n",
       "\n",
       "   block[Block6]  block[Block1]:x  block[Block2]:x  block[Block3]:x  \\\n",
       "0            0.0        29.191540              0.0              0.0   \n",
       "1            0.0        50.422715              0.0              0.0   \n",
       "2            0.0         0.008006              0.0              0.0   \n",
       "3            0.0        21.163280              0.0              0.0   \n",
       "4            0.0        10.272912              0.0              0.0   \n",
       "\n",
       "   block[Block4]:x  block[Block5]:x  block[Block6]:x  \n",
       "0              0.0              0.0              0.0  \n",
       "1              0.0              0.0              0.0  \n",
       "2              0.0              0.0              0.0  \n",
       "3              0.0              0.0              0.0  \n",
       "4              0.0              0.0              0.0  "
      ]
     },
     "execution_count": 268,
     "metadata": {},
     "output_type": "execute_result"
    }
   ],
   "source": [
    "Xmat_intercept = patsy.dmatrix('-1 + block + x', data={'block':block, 'x':x}, return_type='dataframe')\n",
    "Xmat_intercept_slope = patsy.dmatrix('-1 + block*x - x', data={'block':block, 'x':x}, return_type='dataframe')\n",
    "\n",
    "Xmat_intercept.head()\n",
    "Xmat_intercept_slope.head()"
   ]
  },
  {
   "cell_type": "code",
   "execution_count": 269,
   "metadata": {},
   "outputs": [
    {
     "data": {
      "text/plain": [
       "array([2.32426694e+02, 2.32018302e+02, 2.36610203e+02, 2.47921582e+02,\n",
       "       2.28795354e+02, 2.17668793e+02, 4.08840937e-01, 6.67122741e-01,\n",
       "       1.62902096e-01, 1.41251491e+00, 7.50893218e-01, 8.44507511e-01])"
      ]
     },
     "execution_count": 269,
     "metadata": {},
     "output_type": "execute_result"
    }
   ],
   "source": [
    "intercept_mean = 230\n",
    "intercept_sd = 10\n",
    "\n",
    "slope_mean = 1\n",
    "slope_sd = 0.5\n",
    "\n",
    "intercept_effect = np.random.normal(loc=intercept_mean, scale=intercept_sd, size=n_groups)\n",
    "slope_effect =  np.random.normal(loc=slope_mean, scale=slope_sd, size=n_groups)\n",
    "\n",
    "all_effects = np.concatenate((intercept_effect, slope_effect), axis=0)\n",
    "all_effects"
   ]
  },
  {
   "cell_type": "code",
   "execution_count": 270,
   "metadata": {},
   "outputs": [
    {
     "data": {
      "text/plain": [
       "array([244.3613911 , 253.04156426, 232.42996769, 241.07910967,\n",
       "       236.62668152, 235.06932024, 237.75725036, 242.31625041,\n",
       "       243.78172942, 247.84701809, 244.42356587, 252.03689918,\n",
       "       238.27788586, 257.55741928, 233.21049626, 251.61471396,\n",
       "       244.36948445, 248.41576351, 236.44440933, 238.0961343 ,\n",
       "       255.34309558, 260.13724229, 241.39653883, 252.24018228,\n",
       "       257.50795775, 258.02932225, 234.86056326, 233.544398  ,\n",
       "       237.28704836, 257.55813667, 235.24126923, 244.47831692,\n",
       "       259.84040611, 247.68528003, 252.22743253, 241.45639384,\n",
       "       252.07357218, 256.31273432, 232.95008416, 253.89497372,\n",
       "       260.72677698, 253.8383467 , 240.45268332, 255.01497341,\n",
       "       235.38090562, 245.24489903, 258.42966697, 240.82959825,\n",
       "       240.66249814, 236.14796464, 232.57256215, 251.44580465,\n",
       "       238.07485839, 239.61794594, 246.08656795, 233.54547729,\n",
       "       248.44889636, 236.21750715, 248.88355773, 252.04459223,\n",
       "       234.94699705, 243.86811444, 251.89124656, 243.87164263,\n",
       "       233.44791312, 247.35504899, 251.01535151, 246.75384407,\n",
       "       259.05153213, 248.80484164, 257.87263976, 235.95267187,\n",
       "       236.00423285, 255.12492454, 243.39936173, 236.75055133,\n",
       "       258.56254517, 241.97096618, 253.50569244, 252.79554054,\n",
       "       257.29752007, 249.86709284, 253.50942236, 242.00337654,\n",
       "       239.74333184, 257.65754904, 244.269786  , 259.6309294 ,\n",
       "       251.00524483, 249.81052803, 235.30220136, 259.19160725,\n",
       "       244.89427666, 248.57115641, 243.69871408, 238.80174507,\n",
       "       257.87199885, 248.4363579 , 232.10044729, 249.68028911,\n",
       "       245.95840941, 251.69400785, 261.96486072, 246.83485811,\n",
       "       262.61144823, 254.45006223, 237.0629889 , 263.20964213,\n",
       "       256.38288888, 265.15245147, 241.54239272, 240.53487246,\n",
       "       263.30002707, 256.55234817, 238.49905295, 258.23069842,\n",
       "       258.18528417, 263.02611798, 256.97323429, 240.16669683,\n",
       "       237.17914975, 237.36033159, 237.42030245, 243.65648432,\n",
       "       261.22322713, 252.03093667, 252.43134077, 260.70817179,\n",
       "       240.16390229, 244.60012306, 253.37396872, 264.35893326,\n",
       "       252.6662513 , 237.14386714, 259.52340171, 243.2776623 ,\n",
       "       259.70863797, 247.71033451, 261.32379113, 257.99197674,\n",
       "       252.52916736, 240.51539664, 238.32497918, 240.08291492,\n",
       "       237.8852271 , 239.68656291, 243.0697481 , 257.01513866,\n",
       "       252.62866794, 236.96954078, 249.98140432, 275.60393335,\n",
       "       264.17997284, 253.73960384, 255.14285865, 269.20903422,\n",
       "       253.51455214, 264.55941508, 275.68245376, 272.15686172,\n",
       "       254.78575287, 262.05271117, 265.66401145, 271.64607502,\n",
       "       252.40877394, 248.45321192, 249.92553641, 261.84022744,\n",
       "       265.27404345, 264.2014649 , 257.00413422, 276.21465492,\n",
       "       264.51323259, 258.80079121, 263.68909511, 269.25220797,\n",
       "       267.0742683 , 255.5032793 , 249.8200098 , 258.512972  ,\n",
       "       265.94338277, 253.93652383, 269.46459209, 249.82578071,\n",
       "       255.3715049 , 270.95274477, 253.45745182, 266.22222708,\n",
       "       262.93705114, 274.38853707, 255.45683697, 249.80931368,\n",
       "       268.95833608, 270.02044132, 273.90224194, 274.59356546,\n",
       "       248.32086028, 254.62875913, 265.57307898, 275.0813526 ,\n",
       "       255.98831691, 244.72613705, 254.99896932, 247.15625137,\n",
       "       239.95693263, 242.70385585, 246.09003476, 244.52279237,\n",
       "       255.30161603, 255.08846297, 240.09624637, 256.36283509,\n",
       "       233.77376812, 232.41076182, 232.66116655, 243.26683183,\n",
       "       229.41136979, 255.92518632, 252.46646076, 229.22518047,\n",
       "       233.83789123, 238.29863708, 232.54433537, 251.96205958,\n",
       "       238.6613262 , 255.70016394, 245.45193986, 253.9465287 ,\n",
       "       252.97069582, 254.70665534, 241.95660579, 244.43118037,\n",
       "       251.6504831 , 236.97230369, 242.82585394, 245.94121164,\n",
       "       229.23989901, 245.78011892, 241.20667942, 251.90109673,\n",
       "       237.81730292, 254.3488162 , 245.33297225, 234.06151751,\n",
       "       251.34499511, 246.31099226, 230.33817649, 240.82082072,\n",
       "       248.22953403, 255.08469508, 217.68029814, 245.62253143,\n",
       "       228.44609405, 245.53737283, 234.97508145, 241.3894194 ,\n",
       "       234.11638394, 235.64362093, 225.84166186, 234.46329714,\n",
       "       239.13356468, 242.23276095, 239.27838829, 237.6463992 ,\n",
       "       242.40921324, 226.90355672, 236.86600688, 230.57229322,\n",
       "       228.60413994, 229.42574744, 229.15868287, 226.75196113,\n",
       "       235.46741943, 229.98198145, 245.53790341, 237.06668524,\n",
       "       223.35163759, 229.88049147, 227.49497253, 240.49631035,\n",
       "       242.85334537, 243.53572408, 236.63508187, 225.40184657,\n",
       "       224.89124135, 242.13500195, 232.77138717, 240.62573288,\n",
       "       234.05276456, 238.65050002, 232.52231664, 239.73061565,\n",
       "       233.94886301, 230.99688106, 227.47616044, 219.62086682,\n",
       "       228.48455393, 219.94760066, 245.79590351, 222.86634642])"
      ]
     },
     "execution_count": 270,
     "metadata": {},
     "output_type": "execute_result"
    }
   ],
   "source": [
    "lin_pred_intercept = np.dot(Xmat_intercept, all_effects[0:7]) # here I pick only one value of slope\n",
    "lin_pred_intercept_slope = np.dot(Xmat_intercept_slope, all_effects)\n",
    "\n",
    "lin_pred_intercept"
   ]
  },
  {
   "cell_type": "code",
   "execution_count": 271,
   "metadata": {},
   "outputs": [
    {
     "data": {
      "text/html": [
       "<div>\n",
       "<style scoped>\n",
       "    .dataframe tbody tr th:only-of-type {\n",
       "        vertical-align: middle;\n",
       "    }\n",
       "\n",
       "    .dataframe tbody tr th {\n",
       "        vertical-align: top;\n",
       "    }\n",
       "\n",
       "    .dataframe thead th {\n",
       "        text-align: right;\n",
       "    }\n",
       "</style>\n",
       "<table border=\"1\" class=\"dataframe\">\n",
       "  <thead>\n",
       "    <tr style=\"text-align: right;\">\n",
       "      <th></th>\n",
       "      <th>block</th>\n",
       "      <th>x</th>\n",
       "      <th>y</th>\n",
       "    </tr>\n",
       "  </thead>\n",
       "  <tbody>\n",
       "    <tr>\n",
       "      <th>0</th>\n",
       "      <td>Block1</td>\n",
       "      <td>29.191540</td>\n",
       "      <td>244.357608</td>\n",
       "    </tr>\n",
       "    <tr>\n",
       "      <th>1</th>\n",
       "      <td>Block1</td>\n",
       "      <td>50.422715</td>\n",
       "      <td>250.248323</td>\n",
       "    </tr>\n",
       "    <tr>\n",
       "      <th>2</th>\n",
       "      <td>Block1</td>\n",
       "      <td>0.008006</td>\n",
       "      <td>230.707335</td>\n",
       "    </tr>\n",
       "    <tr>\n",
       "      <th>3</th>\n",
       "      <td>Block1</td>\n",
       "      <td>21.163280</td>\n",
       "      <td>242.428533</td>\n",
       "    </tr>\n",
       "    <tr>\n",
       "      <th>4</th>\n",
       "      <td>Block1</td>\n",
       "      <td>10.272912</td>\n",
       "      <td>237.863760</td>\n",
       "    </tr>\n",
       "  </tbody>\n",
       "</table>\n",
       "</div>"
      ],
      "text/plain": [
       "    block          x           y\n",
       "0  Block1  29.191540  244.357608\n",
       "1  Block1  50.422715  250.248323\n",
       "2  Block1   0.008006  230.707335\n",
       "3  Block1  21.163280  242.428533\n",
       "4  Block1  10.272912  237.863760"
      ]
     },
     "execution_count": 271,
     "metadata": {},
     "output_type": "execute_result"
    }
   ],
   "source": [
    "eps = np.random.normal(loc=0, scale=2, size=n)\n",
    "\n",
    "y_intercept = lin_pred_intercept + eps\n",
    "y_intercept_slope = lin_pred_intercept_slope + eps\n",
    "\n",
    "data_hier_intercept = pd.DataFrame({'y':y_intercept, 'x':x, 'block':block})\n",
    "data_hier_intercept_slope = pd.DataFrame({'y':y_intercept_slope, 'x':x, 'block':block})\n",
    "\n",
    "data_hier_intercept.head()"
   ]
  },
  {
   "cell_type": "code",
   "execution_count": 272,
   "metadata": {},
   "outputs": [
    {
     "data": {
      "text/html": [
       "<div>\n",
       "<style scoped>\n",
       "    .dataframe tbody tr th:only-of-type {\n",
       "        vertical-align: middle;\n",
       "    }\n",
       "\n",
       "    .dataframe tbody tr th {\n",
       "        vertical-align: top;\n",
       "    }\n",
       "\n",
       "    .dataframe thead th {\n",
       "        text-align: right;\n",
       "    }\n",
       "</style>\n",
       "<table border=\"1\" class=\"dataframe\">\n",
       "  <thead>\n",
       "    <tr style=\"text-align: right;\">\n",
       "      <th></th>\n",
       "      <th>block</th>\n",
       "      <th>x</th>\n",
       "      <th>y</th>\n",
       "    </tr>\n",
       "  </thead>\n",
       "  <tbody>\n",
       "    <tr>\n",
       "      <th>0</th>\n",
       "      <td>Block1</td>\n",
       "      <td>29.191540</td>\n",
       "      <td>244.357608</td>\n",
       "    </tr>\n",
       "    <tr>\n",
       "      <th>1</th>\n",
       "      <td>Block1</td>\n",
       "      <td>50.422715</td>\n",
       "      <td>250.248323</td>\n",
       "    </tr>\n",
       "    <tr>\n",
       "      <th>2</th>\n",
       "      <td>Block1</td>\n",
       "      <td>0.008006</td>\n",
       "      <td>230.707335</td>\n",
       "    </tr>\n",
       "    <tr>\n",
       "      <th>3</th>\n",
       "      <td>Block1</td>\n",
       "      <td>21.163280</td>\n",
       "      <td>242.428533</td>\n",
       "    </tr>\n",
       "    <tr>\n",
       "      <th>4</th>\n",
       "      <td>Block1</td>\n",
       "      <td>10.272912</td>\n",
       "      <td>237.863760</td>\n",
       "    </tr>\n",
       "  </tbody>\n",
       "</table>\n",
       "</div>"
      ],
      "text/plain": [
       "    block          x           y\n",
       "0  Block1  29.191540  244.357608\n",
       "1  Block1  50.422715  250.248323\n",
       "2  Block1   0.008006  230.707335\n",
       "3  Block1  21.163280  242.428533\n",
       "4  Block1  10.272912  237.863760"
      ]
     },
     "execution_count": 272,
     "metadata": {},
     "output_type": "execute_result"
    }
   ],
   "source": [
    "data_hier_intercept_slope.head()"
   ]
  },
  {
   "cell_type": "code",
   "execution_count": 273,
   "metadata": {},
   "outputs": [
    {
     "data": {
      "text/plain": [
       "<seaborn.axisgrid.FacetGrid at 0x172a19ebd68>"
      ]
     },
     "execution_count": 273,
     "metadata": {},
     "output_type": "execute_result"
    },
    {
     "data": {
      "image/png": "[encoded data removed]",
      "text/plain": [
       "<Figure size 426.125x360 with 1 Axes>"
      ]
     },
     "metadata": {},
     "output_type": "display_data"
    },
    {
     "data": {
      "image/png": "[encoded data removed]",
      "text/plain": [
       "<Figure size 426.125x360 with 1 Axes>"
      ]
     },
     "metadata": {},
     "output_type": "display_data"
    }
   ],
   "source": [
    "sns.lmplot(x='x', y='y', hue='block', data=data_hier_intercept)\n",
    "sns.lmplot(x='x', y='y', hue='block', data=data_hier_intercept_slope)"
   ]
  },
  {
   "cell_type": "markdown",
   "metadata": {},
   "source": [
    "## Randomized complete block\n",
    "reference: http://www.flutterbys.com.au/stats/tut/tut9.3b.html"
   ]
  },
  {
   "cell_type": "code",
   "execution_count": 274,
   "metadata": {},
   "outputs": [],
   "source": [
    "nTreat = 3\n",
    "nBlock = 10\n",
    "sigma = 5\n",
    "sigma_block = 12\n",
    "n = nBlock*nTreat"
   ]
  },
  {
   "cell_type": "code",
   "execution_count": 275,
   "metadata": {},
   "outputs": [
    {
     "data": {
      "text/plain": [
       "array(['Block01', 'Block02', 'Block03', 'Block04', 'Block05', 'Block06',\n",
       "       'Block07', 'Block08', 'Block09', 'Block010'], dtype='<U8')"
      ]
     },
     "execution_count": 275,
     "metadata": {},
     "output_type": "execute_result"
    }
   ],
   "source": [
    "labels_block = ['Block0{}'.format(i+1) for i in range(nBlock)]\n",
    "block = np.repeat(labels_block, repeats=1)\n",
    "block"
   ]
  },
  {
   "cell_type": "code",
   "execution_count": 276,
   "metadata": {},
   "outputs": [
    {
     "data": {
      "text/plain": [
       "array(['A1', 'A2', 'A3'], dtype='<U2')"
      ]
     },
     "execution_count": 276,
     "metadata": {},
     "output_type": "execute_result"
    }
   ],
   "source": [
    "labels_A = ['A{}'.format(i+1) for i in range(nTreat)]\n",
    "A = np.repeat(labels_A, repeats=1)\n",
    "A"
   ]
  },
  {
   "cell_type": "code",
   "execution_count": 277,
   "metadata": {},
   "outputs": [
    {
     "data": {
      "text/html": [
       "<div>\n",
       "<style scoped>\n",
       "    .dataframe tbody tr th:only-of-type {\n",
       "        vertical-align: middle;\n",
       "    }\n",
       "\n",
       "    .dataframe tbody tr th {\n",
       "        vertical-align: top;\n",
       "    }\n",
       "\n",
       "    .dataframe thead th {\n",
       "        text-align: right;\n",
       "    }\n",
       "</style>\n",
       "<table border=\"1\" class=\"dataframe\">\n",
       "  <thead>\n",
       "    <tr style=\"text-align: right;\">\n",
       "      <th></th>\n",
       "      <th>A</th>\n",
       "      <th>Block</th>\n",
       "    </tr>\n",
       "  </thead>\n",
       "  <tbody>\n",
       "    <tr>\n",
       "      <th>0</th>\n",
       "      <td>A1</td>\n",
       "      <td>Block01</td>\n",
       "    </tr>\n",
       "    <tr>\n",
       "      <th>1</th>\n",
       "      <td>A1</td>\n",
       "      <td>Block02</td>\n",
       "    </tr>\n",
       "    <tr>\n",
       "      <th>2</th>\n",
       "      <td>A1</td>\n",
       "      <td>Block03</td>\n",
       "    </tr>\n",
       "    <tr>\n",
       "      <th>3</th>\n",
       "      <td>A1</td>\n",
       "      <td>Block04</td>\n",
       "    </tr>\n",
       "    <tr>\n",
       "      <th>4</th>\n",
       "      <td>A1</td>\n",
       "      <td>Block05</td>\n",
       "    </tr>\n",
       "  </tbody>\n",
       "</table>\n",
       "</div>"
      ],
      "text/plain": [
       "    A    Block\n",
       "0  A1  Block01\n",
       "1  A1  Block02\n",
       "2  A1  Block03\n",
       "3  A1  Block04\n",
       "4  A1  Block05"
      ]
     },
     "execution_count": 277,
     "metadata": {},
     "output_type": "execute_result"
    }
   ],
   "source": [
    "import itertools\n",
    "dt = pd.DataFrame([row for row in itertools.product(labels_A, labels_block)], columns=['A', 'Block'])\n",
    "dt.head()"
   ]
  },
  {
   "cell_type": "code",
   "execution_count": 278,
   "metadata": {},
   "outputs": [
    {
     "data": {
      "text/html": [
       "<div>\n",
       "<style scoped>\n",
       "    .dataframe tbody tr th:only-of-type {\n",
       "        vertical-align: middle;\n",
       "    }\n",
       "\n",
       "    .dataframe tbody tr th {\n",
       "        vertical-align: top;\n",
       "    }\n",
       "\n",
       "    .dataframe thead th {\n",
       "        text-align: right;\n",
       "    }\n",
       "</style>\n",
       "<table border=\"1\" class=\"dataframe\">\n",
       "  <thead>\n",
       "    <tr style=\"text-align: right;\">\n",
       "      <th></th>\n",
       "      <th>Block[Block01]</th>\n",
       "      <th>Block[Block010]</th>\n",
       "      <th>Block[Block02]</th>\n",
       "      <th>Block[Block03]</th>\n",
       "      <th>Block[Block04]</th>\n",
       "      <th>Block[Block05]</th>\n",
       "      <th>Block[Block06]</th>\n",
       "      <th>Block[Block07]</th>\n",
       "      <th>Block[Block08]</th>\n",
       "      <th>Block[Block09]</th>\n",
       "      <th>A[T.A2]</th>\n",
       "      <th>A[T.A3]</th>\n",
       "    </tr>\n",
       "  </thead>\n",
       "  <tbody>\n",
       "    <tr>\n",
       "      <th>0</th>\n",
       "      <td>1.0</td>\n",
       "      <td>0.0</td>\n",
       "      <td>0.0</td>\n",
       "      <td>0.0</td>\n",
       "      <td>0.0</td>\n",
       "      <td>0.0</td>\n",
       "      <td>0.0</td>\n",
       "      <td>0.0</td>\n",
       "      <td>0.0</td>\n",
       "      <td>0.0</td>\n",
       "      <td>0.0</td>\n",
       "      <td>0.0</td>\n",
       "    </tr>\n",
       "    <tr>\n",
       "      <th>1</th>\n",
       "      <td>0.0</td>\n",
       "      <td>0.0</td>\n",
       "      <td>1.0</td>\n",
       "      <td>0.0</td>\n",
       "      <td>0.0</td>\n",
       "      <td>0.0</td>\n",
       "      <td>0.0</td>\n",
       "      <td>0.0</td>\n",
       "      <td>0.0</td>\n",
       "      <td>0.0</td>\n",
       "      <td>0.0</td>\n",
       "      <td>0.0</td>\n",
       "    </tr>\n",
       "    <tr>\n",
       "      <th>2</th>\n",
       "      <td>0.0</td>\n",
       "      <td>0.0</td>\n",
       "      <td>0.0</td>\n",
       "      <td>1.0</td>\n",
       "      <td>0.0</td>\n",
       "      <td>0.0</td>\n",
       "      <td>0.0</td>\n",
       "      <td>0.0</td>\n",
       "      <td>0.0</td>\n",
       "      <td>0.0</td>\n",
       "      <td>0.0</td>\n",
       "      <td>0.0</td>\n",
       "    </tr>\n",
       "    <tr>\n",
       "      <th>3</th>\n",
       "      <td>0.0</td>\n",
       "      <td>0.0</td>\n",
       "      <td>0.0</td>\n",
       "      <td>0.0</td>\n",
       "      <td>1.0</td>\n",
       "      <td>0.0</td>\n",
       "      <td>0.0</td>\n",
       "      <td>0.0</td>\n",
       "      <td>0.0</td>\n",
       "      <td>0.0</td>\n",
       "      <td>0.0</td>\n",
       "      <td>0.0</td>\n",
       "    </tr>\n",
       "    <tr>\n",
       "      <th>4</th>\n",
       "      <td>0.0</td>\n",
       "      <td>0.0</td>\n",
       "      <td>0.0</td>\n",
       "      <td>0.0</td>\n",
       "      <td>0.0</td>\n",
       "      <td>1.0</td>\n",
       "      <td>0.0</td>\n",
       "      <td>0.0</td>\n",
       "      <td>0.0</td>\n",
       "      <td>0.0</td>\n",
       "      <td>0.0</td>\n",
       "      <td>0.0</td>\n",
       "    </tr>\n",
       "  </tbody>\n",
       "</table>\n",
       "</div>"
      ],
      "text/plain": [
       "   Block[Block01]  Block[Block010]  Block[Block02]  Block[Block03]  \\\n",
       "0             1.0              0.0             0.0             0.0   \n",
       "1             0.0              0.0             1.0             0.0   \n",
       "2             0.0              0.0             0.0             1.0   \n",
       "3             0.0              0.0             0.0             0.0   \n",
       "4             0.0              0.0             0.0             0.0   \n",
       "\n",
       "   Block[Block04]  Block[Block05]  Block[Block06]  Block[Block07]  \\\n",
       "0             0.0             0.0             0.0             0.0   \n",
       "1             0.0             0.0             0.0             0.0   \n",
       "2             0.0             0.0             0.0             0.0   \n",
       "3             1.0             0.0             0.0             0.0   \n",
       "4             0.0             1.0             0.0             0.0   \n",
       "\n",
       "   Block[Block08]  Block[Block09]  A[T.A2]  A[T.A3]  \n",
       "0             0.0             0.0      0.0      0.0  \n",
       "1             0.0             0.0      0.0      0.0  \n",
       "2             0.0             0.0      0.0      0.0  \n",
       "3             0.0             0.0      0.0      0.0  \n",
       "4             0.0             0.0      0.0      0.0  "
      ]
     },
     "execution_count": 278,
     "metadata": {},
     "output_type": "execute_result"
    }
   ],
   "source": [
    "Xmat = patsy.dmatrix('-1 + Block + A', data=dt, return_type='dataframe')\n",
    "Xmat.head()"
   ]
  },
  {
   "cell_type": "code",
   "execution_count": 279,
   "metadata": {},
   "outputs": [],
   "source": [
    "block_effects = np.random.normal(size=nBlock, loc=40, scale=sigma_block)\n",
    "A_effects = np.array([30, 40]) # the average in A is 40, 70, 80. Here I set the difference, which is the effect size\n",
    "\n",
    "all_effects = np.concatenate((block_effects, A_effects))"
   ]
  },
  {
   "cell_type": "code",
   "execution_count": 280,
   "metadata": {},
   "outputs": [
    {
     "data": {
      "text/plain": [
       "array([21.21114219, 13.27464842, 19.60799674, 36.68984725, 54.74746703,\n",
       "       55.71647087, 26.14020838, 37.86841365, 21.8745235 , 52.1658696 ,\n",
       "       51.21114219, 43.27464842, 49.60799674, 66.68984725, 84.74746703,\n",
       "       85.71647087, 56.14020838, 67.86841365, 51.8745235 , 82.1658696 ,\n",
       "       61.21114219, 53.27464842, 59.60799674, 76.68984725, 94.74746703,\n",
       "       95.71647087, 66.14020838, 77.86841365, 61.8745235 , 92.1658696 ])"
      ]
     },
     "execution_count": 280,
     "metadata": {},
     "output_type": "execute_result"
    }
   ],
   "source": [
    "lin_pred = np.dot(Xmat, all_effects)\n",
    "lin_pred"
   ]
  },
  {
   "cell_type": "code",
   "execution_count": 281,
   "metadata": {},
   "outputs": [
    {
     "data": {
      "text/html": [
       "<div>\n",
       "<style scoped>\n",
       "    .dataframe tbody tr th:only-of-type {\n",
       "        vertical-align: middle;\n",
       "    }\n",
       "\n",
       "    .dataframe tbody tr th {\n",
       "        vertical-align: top;\n",
       "    }\n",
       "\n",
       "    .dataframe thead th {\n",
       "        text-align: right;\n",
       "    }\n",
       "</style>\n",
       "<table border=\"1\" class=\"dataframe\">\n",
       "  <thead>\n",
       "    <tr style=\"text-align: right;\">\n",
       "      <th></th>\n",
       "      <th>Block[Block01]</th>\n",
       "      <th>Block[Block010]</th>\n",
       "      <th>Block[Block02]</th>\n",
       "      <th>Block[Block03]</th>\n",
       "      <th>Block[Block04]</th>\n",
       "      <th>Block[Block05]</th>\n",
       "      <th>Block[Block06]</th>\n",
       "      <th>Block[Block07]</th>\n",
       "      <th>Block[Block08]</th>\n",
       "      <th>Block[Block09]</th>\n",
       "      <th>A[A1]</th>\n",
       "      <th>A[A2]</th>\n",
       "      <th>A[A3]</th>\n",
       "    </tr>\n",
       "  </thead>\n",
       "  <tbody>\n",
       "    <tr>\n",
       "      <th>0</th>\n",
       "      <td>1.0</td>\n",
       "      <td>0.0</td>\n",
       "      <td>0.0</td>\n",
       "      <td>0.0</td>\n",
       "      <td>0.0</td>\n",
       "      <td>0.0</td>\n",
       "      <td>0.0</td>\n",
       "      <td>0.0</td>\n",
       "      <td>0.0</td>\n",
       "      <td>0.0</td>\n",
       "      <td>1.0</td>\n",
       "      <td>0.0</td>\n",
       "      <td>0.0</td>\n",
       "    </tr>\n",
       "    <tr>\n",
       "      <th>1</th>\n",
       "      <td>0.0</td>\n",
       "      <td>0.0</td>\n",
       "      <td>1.0</td>\n",
       "      <td>0.0</td>\n",
       "      <td>0.0</td>\n",
       "      <td>0.0</td>\n",
       "      <td>0.0</td>\n",
       "      <td>0.0</td>\n",
       "      <td>0.0</td>\n",
       "      <td>0.0</td>\n",
       "      <td>1.0</td>\n",
       "      <td>0.0</td>\n",
       "      <td>0.0</td>\n",
       "    </tr>\n",
       "    <tr>\n",
       "      <th>2</th>\n",
       "      <td>0.0</td>\n",
       "      <td>0.0</td>\n",
       "      <td>0.0</td>\n",
       "      <td>1.0</td>\n",
       "      <td>0.0</td>\n",
       "      <td>0.0</td>\n",
       "      <td>0.0</td>\n",
       "      <td>0.0</td>\n",
       "      <td>0.0</td>\n",
       "      <td>0.0</td>\n",
       "      <td>1.0</td>\n",
       "      <td>0.0</td>\n",
       "      <td>0.0</td>\n",
       "    </tr>\n",
       "    <tr>\n",
       "      <th>3</th>\n",
       "      <td>0.0</td>\n",
       "      <td>0.0</td>\n",
       "      <td>0.0</td>\n",
       "      <td>0.0</td>\n",
       "      <td>1.0</td>\n",
       "      <td>0.0</td>\n",
       "      <td>0.0</td>\n",
       "      <td>0.0</td>\n",
       "      <td>0.0</td>\n",
       "      <td>0.0</td>\n",
       "      <td>1.0</td>\n",
       "      <td>0.0</td>\n",
       "      <td>0.0</td>\n",
       "    </tr>\n",
       "    <tr>\n",
       "      <th>4</th>\n",
       "      <td>0.0</td>\n",
       "      <td>0.0</td>\n",
       "      <td>0.0</td>\n",
       "      <td>0.0</td>\n",
       "      <td>0.0</td>\n",
       "      <td>1.0</td>\n",
       "      <td>0.0</td>\n",
       "      <td>0.0</td>\n",
       "      <td>0.0</td>\n",
       "      <td>0.0</td>\n",
       "      <td>1.0</td>\n",
       "      <td>0.0</td>\n",
       "      <td>0.0</td>\n",
       "    </tr>\n",
       "  </tbody>\n",
       "</table>\n",
       "</div>"
      ],
      "text/plain": [
       "   Block[Block01]  Block[Block010]  Block[Block02]  Block[Block03]  \\\n",
       "0             1.0              0.0             0.0             0.0   \n",
       "1             0.0              0.0             1.0             0.0   \n",
       "2             0.0              0.0             0.0             1.0   \n",
       "3             0.0              0.0             0.0             0.0   \n",
       "4             0.0              0.0             0.0             0.0   \n",
       "\n",
       "   Block[Block04]  Block[Block05]  Block[Block06]  Block[Block07]  \\\n",
       "0             0.0             0.0             0.0             0.0   \n",
       "1             0.0             0.0             0.0             0.0   \n",
       "2             0.0             0.0             0.0             0.0   \n",
       "3             1.0             0.0             0.0             0.0   \n",
       "4             0.0             1.0             0.0             0.0   \n",
       "\n",
       "   Block[Block08]  Block[Block09]  A[A1]  A[A2]  A[A3]  \n",
       "0             0.0             0.0    1.0    0.0    0.0  \n",
       "1             0.0             0.0    1.0    0.0    0.0  \n",
       "2             0.0             0.0    1.0    0.0    0.0  \n",
       "3             0.0             0.0    1.0    0.0    0.0  \n",
       "4             0.0             0.0    1.0    0.0    0.0  "
      ]
     },
     "execution_count": 281,
     "metadata": {},
     "output_type": "execute_result"
    }
   ],
   "source": [
    "# alternative\n",
    "Xmat = pd.concat((patsy.dmatrix('-1 + Block', data=dt, return_type='dataframe'), \n",
    "    patsy.dmatrix('-1 + A', data=dt, return_type='dataframe')), \n",
    "    axis=1)\n",
    "\n",
    "Xmat.head()"
   ]
  },
  {
   "cell_type": "code",
   "execution_count": 282,
   "metadata": {},
   "outputs": [
    {
     "data": {
      "text/plain": [
       "array([52.13448477, 38.28165106, 52.39580535, 37.33103166, 57.64192413,\n",
       "       29.55990132, 44.43028563, 50.23938623, 38.32345923, 22.28124807,\n",
       "       82.13448477, 68.28165106, 82.39580535, 67.33103166, 87.64192413,\n",
       "       59.55990132, 74.43028563, 80.23938623, 68.32345923, 52.28124807,\n",
       "       92.13448477, 78.28165106, 92.39580535, 77.33103166, 97.64192413,\n",
       "       69.55990132, 84.43028563, 90.23938623, 78.32345923, 62.28124807])"
      ]
     },
     "execution_count": 282,
     "metadata": {},
     "output_type": "execute_result"
    }
   ],
   "source": [
    "## Sum to zero block effects\n",
    "block_effects = np.random.normal(size=nBlock, loc=0, scale=sigma_block)\n",
    "A_effects = np.array([40, 70, 80])\n",
    "all_effects = np.concatenate((block_effects, A_effects))\n",
    "lin_pred = np.dot(Xmat, all_effects)\n",
    "lin_pred"
   ]
  },
  {
   "cell_type": "code",
   "execution_count": 283,
   "metadata": {},
   "outputs": [
    {
     "data": {
      "text/html": [
       "<div>\n",
       "<style scoped>\n",
       "    .dataframe tbody tr th:only-of-type {\n",
       "        vertical-align: middle;\n",
       "    }\n",
       "\n",
       "    .dataframe tbody tr th {\n",
       "        vertical-align: top;\n",
       "    }\n",
       "\n",
       "    .dataframe thead th {\n",
       "        text-align: right;\n",
       "    }\n",
       "</style>\n",
       "<table border=\"1\" class=\"dataframe\">\n",
       "  <thead>\n",
       "    <tr style=\"text-align: right;\">\n",
       "      <th></th>\n",
       "      <th>A</th>\n",
       "      <th>Block</th>\n",
       "      <th>y</th>\n",
       "    </tr>\n",
       "  </thead>\n",
       "  <tbody>\n",
       "    <tr>\n",
       "      <th>0</th>\n",
       "      <td>A1</td>\n",
       "      <td>Block01</td>\n",
       "      <td>59.066056</td>\n",
       "    </tr>\n",
       "    <tr>\n",
       "      <th>1</th>\n",
       "      <td>A1</td>\n",
       "      <td>Block02</td>\n",
       "      <td>41.022299</td>\n",
       "    </tr>\n",
       "    <tr>\n",
       "      <th>2</th>\n",
       "      <td>A1</td>\n",
       "      <td>Block03</td>\n",
       "      <td>44.208557</td>\n",
       "    </tr>\n",
       "    <tr>\n",
       "      <th>3</th>\n",
       "      <td>A1</td>\n",
       "      <td>Block04</td>\n",
       "      <td>57.124045</td>\n",
       "    </tr>\n",
       "    <tr>\n",
       "      <th>4</th>\n",
       "      <td>A1</td>\n",
       "      <td>Block05</td>\n",
       "      <td>60.885142</td>\n",
       "    </tr>\n",
       "  </tbody>\n",
       "</table>\n",
       "</div>"
      ],
      "text/plain": [
       "    A    Block          y\n",
       "0  A1  Block01  59.066056\n",
       "1  A1  Block02  41.022299\n",
       "2  A1  Block03  44.208557\n",
       "3  A1  Block04  57.124045\n",
       "4  A1  Block05  60.885142"
      ]
     },
     "execution_count": 283,
     "metadata": {},
     "output_type": "execute_result"
    }
   ],
   "source": [
    "## the quadrat observations (within sites) are drawn from\n",
    "## normal distributions with means according to the site means\n",
    "## and standard deviations of 5\n",
    "y = np.random.normal(size=n, loc=lin_pred, scale=sigma)\n",
    "dt['y'] = y\n",
    "\n",
    "dt.head()"
   ]
  },
  {
   "cell_type": "code",
   "execution_count": 284,
   "metadata": {},
   "outputs": [
    {
     "data": {
      "text/plain": [
       "<matplotlib.axes._subplots.AxesSubplot at 0x172a1ab8b00>"
      ]
     },
     "execution_count": 284,
     "metadata": {},
     "output_type": "execute_result"
    },
    {
     "data": {
      "image/png": "[encoded data removed]",
      "text/plain": [
       "<Figure size 432x288 with 1 Axes>"
      ]
     },
     "metadata": {},
     "output_type": "display_data"
    }
   ],
   "source": [
    "sns.boxplot(x='A', y='y', data=dt)"
   ]
  },
  {
   "cell_type": "code",
   "execution_count": 285,
   "metadata": {},
   "outputs": [
    {
     "data": {
      "text/plain": [
       "<matplotlib.axes._subplots.AxesSubplot at 0x172a1b55748>"
      ]
     },
     "execution_count": 285,
     "metadata": {},
     "output_type": "execute_result"
    },
    {
     "data": {
      "image/png": "[encoded data removed]",
      "text/plain": [
       "<Figure size 432x288 with 1 Axes>"
      ]
     },
     "metadata": {},
     "output_type": "display_data"
    }
   ],
   "source": [
    "sns.pointplot(x='A', y='y', hue='Block', data=dt)"
   ]
  },
  {
   "cell_type": "code",
   "execution_count": null,
   "metadata": {},
   "outputs": [],
   "source": []
  },
  {
   "cell_type": "markdown",
   "metadata": {},
   "source": [
    "## Nested ANOVA\n",
    "reference: http://www.flutterbys.com.au/stats/tut/tut9.2b.html"
   ]
  },
  {
   "cell_type": "code",
   "execution_count": 372,
   "metadata": {},
   "outputs": [],
   "source": [
    "nTreat = 3\n",
    "nSites = 9\n",
    "nSitesPerTreat = nSites/nTreat\n",
    "nQuads = 5\n",
    "site_sigma = 10\n",
    "sigma = 5\n",
    "n = nSites*nQuads"
   ]
  },
  {
   "cell_type": "code",
   "execution_count": 373,
   "metadata": {},
   "outputs": [
    {
     "data": {
      "text/plain": [
       "array(['S01', 'S01', 'S01', 'S01', 'S01', 'S02', 'S02', 'S02', 'S02',\n",
       "       'S02', 'S03', 'S03', 'S03', 'S03', 'S03', 'S04', 'S04', 'S04',\n",
       "       'S04', 'S04', 'S05', 'S05', 'S05', 'S05', 'S05', 'S06', 'S06',\n",
       "       'S06', 'S06', 'S06', 'S07', 'S07', 'S07', 'S07', 'S07', 'S08',\n",
       "       'S08', 'S08', 'S08', 'S08', 'S09', 'S09', 'S09', 'S09', 'S09'],\n",
       "      dtype='<U3')"
      ]
     },
     "execution_count": 373,
     "metadata": {},
     "output_type": "execute_result"
    }
   ],
   "source": [
    "labels_sites = ['S0{}'.format(i+1) for i in range(nSites)]\n",
    "sites = np.repeat(labels_sites, repeats=nQuads)\n",
    "sites"
   ]
  },
  {
   "cell_type": "code",
   "execution_count": 374,
   "metadata": {},
   "outputs": [
    {
     "data": {
      "text/plain": [
       "array(['A01', 'A01', 'A01', 'A01', 'A01', 'A01', 'A01', 'A01', 'A01',\n",
       "       'A01', 'A01', 'A01', 'A01', 'A01', 'A01', 'A02', 'A02', 'A02',\n",
       "       'A02', 'A02', 'A02', 'A02', 'A02', 'A02', 'A02', 'A02', 'A02',\n",
       "       'A02', 'A02', 'A02', 'A03', 'A03', 'A03', 'A03', 'A03', 'A03',\n",
       "       'A03', 'A03', 'A03', 'A03', 'A03', 'A03', 'A03', 'A03', 'A03'],\n",
       "      dtype='<U3')"
      ]
     },
     "execution_count": 374,
     "metadata": {},
     "output_type": "execute_result"
    }
   ],
   "source": [
    "labels_A = ['A0{}'.format(i+1) for i in range(nTreat)]\n",
    "A = np.repeat(labels_A, repeats=nSitesPerTreat*nQuads)\n",
    "A"
   ]
  },
  {
   "cell_type": "code",
   "execution_count": 375,
   "metadata": {},
   "outputs": [
    {
     "data": {
      "text/plain": [
       "array([40, 70, 80])"
      ]
     },
     "execution_count": 375,
     "metadata": {},
     "output_type": "execute_result"
    }
   ],
   "source": [
    "A_means = np.array([40, 70, 80])\n",
    "A_means"
   ]
  },
  {
   "cell_type": "code",
   "execution_count": 376,
   "metadata": {},
   "outputs": [
    {
     "data": {
      "text/plain": [
       "array([47.58637063, 40.32615483, 27.22363665, 76.58536872, 79.98901649,\n",
       "       76.67879561, 79.69703221, 71.6395052 , 81.07594938])"
      ]
     },
     "execution_count": 376,
     "metadata": {},
     "output_type": "execute_result"
    }
   ],
   "source": [
    "## the site means (treatment effects) are drawn from normal distributions\n",
    "## with means of 40, 70 and 80 and standard deviations of 12\n",
    "A_effects = np.random.normal(size=nSites, \n",
    "                             loc=np.repeat(A_means, nSitesPerTreat),\n",
    "                             scale=site_sigma)\n",
    "A_effects"
   ]
  },
  {
   "cell_type": "code",
   "execution_count": 377,
   "metadata": {},
   "outputs": [
    {
     "data": {
      "text/plain": [
       "array([47.58637063, 47.58637063, 47.58637063, 47.58637063, 47.58637063,\n",
       "       40.32615483, 40.32615483, 40.32615483, 40.32615483, 40.32615483,\n",
       "       27.22363665, 27.22363665, 27.22363665, 27.22363665, 27.22363665,\n",
       "       76.58536872, 76.58536872, 76.58536872, 76.58536872, 76.58536872,\n",
       "       79.98901649, 79.98901649, 79.98901649, 79.98901649, 79.98901649,\n",
       "       76.67879561, 76.67879561, 76.67879561, 76.67879561, 76.67879561,\n",
       "       79.69703221, 79.69703221, 79.69703221, 79.69703221, 79.69703221,\n",
       "       71.6395052 , 71.6395052 , 71.6395052 , 71.6395052 , 71.6395052 ,\n",
       "       81.07594938, 81.07594938, 81.07594938, 81.07594938, 81.07594938])"
      ]
     },
     "execution_count": 377,
     "metadata": {},
     "output_type": "execute_result"
    }
   ],
   "source": [
    "Xmat = patsy.dmatrix('sites - 1', data={'sites':sites}, return_type='dataframe')\n",
    "lin_pred = np.dot(Xmat, A_effects)\n",
    "lin_pred"
   ]
  },
  {
   "cell_type": "code",
   "execution_count": 378,
   "metadata": {},
   "outputs": [
    {
     "data": {
      "text/plain": [
       "array([49.72099227, 45.79342664, 50.60155018, 49.1585303 , 49.25194338,\n",
       "       30.16345589, 45.7316198 , 48.94811343, 38.31381671, 32.94165993,\n",
       "       30.41828325, 24.89533799, 22.38857479, 33.31221793, 20.30673989,\n",
       "       80.17251183, 70.34669811, 83.89670863, 79.16813105, 75.29839373,\n",
       "       80.73586628, 82.89945343, 84.13848838, 84.12797363, 82.72266782,\n",
       "       74.2918873 , 79.99919335, 70.1221737 , 81.69926114, 81.0438248 ,\n",
       "       86.66743742, 76.75313417, 80.6280907 , 83.98846221, 81.2863216 ,\n",
       "       69.50616878, 73.17616053, 71.97966537, 76.61802491, 68.49719244,\n",
       "       82.77338841, 82.54060501, 84.86259   , 80.71148816, 81.71252256])"
      ]
     },
     "execution_count": 378,
     "metadata": {},
     "output_type": "execute_result"
    }
   ],
   "source": [
    "y = np.random.normal(size=n, loc=lin_pred, scale=sigma)\n",
    "y"
   ]
  },
  {
   "cell_type": "code",
   "execution_count": 379,
   "metadata": {},
   "outputs": [
    {
     "data": {
      "text/html": [
       "<div>\n",
       "<style scoped>\n",
       "    .dataframe tbody tr th:only-of-type {\n",
       "        vertical-align: middle;\n",
       "    }\n",
       "\n",
       "    .dataframe tbody tr th {\n",
       "        vertical-align: top;\n",
       "    }\n",
       "\n",
       "    .dataframe thead th {\n",
       "        text-align: right;\n",
       "    }\n",
       "</style>\n",
       "<table border=\"1\" class=\"dataframe\">\n",
       "  <thead>\n",
       "    <tr style=\"text-align: right;\">\n",
       "      <th></th>\n",
       "      <th>A</th>\n",
       "      <th>Quads</th>\n",
       "      <th>Sites</th>\n",
       "      <th>y</th>\n",
       "    </tr>\n",
       "  </thead>\n",
       "  <tbody>\n",
       "    <tr>\n",
       "      <th>0</th>\n",
       "      <td>A01</td>\n",
       "      <td>1</td>\n",
       "      <td>S01</td>\n",
       "      <td>49.720992</td>\n",
       "    </tr>\n",
       "    <tr>\n",
       "      <th>1</th>\n",
       "      <td>A01</td>\n",
       "      <td>2</td>\n",
       "      <td>S01</td>\n",
       "      <td>45.793427</td>\n",
       "    </tr>\n",
       "    <tr>\n",
       "      <th>2</th>\n",
       "      <td>A01</td>\n",
       "      <td>3</td>\n",
       "      <td>S01</td>\n",
       "      <td>50.601550</td>\n",
       "    </tr>\n",
       "    <tr>\n",
       "      <th>3</th>\n",
       "      <td>A01</td>\n",
       "      <td>4</td>\n",
       "      <td>S01</td>\n",
       "      <td>49.158530</td>\n",
       "    </tr>\n",
       "    <tr>\n",
       "      <th>4</th>\n",
       "      <td>A01</td>\n",
       "      <td>5</td>\n",
       "      <td>S01</td>\n",
       "      <td>49.251943</td>\n",
       "    </tr>\n",
       "    <tr>\n",
       "      <th>5</th>\n",
       "      <td>A01</td>\n",
       "      <td>6</td>\n",
       "      <td>S02</td>\n",
       "      <td>30.163456</td>\n",
       "    </tr>\n",
       "    <tr>\n",
       "      <th>6</th>\n",
       "      <td>A01</td>\n",
       "      <td>7</td>\n",
       "      <td>S02</td>\n",
       "      <td>45.731620</td>\n",
       "    </tr>\n",
       "    <tr>\n",
       "      <th>7</th>\n",
       "      <td>A01</td>\n",
       "      <td>8</td>\n",
       "      <td>S02</td>\n",
       "      <td>48.948113</td>\n",
       "    </tr>\n",
       "    <tr>\n",
       "      <th>8</th>\n",
       "      <td>A01</td>\n",
       "      <td>9</td>\n",
       "      <td>S02</td>\n",
       "      <td>38.313817</td>\n",
       "    </tr>\n",
       "    <tr>\n",
       "      <th>9</th>\n",
       "      <td>A01</td>\n",
       "      <td>10</td>\n",
       "      <td>S02</td>\n",
       "      <td>32.941660</td>\n",
       "    </tr>\n",
       "  </tbody>\n",
       "</table>\n",
       "</div>"
      ],
      "text/plain": [
       "     A  Quads Sites          y\n",
       "0  A01      1   S01  49.720992\n",
       "1  A01      2   S01  45.793427\n",
       "2  A01      3   S01  50.601550\n",
       "3  A01      4   S01  49.158530\n",
       "4  A01      5   S01  49.251943\n",
       "5  A01      6   S02  30.163456\n",
       "6  A01      7   S02  45.731620\n",
       "7  A01      8   S02  48.948113\n",
       "8  A01      9   S02  38.313817\n",
       "9  A01     10   S02  32.941660"
      ]
     },
     "execution_count": 379,
     "metadata": {},
     "output_type": "execute_result"
    }
   ],
   "source": [
    "data_nest = pd.DataFrame({'y':y, 'A':A, 'Sites':sites, 'Quads': np.arange(y.shape[0])+1})\n",
    "data_nest.head(10)"
   ]
  },
  {
   "cell_type": "code",
   "execution_count": 380,
   "metadata": {},
   "outputs": [
    {
     "data": {
      "text/plain": [
       "<seaborn.axisgrid.FacetGrid at 0x172a556d5f8>"
      ]
     },
     "execution_count": 380,
     "metadata": {},
     "output_type": "execute_result"
    },
    {
     "data": {
      "image/png": "[encoded data removed]",
      "text/plain": [
       "<Figure size 1440x576 with 9 Axes>"
      ]
     },
     "metadata": {},
     "output_type": "display_data"
    }
   ],
   "source": [
    "sns.factorplot(y='y', col='Sites', data=data_nest, kind='box', col_wrap=5)"
   ]
  },
  {
   "cell_type": "code",
   "execution_count": 381,
   "metadata": {},
   "outputs": [
    {
     "data": {
      "text/plain": [
       "<matplotlib.axes._subplots.AxesSubplot at 0x172a5c132e8>"
      ]
     },
     "execution_count": 381,
     "metadata": {},
     "output_type": "execute_result"
    },
    {
     "data": {
      "image/png": "[encoded data removed]",
      "text/plain": [
       "<Figure size 432x288 with 1 Axes>"
      ]
     },
     "metadata": {},
     "output_type": "display_data"
    }
   ],
   "source": [
    "sns.boxplot(y='y', x='Sites', data=data_nest)"
   ]
  },
  {
   "cell_type": "code",
   "execution_count": 382,
   "metadata": {},
   "outputs": [
    {
     "data": {
      "text/plain": [
       "<matplotlib.axes._subplots.AxesSubplot at 0x172a54c9d30>"
      ]
     },
     "execution_count": 382,
     "metadata": {},
     "output_type": "execute_result"
    },
    {
     "data": {
      "image/png": "[encoded data removed]",
      "text/plain": [
       "<Figure size 432x288 with 1 Axes>"
      ]
     },
     "metadata": {},
     "output_type": "display_data"
    }
   ],
   "source": [
    "sns.boxplot(y='y', x='A', data=data_nest)"
   ]
  },
  {
   "cell_type": "code",
   "execution_count": null,
   "metadata": {},
   "outputs": [],
   "source": []
  }
 ],
 "metadata": {
  "kernelspec": {
   "display_name": "Python 3",
   "language": "python",
   "name": "python3"
  },
  "language_info": {
   "codemirror_mode": {
    "name": "ipython",
    "version": 3
   },
   "file_extension": ".py",
   "mimetype": "text/x-python",
   "name": "python",
   "nbconvert_exporter": "python",
   "pygments_lexer": "ipython3",
   "version": "3.6.4"
  }
 },
 "nbformat": 4,
 "nbformat_minor": 2
}
