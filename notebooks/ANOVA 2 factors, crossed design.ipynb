{
 "cells": [
  {
   "cell_type": "code",
   "execution_count": 1,
   "metadata": {},
   "outputs": [
    {
     "name": "stderr",
     "output_type": "stream",
     "text": [
      "C:\\Miniconda3\\envs\\GLM_with_PyMC3\\lib\\site-packages\\h5py\\__init__.py:36: FutureWarning: Conversion of the second argument of issubdtype from `float` to `np.floating` is deprecated. In future, it will be treated as `np.float64 == np.dtype(float).type`.\n",
      "  from ._conv import register_converters as _register_converters\n"
     ]
    }
   ],
   "source": [
    "import pandas as pd\n",
    "import numpy as np\n",
    " \n",
    "%matplotlib inline\n",
    "import matplotlib.pyplot as plt\n",
    "import seaborn as sns\n",
    "sns.set()\n",
    "\n",
    "import pymc3 as pm\n",
    "import patsy"
   ]
  },
  {
   "cell_type": "code",
   "execution_count": 2,
   "metadata": {},
   "outputs": [],
   "source": [
    "nA = 2  #number of levels of A\n",
    "nB = 3  #number of levels of B\n",
    "\n",
    "nsample = 10  #number of reps in each\n",
    "\n",
    "labelsA = ['a{}'.format(i) for i in range(nA)]\n",
    "labelsB = ['b{}'.format(i) for i in range(nB)]\n",
    "\n",
    "A = np.repeat(labelsA, repeats=[nsample//nA, nsample//nA + nsample%nA])\n",
    "B = np.repeat(labelsB, repeats=[nsample//nB, nsample//nB, nsample//nB + nsample%nB])"
   ]
  },
  {
   "cell_type": "code",
   "execution_count": 3,
   "metadata": {},
   "outputs": [
    {
     "data": {
      "text/html": [
       "<div>\n",
       "<style scoped>\n",
       "    .dataframe tbody tr th:only-of-type {\n",
       "        vertical-align: middle;\n",
       "    }\n",
       "\n",
       "    .dataframe tbody tr th {\n",
       "        vertical-align: top;\n",
       "    }\n",
       "\n",
       "    .dataframe thead th {\n",
       "        text-align: right;\n",
       "    }\n",
       "</style>\n",
       "<table border=\"1\" class=\"dataframe\">\n",
       "  <thead>\n",
       "    <tr style=\"text-align: right;\">\n",
       "      <th></th>\n",
       "      <th>A</th>\n",
       "      <th>B</th>\n",
       "      <th>n</th>\n",
       "    </tr>\n",
       "  </thead>\n",
       "  <tbody>\n",
       "    <tr>\n",
       "      <th>0</th>\n",
       "      <td>a0</td>\n",
       "      <td>b0</td>\n",
       "      <td>1</td>\n",
       "    </tr>\n",
       "    <tr>\n",
       "      <th>1</th>\n",
       "      <td>a0</td>\n",
       "      <td>b0</td>\n",
       "      <td>2</td>\n",
       "    </tr>\n",
       "    <tr>\n",
       "      <th>2</th>\n",
       "      <td>a0</td>\n",
       "      <td>b0</td>\n",
       "      <td>3</td>\n",
       "    </tr>\n",
       "    <tr>\n",
       "      <th>3</th>\n",
       "      <td>a0</td>\n",
       "      <td>b0</td>\n",
       "      <td>4</td>\n",
       "    </tr>\n",
       "    <tr>\n",
       "      <th>4</th>\n",
       "      <td>a0</td>\n",
       "      <td>b0</td>\n",
       "      <td>5</td>\n",
       "    </tr>\n",
       "  </tbody>\n",
       "</table>\n",
       "</div>"
      ],
      "text/plain": [
       "    A   B  n\n",
       "0  a0  b0  1\n",
       "1  a0  b0  2\n",
       "2  a0  b0  3\n",
       "3  a0  b0  4\n",
       "4  a0  b0  5"
      ]
     },
     "execution_count": 3,
     "metadata": {},
     "output_type": "execute_result"
    }
   ],
   "source": [
    "# cartesian product\n",
    "import itertools\n",
    "data = pd.DataFrame([row for row in itertools.product(labelsA, labelsB, np.arange(nsample)+1)], columns=['A', 'B', 'n'])\n",
    "data.head()"
   ]
  },
  {
   "cell_type": "code",
   "execution_count": 4,
   "metadata": {},
   "outputs": [
    {
     "data": {
      "text/plain": [
       "DesignMatrix with shape (60, 6)\n",
       "  Intercept  A[T.a1]  B[T.b1]  B[T.b2]  A[T.a1]:B[T.b1]  A[T.a1]:B[T.b2]\n",
       "          1        0        0        0                0                0\n",
       "          1        0        0        0                0                0\n",
       "          1        0        0        0                0                0\n",
       "          1        0        0        0                0                0\n",
       "          1        0        0        0                0                0\n",
       "          1        0        0        0                0                0\n",
       "          1        0        0        0                0                0\n",
       "          1        0        0        0                0                0\n",
       "          1        0        0        0                0                0\n",
       "          1        0        0        0                0                0\n",
       "          1        0        1        0                0                0\n",
       "          1        0        1        0                0                0\n",
       "          1        0        1        0                0                0\n",
       "          1        0        1        0                0                0\n",
       "          1        0        1        0                0                0\n",
       "          1        0        1        0                0                0\n",
       "          1        0        1        0                0                0\n",
       "          1        0        1        0                0                0\n",
       "          1        0        1        0                0                0\n",
       "          1        0        1        0                0                0\n",
       "          1        0        0        1                0                0\n",
       "          1        0        0        1                0                0\n",
       "          1        0        0        1                0                0\n",
       "          1        0        0        1                0                0\n",
       "          1        0        0        1                0                0\n",
       "          1        0        0        1                0                0\n",
       "          1        0        0        1                0                0\n",
       "          1        0        0        1                0                0\n",
       "          1        0        0        1                0                0\n",
       "          1        0        0        1                0                0\n",
       "  [30 rows omitted]\n",
       "  Terms:\n",
       "    'Intercept' (column 0)\n",
       "    'A' (column 1)\n",
       "    'B' (columns 2:4)\n",
       "    'A:B' (columns 4:6)\n",
       "  (to view full data, use np.asarray(this_obj))"
      ]
     },
     "execution_count": 4,
     "metadata": {},
     "output_type": "execute_result"
    }
   ],
   "source": [
    "# Whilst the above two are equivalent for simple designs \n",
    "# (such as that illustrated), the means parameterization \n",
    "# (that does not include an intercept, or overall mean) \n",
    "# is limited to simple single factor designs. \n",
    "# Designs that involve additional predictors can only be\n",
    "# accommodated via effects parameterization.\n",
    "\n",
    "X_design = patsy.dmatrix(\"1 + A*B\", data=data)\n",
    "\n",
    "X = np.asarray(X_design)\n",
    "X_design"
   ]
  },
  {
   "cell_type": "code",
   "execution_count": 5,
   "metadata": {},
   "outputs": [
    {
     "data": {
      "text/html": [
       "<div>\n",
       "<style scoped>\n",
       "    .dataframe tbody tr th:only-of-type {\n",
       "        vertical-align: middle;\n",
       "    }\n",
       "\n",
       "    .dataframe tbody tr th {\n",
       "        vertical-align: top;\n",
       "    }\n",
       "\n",
       "    .dataframe thead th {\n",
       "        text-align: right;\n",
       "    }\n",
       "</style>\n",
       "<table border=\"1\" class=\"dataframe\">\n",
       "  <thead>\n",
       "    <tr style=\"text-align: right;\">\n",
       "      <th></th>\n",
       "      <th>A</th>\n",
       "      <th>B</th>\n",
       "      <th>n</th>\n",
       "      <th>y</th>\n",
       "    </tr>\n",
       "  </thead>\n",
       "  <tbody>\n",
       "    <tr>\n",
       "      <th>0</th>\n",
       "      <td>a0</td>\n",
       "      <td>b0</td>\n",
       "      <td>1</td>\n",
       "      <td>39.385877</td>\n",
       "    </tr>\n",
       "    <tr>\n",
       "      <th>1</th>\n",
       "      <td>a0</td>\n",
       "      <td>b0</td>\n",
       "      <td>2</td>\n",
       "      <td>41.436830</td>\n",
       "    </tr>\n",
       "    <tr>\n",
       "      <th>2</th>\n",
       "      <td>a0</td>\n",
       "      <td>b0</td>\n",
       "      <td>3</td>\n",
       "      <td>38.441684</td>\n",
       "    </tr>\n",
       "    <tr>\n",
       "      <th>3</th>\n",
       "      <td>a0</td>\n",
       "      <td>b0</td>\n",
       "      <td>4</td>\n",
       "      <td>38.332809</td>\n",
       "    </tr>\n",
       "    <tr>\n",
       "      <th>4</th>\n",
       "      <td>a0</td>\n",
       "      <td>b0</td>\n",
       "      <td>5</td>\n",
       "      <td>45.897342</td>\n",
       "    </tr>\n",
       "  </tbody>\n",
       "</table>\n",
       "</div>"
      ],
      "text/plain": [
       "    A   B  n          y\n",
       "0  a0  b0  1  39.385877\n",
       "1  a0  b0  2  41.436830\n",
       "2  a0  b0  3  38.441684\n",
       "3  a0  b0  4  38.332809\n",
       "4  a0  b0  5  45.897342"
      ]
     },
     "execution_count": 5,
     "metadata": {},
     "output_type": "execute_result"
    }
   ],
   "source": [
    "np.random.seed(12345)\n",
    "\n",
    "eff = np.array([40, 15, 5, 0, -15, 10])\n",
    "sigma = 3  #residual standard deviation\n",
    "eps = np.random.normal(loc=0, scale=sigma, size=X.shape[0])\n",
    "\n",
    "y = np.dot(X, eff) + eps\n",
    "data['y'] = y\n",
    "data['A'] = pd.Categorical(data.A, ordered=False)\n",
    "data['B'] = pd.Categorical(data.B, ordered=False)\n",
    "data.head()"
   ]
  },
  {
   "cell_type": "code",
   "execution_count": 6,
   "metadata": {},
   "outputs": [
    {
     "data": {
      "text/plain": [
       "<seaborn.axisgrid.FacetGrid at 0x18e3b4e10b8>"
      ]
     },
     "execution_count": 6,
     "metadata": {},
     "output_type": "execute_result"
    },
    {
     "data": {
      "image/png": "[encoded data removed]",
      "text/plain": [
       "<Figure size 335.125x288 with 1 Axes>"
      ]
     },
     "metadata": {},
     "output_type": "display_data"
    },
    {
     "data": {
      "image/png": "[encoded data removed]",
      "text/plain": [
       "<Figure size 335.125x288 with 1 Axes>"
      ]
     },
     "metadata": {},
     "output_type": "display_data"
    }
   ],
   "source": [
    "sns.factorplot(x='A', y='y', hue='B', data=data)\n",
    "sns.factorplot(x='A', y='y', hue='B', kind='box', data=data)"
   ]
  },
  {
   "cell_type": "code",
   "execution_count": 7,
   "metadata": {},
   "outputs": [
    {
     "data": {
      "text/html": [
       "<div>\n",
       "<style scoped>\n",
       "    .dataframe tbody tr th:only-of-type {\n",
       "        vertical-align: middle;\n",
       "    }\n",
       "\n",
       "    .dataframe tbody tr th {\n",
       "        vertical-align: top;\n",
       "    }\n",
       "\n",
       "    .dataframe thead th {\n",
       "        text-align: right;\n",
       "    }\n",
       "</style>\n",
       "<table border=\"1\" class=\"dataframe\">\n",
       "  <thead>\n",
       "    <tr style=\"text-align: right;\">\n",
       "      <th></th>\n",
       "      <th></th>\n",
       "      <th>n</th>\n",
       "      <th>y</th>\n",
       "    </tr>\n",
       "    <tr>\n",
       "      <th>A</th>\n",
       "      <th>B</th>\n",
       "      <th></th>\n",
       "      <th></th>\n",
       "    </tr>\n",
       "  </thead>\n",
       "  <tbody>\n",
       "    <tr>\n",
       "      <th rowspan=\"3\" valign=\"top\">a0</th>\n",
       "      <th>b0</th>\n",
       "      <td>5.5</td>\n",
       "      <td>41.484509</td>\n",
       "    </tr>\n",
       "    <tr>\n",
       "      <th>b1</th>\n",
       "      <td>5.5</td>\n",
       "      <td>45.393358</td>\n",
       "    </tr>\n",
       "    <tr>\n",
       "      <th>b2</th>\n",
       "      <td>5.5</td>\n",
       "      <td>41.164939</td>\n",
       "    </tr>\n",
       "    <tr>\n",
       "      <th rowspan=\"3\" valign=\"top\">a1</th>\n",
       "      <th>b0</th>\n",
       "      <td>5.5</td>\n",
       "      <td>52.614088</td>\n",
       "    </tr>\n",
       "    <tr>\n",
       "      <th>b1</th>\n",
       "      <td>5.5</td>\n",
       "      <td>43.563826</td>\n",
       "    </tr>\n",
       "    <tr>\n",
       "      <th>b2</th>\n",
       "      <td>5.5</td>\n",
       "      <td>65.086505</td>\n",
       "    </tr>\n",
       "  </tbody>\n",
       "</table>\n",
       "</div>"
      ],
      "text/plain": [
       "         n          y\n",
       "A  B                 \n",
       "a0 b0  5.5  41.484509\n",
       "   b1  5.5  45.393358\n",
       "   b2  5.5  41.164939\n",
       "a1 b0  5.5  52.614088\n",
       "   b1  5.5  43.563826\n",
       "   b2  5.5  65.086505"
      ]
     },
     "execution_count": 7,
     "metadata": {},
     "output_type": "execute_result"
    }
   ],
   "source": [
    "data.groupby(by=('A', 'B')).mean()"
   ]
  },
  {
   "cell_type": "code",
   "execution_count": 8,
   "metadata": {},
   "outputs": [
    {
     "name": "stderr",
     "output_type": "stream",
     "text": [
      "C:\\Miniconda3\\envs\\GLM_with_PyMC3\\lib\\site-packages\\pymc3\\model.py:384: FutureWarning: Conversion of the second argument of issubdtype from `float` to `np.floating` is deprecated. In future, it will be treated as `np.float64 == np.dtype(float).type`.\n",
      "  if not np.issubdtype(var.dtype, float):\n",
      "WARNING (theano.tensor.blas): We did not find a dynamic library in the library_dir of the library we use for blas. If you use ATLAS, make sure to compile it with dynamics library.\n",
      "Multiprocess sampling (2 chains in 2 jobs)\n",
      "NUTS: [sd_log__, beta]\n"
     ]
    }
   ],
   "source": [
    "with pm.Model() as ANOVA_factorial_treatment_coding:\n",
    "    \n",
    "    beta = pm.Normal('beta', mu=0, sd=100, shape=(X.shape[1]))\n",
    "    sd = pm.HalfCauchy('sd', beta=5)\n",
    "    \n",
    "    mu = pm.math.dot(X, beta)\n",
    "    \n",
    "    # assume same sd. How to index different sd's distributions?\n",
    "    y_likelihood = pm.Normal('y_likelihood', mu=mu, sd=sd, observed=data.y)\n",
    "    \n",
    "    trace = pm.sample(draws=3000, step=pm.NUTS(), njobs=2, tune=1000)"
   ]
  },
  {
   "cell_type": "code",
   "execution_count": 9,
   "metadata": {},
   "outputs": [
    {
     "data": {
      "image/png": "[encoded data removed]",
      "text/plain": [
       "<Figure size 864x288 with 4 Axes>"
      ]
     },
     "metadata": {},
     "output_type": "display_data"
    }
   ],
   "source": [
    "_ = pm.traceplot(trace)"
   ]
  },
  {
   "cell_type": "code",
   "execution_count": 10,
   "metadata": {},
   "outputs": [
    {
     "data": {
      "text/html": [
       "<div>\n",
       "<style scoped>\n",
       "    .dataframe tbody tr th:only-of-type {\n",
       "        vertical-align: middle;\n",
       "    }\n",
       "\n",
       "    .dataframe tbody tr th {\n",
       "        vertical-align: top;\n",
       "    }\n",
       "\n",
       "    .dataframe thead th {\n",
       "        text-align: right;\n",
       "    }\n",
       "</style>\n",
       "<table border=\"1\" class=\"dataframe\">\n",
       "  <thead>\n",
       "    <tr style=\"text-align: right;\">\n",
       "      <th></th>\n",
       "      <th>mean</th>\n",
       "      <th>sd</th>\n",
       "      <th>mc_error</th>\n",
       "      <th>hpd_2.5</th>\n",
       "      <th>hpd_97.5</th>\n",
       "      <th>n_eff</th>\n",
       "      <th>Rhat</th>\n",
       "    </tr>\n",
       "  </thead>\n",
       "  <tbody>\n",
       "    <tr>\n",
       "      <th>beta__0</th>\n",
       "      <td>41.493802</td>\n",
       "      <td>0.995530</td>\n",
       "      <td>0.019014</td>\n",
       "      <td>39.565890</td>\n",
       "      <td>43.391974</td>\n",
       "      <td>2184.0</td>\n",
       "      <td>0.999854</td>\n",
       "    </tr>\n",
       "    <tr>\n",
       "      <th>beta__1</th>\n",
       "      <td>11.132038</td>\n",
       "      <td>1.431382</td>\n",
       "      <td>0.027785</td>\n",
       "      <td>8.340744</td>\n",
       "      <td>13.953625</td>\n",
       "      <td>2173.0</td>\n",
       "      <td>0.999851</td>\n",
       "    </tr>\n",
       "    <tr>\n",
       "      <th>beta__2</th>\n",
       "      <td>3.914762</td>\n",
       "      <td>1.408573</td>\n",
       "      <td>0.025532</td>\n",
       "      <td>1.273505</td>\n",
       "      <td>6.764068</td>\n",
       "      <td>2489.0</td>\n",
       "      <td>0.999834</td>\n",
       "    </tr>\n",
       "    <tr>\n",
       "      <th>beta__3</th>\n",
       "      <td>-0.318076</td>\n",
       "      <td>1.410255</td>\n",
       "      <td>0.025050</td>\n",
       "      <td>-3.005772</td>\n",
       "      <td>2.516696</td>\n",
       "      <td>2444.0</td>\n",
       "      <td>0.999864</td>\n",
       "    </tr>\n",
       "    <tr>\n",
       "      <th>beta__4</th>\n",
       "      <td>-12.985935</td>\n",
       "      <td>2.021903</td>\n",
       "      <td>0.036788</td>\n",
       "      <td>-16.955086</td>\n",
       "      <td>-9.072226</td>\n",
       "      <td>2461.0</td>\n",
       "      <td>0.999873</td>\n",
       "    </tr>\n",
       "    <tr>\n",
       "      <th>beta__5</th>\n",
       "      <td>12.780645</td>\n",
       "      <td>2.025172</td>\n",
       "      <td>0.036429</td>\n",
       "      <td>8.765728</td>\n",
       "      <td>16.730365</td>\n",
       "      <td>2513.0</td>\n",
       "      <td>0.999889</td>\n",
       "    </tr>\n",
       "    <tr>\n",
       "      <th>sd</th>\n",
       "      <td>3.158754</td>\n",
       "      <td>0.301864</td>\n",
       "      <td>0.004816</td>\n",
       "      <td>2.623597</td>\n",
       "      <td>3.787724</td>\n",
       "      <td>4163.0</td>\n",
       "      <td>1.000100</td>\n",
       "    </tr>\n",
       "  </tbody>\n",
       "</table>\n",
       "</div>"
      ],
      "text/plain": [
       "              mean        sd  mc_error    hpd_2.5   hpd_97.5   n_eff      Rhat\n",
       "beta__0  41.493802  0.995530  0.019014  39.565890  43.391974  2184.0  0.999854\n",
       "beta__1  11.132038  1.431382  0.027785   8.340744  13.953625  2173.0  0.999851\n",
       "beta__2   3.914762  1.408573  0.025532   1.273505   6.764068  2489.0  0.999834\n",
       "beta__3  -0.318076  1.410255  0.025050  -3.005772   2.516696  2444.0  0.999864\n",
       "beta__4 -12.985935  2.021903  0.036788 -16.955086  -9.072226  2461.0  0.999873\n",
       "beta__5  12.780645  2.025172  0.036429   8.765728  16.730365  2513.0  0.999889\n",
       "sd        3.158754  0.301864  0.004816   2.623597   3.787724  4163.0  1.000100"
      ]
     },
     "execution_count": 10,
     "metadata": {},
     "output_type": "execute_result"
    }
   ],
   "source": [
    "pm.summary(trace)"
   ]
  },
  {
   "cell_type": "code",
   "execution_count": 11,
   "metadata": {},
   "outputs": [
    {
     "data": {
      "text/html": [
       "<div>\n",
       "<style scoped>\n",
       "    .dataframe tbody tr th:only-of-type {\n",
       "        vertical-align: middle;\n",
       "    }\n",
       "\n",
       "    .dataframe tbody tr th {\n",
       "        vertical-align: top;\n",
       "    }\n",
       "\n",
       "    .dataframe thead th {\n",
       "        text-align: right;\n",
       "    }\n",
       "</style>\n",
       "<table border=\"1\" class=\"dataframe\">\n",
       "  <thead>\n",
       "    <tr style=\"text-align: right;\">\n",
       "      <th></th>\n",
       "      <th>mean</th>\n",
       "      <th>sd</th>\n",
       "      <th>mc_error</th>\n",
       "      <th>hpd_2.5</th>\n",
       "      <th>hpd_97.5</th>\n",
       "      <th>n_eff</th>\n",
       "      <th>Rhat</th>\n",
       "    </tr>\n",
       "  </thead>\n",
       "  <tbody>\n",
       "    <tr>\n",
       "      <th>Intercept</th>\n",
       "      <td>41.493802</td>\n",
       "      <td>0.995530</td>\n",
       "      <td>0.019014</td>\n",
       "      <td>39.565890</td>\n",
       "      <td>43.391974</td>\n",
       "      <td>2184.0</td>\n",
       "      <td>0.999854</td>\n",
       "    </tr>\n",
       "    <tr>\n",
       "      <th>A[T.a1]</th>\n",
       "      <td>11.132038</td>\n",
       "      <td>1.431382</td>\n",
       "      <td>0.027785</td>\n",
       "      <td>8.340744</td>\n",
       "      <td>13.953625</td>\n",
       "      <td>2173.0</td>\n",
       "      <td>0.999851</td>\n",
       "    </tr>\n",
       "    <tr>\n",
       "      <th>B[T.b1]</th>\n",
       "      <td>3.914762</td>\n",
       "      <td>1.408573</td>\n",
       "      <td>0.025532</td>\n",
       "      <td>1.273505</td>\n",
       "      <td>6.764068</td>\n",
       "      <td>2489.0</td>\n",
       "      <td>0.999834</td>\n",
       "    </tr>\n",
       "    <tr>\n",
       "      <th>B[T.b2]</th>\n",
       "      <td>-0.318076</td>\n",
       "      <td>1.410255</td>\n",
       "      <td>0.025050</td>\n",
       "      <td>-3.005772</td>\n",
       "      <td>2.516696</td>\n",
       "      <td>2444.0</td>\n",
       "      <td>0.999864</td>\n",
       "    </tr>\n",
       "    <tr>\n",
       "      <th>A[T.a1]:B[T.b1]</th>\n",
       "      <td>-12.985935</td>\n",
       "      <td>2.021903</td>\n",
       "      <td>0.036788</td>\n",
       "      <td>-16.955086</td>\n",
       "      <td>-9.072226</td>\n",
       "      <td>2461.0</td>\n",
       "      <td>0.999873</td>\n",
       "    </tr>\n",
       "    <tr>\n",
       "      <th>A[T.a1]:B[T.b2]</th>\n",
       "      <td>12.780645</td>\n",
       "      <td>2.025172</td>\n",
       "      <td>0.036429</td>\n",
       "      <td>8.765728</td>\n",
       "      <td>16.730365</td>\n",
       "      <td>2513.0</td>\n",
       "      <td>0.999889</td>\n",
       "    </tr>\n",
       "    <tr>\n",
       "      <th>sd</th>\n",
       "      <td>3.158754</td>\n",
       "      <td>0.301864</td>\n",
       "      <td>0.004816</td>\n",
       "      <td>2.623597</td>\n",
       "      <td>3.787724</td>\n",
       "      <td>4163.0</td>\n",
       "      <td>1.000100</td>\n",
       "    </tr>\n",
       "  </tbody>\n",
       "</table>\n",
       "</div>"
      ],
      "text/plain": [
       "                      mean        sd  mc_error    hpd_2.5   hpd_97.5   n_eff  \\\n",
       "Intercept        41.493802  0.995530  0.019014  39.565890  43.391974  2184.0   \n",
       "A[T.a1]          11.132038  1.431382  0.027785   8.340744  13.953625  2173.0   \n",
       "B[T.b1]           3.914762  1.408573  0.025532   1.273505   6.764068  2489.0   \n",
       "B[T.b2]          -0.318076  1.410255  0.025050  -3.005772   2.516696  2444.0   \n",
       "A[T.a1]:B[T.b1] -12.985935  2.021903  0.036788 -16.955086  -9.072226  2461.0   \n",
       "A[T.a1]:B[T.b2]  12.780645  2.025172  0.036429   8.765728  16.730365  2513.0   \n",
       "sd                3.158754  0.301864  0.004816   2.623597   3.787724  4163.0   \n",
       "\n",
       "                     Rhat  \n",
       "Intercept        0.999854  \n",
       "A[T.a1]          0.999851  \n",
       "B[T.b1]          0.999834  \n",
       "B[T.b2]          0.999864  \n",
       "A[T.a1]:B[T.b1]  0.999873  \n",
       "A[T.a1]:B[T.b2]  0.999889  \n",
       "sd               1.000100  "
      ]
     },
     "execution_count": 11,
     "metadata": {},
     "output_type": "execute_result"
    }
   ],
   "source": [
    "df_for_display = pm.summary(trace)\n",
    "\n",
    "rows_name = X_design.design_info.column_names[:]\n",
    "rows_name.append('sd')\n",
    "\n",
    "df_for_display.index = rows_name\n",
    "df_for_display"
   ]
  },
  {
   "cell_type": "code",
   "execution_count": 12,
   "metadata": {},
   "outputs": [
    {
     "data": {
      "image/png": "[encoded data removed]",
      "text/plain": [
       "<Figure size 864x540 with 6 Axes>"
      ]
     },
     "metadata": {},
     "output_type": "display_data"
    }
   ],
   "source": [
    "X_design.design_info.column_names\n",
    "ax = pm.plot_posterior(trace, ['beta'])\n",
    "for idx, title in enumerate(X_design.design_info.column_names):\n",
    "    ax[idx].set_title(title)"
   ]
  },
  {
   "cell_type": "code",
   "execution_count": 13,
   "metadata": {},
   "outputs": [
    {
     "data": {
      "text/plain": [
       "['beta__0', 'beta__1', 'beta__2', 'beta__3', 'beta__4', 'beta__5']"
      ]
     },
     "execution_count": 13,
     "metadata": {},
     "output_type": "execute_result"
    }
   ],
   "source": [
    "df_for_contrast = pm.summary(trace)\n",
    "\n",
    "wch = list(df_for_contrast.index)\n",
    "wch = [i for i in wch if i.startswith('beta')]\n",
    "wch"
   ]
  },
  {
   "cell_type": "code",
   "execution_count": 14,
   "metadata": {},
   "outputs": [
    {
     "data": {
      "text/html": [
       "<div>\n",
       "<style scoped>\n",
       "    .dataframe tbody tr th:only-of-type {\n",
       "        vertical-align: middle;\n",
       "    }\n",
       "\n",
       "    .dataframe tbody tr th {\n",
       "        vertical-align: top;\n",
       "    }\n",
       "\n",
       "    .dataframe thead th {\n",
       "        text-align: right;\n",
       "    }\n",
       "</style>\n",
       "<table border=\"1\" class=\"dataframe\">\n",
       "  <thead>\n",
       "    <tr style=\"text-align: right;\">\n",
       "      <th></th>\n",
       "      <th>A</th>\n",
       "      <th>B</th>\n",
       "    </tr>\n",
       "  </thead>\n",
       "  <tbody>\n",
       "    <tr>\n",
       "      <th>0</th>\n",
       "      <td>a0</td>\n",
       "      <td>b0</td>\n",
       "    </tr>\n",
       "    <tr>\n",
       "      <th>1</th>\n",
       "      <td>a0</td>\n",
       "      <td>b1</td>\n",
       "    </tr>\n",
       "    <tr>\n",
       "      <th>2</th>\n",
       "      <td>a0</td>\n",
       "      <td>b2</td>\n",
       "    </tr>\n",
       "    <tr>\n",
       "      <th>3</th>\n",
       "      <td>a1</td>\n",
       "      <td>b0</td>\n",
       "    </tr>\n",
       "    <tr>\n",
       "      <th>4</th>\n",
       "      <td>a1</td>\n",
       "      <td>b1</td>\n",
       "    </tr>\n",
       "    <tr>\n",
       "      <th>5</th>\n",
       "      <td>a1</td>\n",
       "      <td>b2</td>\n",
       "    </tr>\n",
       "  </tbody>\n",
       "</table>\n",
       "</div>"
      ],
      "text/plain": [
       "    A   B\n",
       "0  a0  b0\n",
       "1  a0  b1\n",
       "2  a0  b2\n",
       "3  a1  b0\n",
       "4  a1  b1\n",
       "5  a1  b2"
      ]
     },
     "execution_count": 14,
     "metadata": {},
     "output_type": "execute_result"
    }
   ],
   "source": [
    "newdata = pd.DataFrame([row for row in itertools.product(labelsA, labelsB)], columns=['A', 'B'])\n",
    "newdata"
   ]
  },
  {
   "cell_type": "code",
   "execution_count": 15,
   "metadata": {},
   "outputs": [
    {
     "data": {
      "text/html": [
       "<div>\n",
       "<style scoped>\n",
       "    .dataframe tbody tr th:only-of-type {\n",
       "        vertical-align: middle;\n",
       "    }\n",
       "\n",
       "    .dataframe tbody tr th {\n",
       "        vertical-align: top;\n",
       "    }\n",
       "\n",
       "    .dataframe thead th {\n",
       "        text-align: right;\n",
       "    }\n",
       "</style>\n",
       "<table border=\"1\" class=\"dataframe\">\n",
       "  <thead>\n",
       "    <tr style=\"text-align: right;\">\n",
       "      <th></th>\n",
       "      <th>Intercept</th>\n",
       "      <th>A[T.a1]</th>\n",
       "      <th>B[T.b1]</th>\n",
       "      <th>B[T.b2]</th>\n",
       "      <th>A[T.a1]:B[T.b1]</th>\n",
       "      <th>A[T.a1]:B[T.b2]</th>\n",
       "    </tr>\n",
       "  </thead>\n",
       "  <tbody>\n",
       "    <tr>\n",
       "      <th>0</th>\n",
       "      <td>1.0</td>\n",
       "      <td>0.0</td>\n",
       "      <td>0.0</td>\n",
       "      <td>0.0</td>\n",
       "      <td>0.0</td>\n",
       "      <td>0.0</td>\n",
       "    </tr>\n",
       "    <tr>\n",
       "      <th>1</th>\n",
       "      <td>1.0</td>\n",
       "      <td>0.0</td>\n",
       "      <td>1.0</td>\n",
       "      <td>0.0</td>\n",
       "      <td>0.0</td>\n",
       "      <td>0.0</td>\n",
       "    </tr>\n",
       "    <tr>\n",
       "      <th>2</th>\n",
       "      <td>1.0</td>\n",
       "      <td>0.0</td>\n",
       "      <td>0.0</td>\n",
       "      <td>1.0</td>\n",
       "      <td>0.0</td>\n",
       "      <td>0.0</td>\n",
       "    </tr>\n",
       "    <tr>\n",
       "      <th>3</th>\n",
       "      <td>1.0</td>\n",
       "      <td>1.0</td>\n",
       "      <td>0.0</td>\n",
       "      <td>0.0</td>\n",
       "      <td>0.0</td>\n",
       "      <td>0.0</td>\n",
       "    </tr>\n",
       "    <tr>\n",
       "      <th>4</th>\n",
       "      <td>1.0</td>\n",
       "      <td>1.0</td>\n",
       "      <td>1.0</td>\n",
       "      <td>0.0</td>\n",
       "      <td>1.0</td>\n",
       "      <td>0.0</td>\n",
       "    </tr>\n",
       "    <tr>\n",
       "      <th>5</th>\n",
       "      <td>1.0</td>\n",
       "      <td>1.0</td>\n",
       "      <td>0.0</td>\n",
       "      <td>1.0</td>\n",
       "      <td>0.0</td>\n",
       "      <td>1.0</td>\n",
       "    </tr>\n",
       "  </tbody>\n",
       "</table>\n",
       "</div>"
      ],
      "text/plain": [
       "   Intercept  A[T.a1]  B[T.b1]  B[T.b2]  A[T.a1]:B[T.b1]  A[T.a1]:B[T.b2]\n",
       "0        1.0      0.0      0.0      0.0              0.0              0.0\n",
       "1        1.0      0.0      1.0      0.0              0.0              0.0\n",
       "2        1.0      0.0      0.0      1.0              0.0              0.0\n",
       "3        1.0      1.0      0.0      0.0              0.0              0.0\n",
       "4        1.0      1.0      1.0      0.0              1.0              0.0\n",
       "5        1.0      1.0      0.0      1.0              0.0              1.0"
      ]
     },
     "execution_count": 15,
     "metadata": {},
     "output_type": "execute_result"
    }
   ],
   "source": [
    "Xmat = patsy.dmatrix('1 + A * B', data = newdata, return_type='dataframe')\n",
    "Xmat"
   ]
  },
  {
   "cell_type": "code",
   "execution_count": 16,
   "metadata": {},
   "outputs": [
    {
     "data": {
      "text/plain": [
       "(6000, 6)"
      ]
     },
     "execution_count": 16,
     "metadata": {},
     "output_type": "execute_result"
    }
   ],
   "source": [
    "coefs = trace['beta']\n",
    "coefs.shape"
   ]
  },
  {
   "cell_type": "code",
   "execution_count": 17,
   "metadata": {},
   "outputs": [
    {
     "data": {
      "text/plain": [
       "(6000, 6)"
      ]
     },
     "execution_count": 17,
     "metadata": {},
     "output_type": "execute_result"
    }
   ],
   "source": [
    "fit = np.dot(coefs, Xmat.T)\n",
    "fit.shape"
   ]
  },
  {
   "cell_type": "code",
   "execution_count": 18,
   "metadata": {},
   "outputs": [
    {
     "name": "stdout",
     "output_type": "stream",
     "text": [
      "[[41.59 45.68 42.7  53.3  42.14 65.93]\n",
      " [39.64 45.5  40.32 53.26 43.72 65.34]\n",
      " [40.18 45.73 41.21 53.23 43.66 64.4 ]\n",
      " [42.11 45.15 40.24 52.02 43.51 64.9 ]\n",
      " [41.8  45.03 40.76 53.51 42.52 64.41]\n",
      " [42.21 44.62 40.96 54.89 43.8  65.7 ]\n",
      " [40.83 45.41 40.23 55.09 42.72 66.86]\n",
      " [40.29 44.69 43.05 50.84 41.78 64.94]\n",
      " [41.6  44.73 39.54 53.88 42.44 65.23]\n",
      " [42.1  44.25 40.13 54.4  43.82 65.23]]\n"
     ]
    }
   ],
   "source": [
    "print(np.array_str(fit[:10, :], precision=2, suppress_small=True))"
   ]
  },
  {
   "cell_type": "code",
   "execution_count": 19,
   "metadata": {},
   "outputs": [
    {
     "data": {
      "text/plain": [
       "array([[41.59374893, 45.68144766, 42.69750424, 53.30464086, 42.13566194,\n",
       "        65.93294152],\n",
       "       [39.63937145, 45.49819098, 40.32350881, 53.26232256, 43.72275566,\n",
       "        65.34342477],\n",
       "       [40.17946895, 45.7296496 , 41.2097796 , 53.2262761 , 43.66128525,\n",
       "        64.39575595],\n",
       "       ...,\n",
       "       [40.00831971, 43.81327174, 40.7773611 , 50.33772959, 42.9268659 ,\n",
       "        65.67090661],\n",
       "       [41.21223207, 44.87108115, 40.97373387, 52.37948404, 44.56386636,\n",
       "        64.49533699],\n",
       "       [41.95913885, 45.17623286, 40.58590203, 53.2017757 , 43.0924139 ,\n",
       "        66.37869602]])"
      ]
     },
     "execution_count": 19,
     "metadata": {},
     "output_type": "execute_result"
    }
   ],
   "source": [
    "fit"
   ]
  },
  {
   "cell_type": "code",
   "execution_count": 24,
   "metadata": {},
   "outputs": [
    {
     "data": {
      "text/plain": [
       "array([-3.00577173,  2.51669586])"
      ]
     },
     "execution_count": 24,
     "metadata": {},
     "output_type": "execute_result"
    }
   ],
   "source": [
    "pm.hpd(fit[:, 2] - fit[:, 0])"
   ]
  },
  {
   "cell_type": "code",
   "execution_count": 44,
   "metadata": {},
   "outputs": [
    {
     "data": {
      "text/plain": [
       "-0.3180756298209489"
      ]
     },
     "execution_count": 44,
     "metadata": {},
     "output_type": "execute_result"
    }
   ],
   "source": [
    "np.mean(fit[:, 2] - fit[:, 0])"
   ]
  },
  {
   "cell_type": "code",
   "execution_count": 45,
   "metadata": {},
   "outputs": [
    {
     "data": {
      "text/plain": [
       "1.4102551456923778"
      ]
     },
     "execution_count": 45,
     "metadata": {},
     "output_type": "execute_result"
    }
   ],
   "source": [
    "np.std(fit[:, 2] - fit[:, 0])"
   ]
  },
  {
   "cell_type": "code",
   "execution_count": null,
   "metadata": {},
   "outputs": [],
   "source": []
  }
 ],
 "metadata": {
  "kernelspec": {
   "display_name": "Python 3",
   "language": "python",
   "name": "python3"
  },
  "language_info": {
   "codemirror_mode": {
    "name": "ipython",
    "version": 3
   },
   "file_extension": ".py",
   "mimetype": "text/x-python",
   "name": "python",
   "nbconvert_exporter": "python",
   "pygments_lexer": "ipython3",
   "version": "3.6.4"
  }
 },
 "nbformat": 4,
 "nbformat_minor": 2
}
