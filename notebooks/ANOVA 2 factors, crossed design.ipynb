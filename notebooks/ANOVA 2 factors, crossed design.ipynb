{
 "cells": [
  {
   "cell_type": "markdown",
   "metadata": {},
   "source": [
    "# Multifactorial ANOVA\n",
    "## 2 factors, crossed design\n",
    "Reference: http://www.flutterbys.com.au/stats/tut/tut7.6b.html"
   ]
  },
  {
   "cell_type": "code",
   "execution_count": 1,
   "metadata": {},
   "outputs": [
    {
     "name": "stderr",
     "output_type": "stream",
     "text": [
      "C:\\Miniconda3\\envs\\GLM_with_PyMC3\\lib\\site-packages\\h5py\\__init__.py:36: FutureWarning: Conversion of the second argument of issubdtype from `float` to `np.floating` is deprecated. In future, it will be treated as `np.float64 == np.dtype(float).type`.\n",
      "  from ._conv import register_converters as _register_converters\n"
     ]
    }
   ],
   "source": [
    "import pandas as pd\n",
    "import numpy as np\n",
    " \n",
    "%matplotlib inline\n",
    "import matplotlib.pyplot as plt\n",
    "import seaborn as sns\n",
    "sns.set()\n",
    "\n",
    "import pymc3 as pm\n",
    "import patsy"
   ]
  },
  {
   "cell_type": "markdown",
   "metadata": {},
   "source": [
    "### Data generation"
   ]
  },
  {
   "cell_type": "code",
   "execution_count": 2,
   "metadata": {},
   "outputs": [],
   "source": [
    "nA = 2  #number of levels of A\n",
    "nB = 3  #number of levels of B\n",
    "\n",
    "nsample = 50  #number of reps in each\n",
    "\n",
    "labelsA = ['a{}'.format(i) for i in range(nA)]\n",
    "labelsB = ['b{}'.format(i) for i in range(nB)]\n",
    "\n",
    "A = np.repeat(labelsA, repeats=[nsample//nA, nsample//nA + nsample%nA])\n",
    "B = np.repeat(labelsB, repeats=[nsample//nB, nsample//nB, nsample//nB + nsample%nB])"
   ]
  },
  {
   "cell_type": "code",
   "execution_count": 3,
   "metadata": {},
   "outputs": [
    {
     "data": {
      "text/html": [
       "<div>\n",
       "<style scoped>\n",
       "    .dataframe tbody tr th:only-of-type {\n",
       "        vertical-align: middle;\n",
       "    }\n",
       "\n",
       "    .dataframe tbody tr th {\n",
       "        vertical-align: top;\n",
       "    }\n",
       "\n",
       "    .dataframe thead th {\n",
       "        text-align: right;\n",
       "    }\n",
       "</style>\n",
       "<table border=\"1\" class=\"dataframe\">\n",
       "  <thead>\n",
       "    <tr style=\"text-align: right;\">\n",
       "      <th></th>\n",
       "      <th>A</th>\n",
       "      <th>B</th>\n",
       "      <th>n</th>\n",
       "    </tr>\n",
       "  </thead>\n",
       "  <tbody>\n",
       "    <tr>\n",
       "      <th>0</th>\n",
       "      <td>a0</td>\n",
       "      <td>b0</td>\n",
       "      <td>1</td>\n",
       "    </tr>\n",
       "    <tr>\n",
       "      <th>1</th>\n",
       "      <td>a0</td>\n",
       "      <td>b0</td>\n",
       "      <td>2</td>\n",
       "    </tr>\n",
       "    <tr>\n",
       "      <th>2</th>\n",
       "      <td>a0</td>\n",
       "      <td>b0</td>\n",
       "      <td>3</td>\n",
       "    </tr>\n",
       "    <tr>\n",
       "      <th>3</th>\n",
       "      <td>a0</td>\n",
       "      <td>b0</td>\n",
       "      <td>4</td>\n",
       "    </tr>\n",
       "    <tr>\n",
       "      <th>4</th>\n",
       "      <td>a0</td>\n",
       "      <td>b0</td>\n",
       "      <td>5</td>\n",
       "    </tr>\n",
       "    <tr>\n",
       "      <th>5</th>\n",
       "      <td>a0</td>\n",
       "      <td>b0</td>\n",
       "      <td>6</td>\n",
       "    </tr>\n",
       "    <tr>\n",
       "      <th>6</th>\n",
       "      <td>a0</td>\n",
       "      <td>b0</td>\n",
       "      <td>7</td>\n",
       "    </tr>\n",
       "    <tr>\n",
       "      <th>7</th>\n",
       "      <td>a0</td>\n",
       "      <td>b0</td>\n",
       "      <td>8</td>\n",
       "    </tr>\n",
       "    <tr>\n",
       "      <th>8</th>\n",
       "      <td>a0</td>\n",
       "      <td>b0</td>\n",
       "      <td>9</td>\n",
       "    </tr>\n",
       "    <tr>\n",
       "      <th>9</th>\n",
       "      <td>a0</td>\n",
       "      <td>b0</td>\n",
       "      <td>10</td>\n",
       "    </tr>\n",
       "    <tr>\n",
       "      <th>10</th>\n",
       "      <td>a0</td>\n",
       "      <td>b0</td>\n",
       "      <td>11</td>\n",
       "    </tr>\n",
       "    <tr>\n",
       "      <th>11</th>\n",
       "      <td>a0</td>\n",
       "      <td>b0</td>\n",
       "      <td>12</td>\n",
       "    </tr>\n",
       "  </tbody>\n",
       "</table>\n",
       "</div>"
      ],
      "text/plain": [
       "     A   B   n\n",
       "0   a0  b0   1\n",
       "1   a0  b0   2\n",
       "2   a0  b0   3\n",
       "3   a0  b0   4\n",
       "4   a0  b0   5\n",
       "5   a0  b0   6\n",
       "6   a0  b0   7\n",
       "7   a0  b0   8\n",
       "8   a0  b0   9\n",
       "9   a0  b0  10\n",
       "10  a0  b0  11\n",
       "11  a0  b0  12"
      ]
     },
     "execution_count": 3,
     "metadata": {},
     "output_type": "execute_result"
    }
   ],
   "source": [
    "# cartesian product\n",
    "import itertools\n",
    "data = pd.DataFrame([row for row in itertools.product(labelsA, labelsB, np.arange(nsample)+1)], columns=['A', 'B', 'n'])\n",
    "data.head(12)"
   ]
  },
  {
   "cell_type": "code",
   "execution_count": 4,
   "metadata": {},
   "outputs": [
    {
     "data": {
      "text/html": [
       "<div>\n",
       "<style scoped>\n",
       "    .dataframe tbody tr th:only-of-type {\n",
       "        vertical-align: middle;\n",
       "    }\n",
       "\n",
       "    .dataframe tbody tr th {\n",
       "        vertical-align: top;\n",
       "    }\n",
       "\n",
       "    .dataframe thead th {\n",
       "        text-align: right;\n",
       "    }\n",
       "</style>\n",
       "<table border=\"1\" class=\"dataframe\">\n",
       "  <thead>\n",
       "    <tr style=\"text-align: right;\">\n",
       "      <th></th>\n",
       "      <th>Intercept</th>\n",
       "      <th>A[T.a1]</th>\n",
       "      <th>B[T.b1]</th>\n",
       "      <th>B[T.b2]</th>\n",
       "      <th>A[T.a1]:B[T.b1]</th>\n",
       "      <th>A[T.a1]:B[T.b2]</th>\n",
       "    </tr>\n",
       "  </thead>\n",
       "  <tbody>\n",
       "    <tr>\n",
       "      <th>0</th>\n",
       "      <td>1.0</td>\n",
       "      <td>0.0</td>\n",
       "      <td>0.0</td>\n",
       "      <td>0.0</td>\n",
       "      <td>0.0</td>\n",
       "      <td>0.0</td>\n",
       "    </tr>\n",
       "    <tr>\n",
       "      <th>1</th>\n",
       "      <td>1.0</td>\n",
       "      <td>0.0</td>\n",
       "      <td>0.0</td>\n",
       "      <td>0.0</td>\n",
       "      <td>0.0</td>\n",
       "      <td>0.0</td>\n",
       "    </tr>\n",
       "    <tr>\n",
       "      <th>2</th>\n",
       "      <td>1.0</td>\n",
       "      <td>0.0</td>\n",
       "      <td>0.0</td>\n",
       "      <td>0.0</td>\n",
       "      <td>0.0</td>\n",
       "      <td>0.0</td>\n",
       "    </tr>\n",
       "    <tr>\n",
       "      <th>3</th>\n",
       "      <td>1.0</td>\n",
       "      <td>0.0</td>\n",
       "      <td>0.0</td>\n",
       "      <td>0.0</td>\n",
       "      <td>0.0</td>\n",
       "      <td>0.0</td>\n",
       "    </tr>\n",
       "    <tr>\n",
       "      <th>4</th>\n",
       "      <td>1.0</td>\n",
       "      <td>0.0</td>\n",
       "      <td>0.0</td>\n",
       "      <td>0.0</td>\n",
       "      <td>0.0</td>\n",
       "      <td>0.0</td>\n",
       "    </tr>\n",
       "  </tbody>\n",
       "</table>\n",
       "</div>"
      ],
      "text/plain": [
       "   Intercept  A[T.a1]  B[T.b1]  B[T.b2]  A[T.a1]:B[T.b1]  A[T.a1]:B[T.b2]\n",
       "0        1.0      0.0      0.0      0.0              0.0              0.0\n",
       "1        1.0      0.0      0.0      0.0              0.0              0.0\n",
       "2        1.0      0.0      0.0      0.0              0.0              0.0\n",
       "3        1.0      0.0      0.0      0.0              0.0              0.0\n",
       "4        1.0      0.0      0.0      0.0              0.0              0.0"
      ]
     },
     "execution_count": 4,
     "metadata": {},
     "output_type": "execute_result"
    }
   ],
   "source": [
    "# Whilst the above two are equivalent for simple designs \n",
    "# (such as that illustrated), the means parameterization \n",
    "# (that does not include an intercept, or overall mean) \n",
    "# is limited to simple single factor designs. \n",
    "# Designs that involve additional predictors can only be\n",
    "# accommodated via effects parameterization.\n",
    "\n",
    "X_design = patsy.dmatrix(\"1 + A*B\", data=data, return_type='dataframe')\n",
    "\n",
    "X = np.asarray(X_design)\n",
    "X_design.head()"
   ]
  },
  {
   "cell_type": "code",
   "execution_count": 5,
   "metadata": {},
   "outputs": [
    {
     "data": {
      "text/plain": [
       "(300, 4)"
      ]
     },
     "execution_count": 5,
     "metadata": {},
     "output_type": "execute_result"
    }
   ],
   "source": [
    "np.random.seed(12345)\n",
    "\n",
    "eff = np.array([40, 15, 5, 0, -15, 10])\n",
    "sigma = 3  #residual standard deviation\n",
    "eps = np.random.normal(loc=0, scale=sigma, size=X.shape[0])\n",
    "\n",
    "y = np.dot(X, eff) + eps\n",
    "data['y'] = y\n",
    "data['A'] = pd.Categorical(data.A, ordered=False)\n",
    "data['B'] = pd.Categorical(data.B, ordered=False)\n",
    "\n",
    "data.shape"
   ]
  },
  {
   "cell_type": "code",
   "execution_count": 6,
   "metadata": {},
   "outputs": [
    {
     "data": {
      "image/png": "[encoded data removed]",
      "text/plain": [
       "<Figure size 432x288 with 2 Axes>"
      ]
     },
     "metadata": {},
     "output_type": "display_data"
    }
   ],
   "source": [
    "fig, ax = plt.subplots(1, 2, sharex=True, sharey=True)\n",
    "_ = sns.pointplot(x='A', y='y', hue='B', data=data, ax=ax[0])\n",
    "_ = sns.boxplot(x='A', y='y', hue='B', data=data, ax=ax[1])"
   ]
  },
  {
   "cell_type": "markdown",
   "metadata": {},
   "source": [
    "The data seems to be close to the one used in http://www.flutterbys.com.au/stats/tut/tut7.6b.html"
   ]
  },
  {
   "cell_type": "markdown",
   "metadata": {},
   "source": [
    "### Bayesian modelling (Multifactorial ANOVA)\n",
    "Assumption: The response variable is equally varied for each combination of treatments. (In fact, it is as we generated the data)"
   ]
  },
  {
   "cell_type": "code",
   "execution_count": 7,
   "metadata": {},
   "outputs": [
    {
     "name": "stderr",
     "output_type": "stream",
     "text": [
      "C:\\Miniconda3\\envs\\GLM_with_PyMC3\\lib\\site-packages\\pymc3\\model.py:384: FutureWarning: Conversion of the second argument of issubdtype from `float` to `np.floating` is deprecated. In future, it will be treated as `np.float64 == np.dtype(float).type`.\n",
      "  if not np.issubdtype(var.dtype, float):\n",
      "WARNING (theano.tensor.blas): We did not find a dynamic library in the library_dir of the library we use for blas. If you use ATLAS, make sure to compile it with dynamics library.\n",
      "Multiprocess sampling (2 chains in 2 jobs)\n",
      "NUTS: [sd_log__, beta]\n"
     ]
    }
   ],
   "source": [
    "with pm.Model() as ANOVA_factorial_treatment_coding:\n",
    "    \n",
    "    beta = pm.Normal('beta', mu=0, sd=100, shape=(X.shape[1]))\n",
    "    sd = pm.HalfCauchy('sd', beta=5)\n",
    "    \n",
    "    mu = pm.math.dot(X, beta)\n",
    "    \n",
    "    # assume same sd. How to index different sd's distributions?\n",
    "    y_likelihood = pm.Normal('y_likelihood', mu=mu, sd=sd, observed=data.y)\n",
    "    \n",
    "    trace = pm.sample(draws=3000, step=pm.NUTS(), njobs=2, tune=1000)"
   ]
  },
  {
   "cell_type": "code",
   "execution_count": 8,
   "metadata": {},
   "outputs": [
    {
     "data": {
      "image/png": "[encoded data removed]",
      "text/plain": [
       "<Figure size 864x288 with 4 Axes>"
      ]
     },
     "metadata": {},
     "output_type": "display_data"
    }
   ],
   "source": [
    "_ = pm.traceplot(trace)"
   ]
  },
  {
   "cell_type": "code",
   "execution_count": 9,
   "metadata": {},
   "outputs": [
    {
     "data": {
      "text/html": [
       "<div>\n",
       "<style scoped>\n",
       "    .dataframe tbody tr th:only-of-type {\n",
       "        vertical-align: middle;\n",
       "    }\n",
       "\n",
       "    .dataframe tbody tr th {\n",
       "        vertical-align: top;\n",
       "    }\n",
       "\n",
       "    .dataframe thead th {\n",
       "        text-align: right;\n",
       "    }\n",
       "</style>\n",
       "<table border=\"1\" class=\"dataframe\">\n",
       "  <thead>\n",
       "    <tr style=\"text-align: right;\">\n",
       "      <th></th>\n",
       "      <th>mean</th>\n",
       "      <th>sd</th>\n",
       "      <th>mc_error</th>\n",
       "      <th>hpd_2.5</th>\n",
       "      <th>hpd_97.5</th>\n",
       "      <th>n_eff</th>\n",
       "      <th>Rhat</th>\n",
       "    </tr>\n",
       "  </thead>\n",
       "  <tbody>\n",
       "    <tr>\n",
       "      <th>beta__0</th>\n",
       "      <td>39.848615</td>\n",
       "      <td>0.428908</td>\n",
       "      <td>0.010474</td>\n",
       "      <td>39.043330</td>\n",
       "      <td>40.727225</td>\n",
       "      <td>1713.0</td>\n",
       "      <td>0.999868</td>\n",
       "    </tr>\n",
       "    <tr>\n",
       "      <th>beta__1</th>\n",
       "      <td>15.208882</td>\n",
       "      <td>0.611711</td>\n",
       "      <td>0.015076</td>\n",
       "      <td>13.984336</td>\n",
       "      <td>16.358237</td>\n",
       "      <td>1846.0</td>\n",
       "      <td>1.000085</td>\n",
       "    </tr>\n",
       "    <tr>\n",
       "      <th>beta__2</th>\n",
       "      <td>5.505211</td>\n",
       "      <td>0.599527</td>\n",
       "      <td>0.013600</td>\n",
       "      <td>4.288098</td>\n",
       "      <td>6.647192</td>\n",
       "      <td>1877.0</td>\n",
       "      <td>0.999913</td>\n",
       "    </tr>\n",
       "    <tr>\n",
       "      <th>beta__3</th>\n",
       "      <td>-0.128300</td>\n",
       "      <td>0.606566</td>\n",
       "      <td>0.013519</td>\n",
       "      <td>-1.251058</td>\n",
       "      <td>1.076284</td>\n",
       "      <td>2234.0</td>\n",
       "      <td>1.000030</td>\n",
       "    </tr>\n",
       "    <tr>\n",
       "      <th>beta__4</th>\n",
       "      <td>-16.007436</td>\n",
       "      <td>0.851393</td>\n",
       "      <td>0.019424</td>\n",
       "      <td>-17.738782</td>\n",
       "      <td>-14.387915</td>\n",
       "      <td>1876.0</td>\n",
       "      <td>0.999909</td>\n",
       "    </tr>\n",
       "    <tr>\n",
       "      <th>beta__5</th>\n",
       "      <td>9.490456</td>\n",
       "      <td>0.860345</td>\n",
       "      <td>0.018831</td>\n",
       "      <td>7.862980</td>\n",
       "      <td>11.172158</td>\n",
       "      <td>2283.0</td>\n",
       "      <td>1.000236</td>\n",
       "    </tr>\n",
       "    <tr>\n",
       "      <th>sd</th>\n",
       "      <td>2.987585</td>\n",
       "      <td>0.124144</td>\n",
       "      <td>0.001507</td>\n",
       "      <td>2.753940</td>\n",
       "      <td>3.247769</td>\n",
       "      <td>5109.0</td>\n",
       "      <td>0.999917</td>\n",
       "    </tr>\n",
       "  </tbody>\n",
       "</table>\n",
       "</div>"
      ],
      "text/plain": [
       "              mean        sd  mc_error    hpd_2.5   hpd_97.5   n_eff      Rhat\n",
       "beta__0  39.848615  0.428908  0.010474  39.043330  40.727225  1713.0  0.999868\n",
       "beta__1  15.208882  0.611711  0.015076  13.984336  16.358237  1846.0  1.000085\n",
       "beta__2   5.505211  0.599527  0.013600   4.288098   6.647192  1877.0  0.999913\n",
       "beta__3  -0.128300  0.606566  0.013519  -1.251058   1.076284  2234.0  1.000030\n",
       "beta__4 -16.007436  0.851393  0.019424 -17.738782 -14.387915  1876.0  0.999909\n",
       "beta__5   9.490456  0.860345  0.018831   7.862980  11.172158  2283.0  1.000236\n",
       "sd        2.987585  0.124144  0.001507   2.753940   3.247769  5109.0  0.999917"
      ]
     },
     "execution_count": 9,
     "metadata": {},
     "output_type": "execute_result"
    }
   ],
   "source": [
    "pm.summary(trace)"
   ]
  },
  {
   "cell_type": "code",
   "execution_count": 10,
   "metadata": {},
   "outputs": [
    {
     "data": {
      "text/html": [
       "<div>\n",
       "<style scoped>\n",
       "    .dataframe tbody tr th:only-of-type {\n",
       "        vertical-align: middle;\n",
       "    }\n",
       "\n",
       "    .dataframe tbody tr th {\n",
       "        vertical-align: top;\n",
       "    }\n",
       "\n",
       "    .dataframe thead th {\n",
       "        text-align: right;\n",
       "    }\n",
       "</style>\n",
       "<table border=\"1\" class=\"dataframe\">\n",
       "  <thead>\n",
       "    <tr style=\"text-align: right;\">\n",
       "      <th></th>\n",
       "      <th>mean</th>\n",
       "      <th>sd</th>\n",
       "      <th>mc_error</th>\n",
       "      <th>hpd_2.5</th>\n",
       "      <th>hpd_97.5</th>\n",
       "      <th>n_eff</th>\n",
       "      <th>Rhat</th>\n",
       "    </tr>\n",
       "  </thead>\n",
       "  <tbody>\n",
       "    <tr>\n",
       "      <th>Intercept</th>\n",
       "      <td>39.848615</td>\n",
       "      <td>0.428908</td>\n",
       "      <td>0.010474</td>\n",
       "      <td>39.043330</td>\n",
       "      <td>40.727225</td>\n",
       "      <td>1713.0</td>\n",
       "      <td>0.999868</td>\n",
       "    </tr>\n",
       "    <tr>\n",
       "      <th>A[T.a1]</th>\n",
       "      <td>15.208882</td>\n",
       "      <td>0.611711</td>\n",
       "      <td>0.015076</td>\n",
       "      <td>13.984336</td>\n",
       "      <td>16.358237</td>\n",
       "      <td>1846.0</td>\n",
       "      <td>1.000085</td>\n",
       "    </tr>\n",
       "    <tr>\n",
       "      <th>B[T.b1]</th>\n",
       "      <td>5.505211</td>\n",
       "      <td>0.599527</td>\n",
       "      <td>0.013600</td>\n",
       "      <td>4.288098</td>\n",
       "      <td>6.647192</td>\n",
       "      <td>1877.0</td>\n",
       "      <td>0.999913</td>\n",
       "    </tr>\n",
       "    <tr>\n",
       "      <th>B[T.b2]</th>\n",
       "      <td>-0.128300</td>\n",
       "      <td>0.606566</td>\n",
       "      <td>0.013519</td>\n",
       "      <td>-1.251058</td>\n",
       "      <td>1.076284</td>\n",
       "      <td>2234.0</td>\n",
       "      <td>1.000030</td>\n",
       "    </tr>\n",
       "    <tr>\n",
       "      <th>A[T.a1]:B[T.b1]</th>\n",
       "      <td>-16.007436</td>\n",
       "      <td>0.851393</td>\n",
       "      <td>0.019424</td>\n",
       "      <td>-17.738782</td>\n",
       "      <td>-14.387915</td>\n",
       "      <td>1876.0</td>\n",
       "      <td>0.999909</td>\n",
       "    </tr>\n",
       "    <tr>\n",
       "      <th>A[T.a1]:B[T.b2]</th>\n",
       "      <td>9.490456</td>\n",
       "      <td>0.860345</td>\n",
       "      <td>0.018831</td>\n",
       "      <td>7.862980</td>\n",
       "      <td>11.172158</td>\n",
       "      <td>2283.0</td>\n",
       "      <td>1.000236</td>\n",
       "    </tr>\n",
       "    <tr>\n",
       "      <th>sd</th>\n",
       "      <td>2.987585</td>\n",
       "      <td>0.124144</td>\n",
       "      <td>0.001507</td>\n",
       "      <td>2.753940</td>\n",
       "      <td>3.247769</td>\n",
       "      <td>5109.0</td>\n",
       "      <td>0.999917</td>\n",
       "    </tr>\n",
       "  </tbody>\n",
       "</table>\n",
       "</div>"
      ],
      "text/plain": [
       "                      mean        sd  mc_error    hpd_2.5   hpd_97.5   n_eff  \\\n",
       "Intercept        39.848615  0.428908  0.010474  39.043330  40.727225  1713.0   \n",
       "A[T.a1]          15.208882  0.611711  0.015076  13.984336  16.358237  1846.0   \n",
       "B[T.b1]           5.505211  0.599527  0.013600   4.288098   6.647192  1877.0   \n",
       "B[T.b2]          -0.128300  0.606566  0.013519  -1.251058   1.076284  2234.0   \n",
       "A[T.a1]:B[T.b1] -16.007436  0.851393  0.019424 -17.738782 -14.387915  1876.0   \n",
       "A[T.a1]:B[T.b2]   9.490456  0.860345  0.018831   7.862980  11.172158  2283.0   \n",
       "sd                2.987585  0.124144  0.001507   2.753940   3.247769  5109.0   \n",
       "\n",
       "                     Rhat  \n",
       "Intercept        0.999868  \n",
       "A[T.a1]          1.000085  \n",
       "B[T.b1]          0.999913  \n",
       "B[T.b2]          1.000030  \n",
       "A[T.a1]:B[T.b1]  0.999909  \n",
       "A[T.a1]:B[T.b2]  1.000236  \n",
       "sd               0.999917  "
      ]
     },
     "execution_count": 10,
     "metadata": {},
     "output_type": "execute_result"
    }
   ],
   "source": [
    "df_for_display = pm.summary(trace)\n",
    "\n",
    "rows_name = X_design.design_info.column_names[:]\n",
    "rows_name.append('sd')\n",
    "\n",
    "df_for_display.index = rows_name\n",
    "\n",
    "df_for_display"
   ]
  },
  {
   "cell_type": "markdown",
   "metadata": {},
   "source": [
    "The parameters above are to be interpreted as:\n",
    "\n",
    "$y = \\mu_{a0b0} + \\alpha_{a1} + \\beta_{b1} + \\beta_{b2} + \\alpha_{a1}\\cdot\\beta_{b1} + \\alpha_{a1}\\cdot\\beta_{b2}$\n",
    "\n",
    "so, for example, the effect of ´a1b0´ is:\n",
    "\n",
    "$y = 1\\cdot\\mu_{a0b0} + 1\\cdot\\alpha_{a1} + 0\\cdot\\beta_{b1} + 0\\cdot\\beta_{b2} + 1\\cdot\\alpha_{a1}\\cdot0\\cdot\\beta_{b1} + 1\\cdot\\alpha_{a1}\\cdot0\\cdot\\beta_{b2}$\n",
    "\n",
    "$y = 41.488535 + 11.128384 = ~52.62$\n",
    "\n",
    "Instead, the effect of ´a1b1´ is:\n",
    "\n",
    "$y = 1\\cdot\\mu_{a0b0} + 1\\cdot\\alpha_{a1} + 1\\cdot\\beta_{b1} + 0\\cdot\\beta_{b2} + 1\\cdot\\alpha_{a1}\\cdot1\\cdot\\beta_{b1} + 1\\cdot\\alpha_{a1}\\cdot0\\cdot\\beta_{b2}$\n",
    "\n",
    "$y = 41.488535 + 11.128384 + 3.908116 - 12.978722= ~43.54$\n",
    "\n",
    "The results can be compared to the table below:"
   ]
  },
  {
   "cell_type": "code",
   "execution_count": 11,
   "metadata": {},
   "outputs": [
    {
     "data": {
      "text/html": [
       "<div>\n",
       "<style scoped>\n",
       "    .dataframe tbody tr th:only-of-type {\n",
       "        vertical-align: middle;\n",
       "    }\n",
       "\n",
       "    .dataframe tbody tr th {\n",
       "        vertical-align: top;\n",
       "    }\n",
       "\n",
       "    .dataframe thead th {\n",
       "        text-align: right;\n",
       "    }\n",
       "</style>\n",
       "<table border=\"1\" class=\"dataframe\">\n",
       "  <thead>\n",
       "    <tr style=\"text-align: right;\">\n",
       "      <th></th>\n",
       "      <th>A</th>\n",
       "      <th>B</th>\n",
       "      <th>y</th>\n",
       "    </tr>\n",
       "  </thead>\n",
       "  <tbody>\n",
       "    <tr>\n",
       "      <th>0</th>\n",
       "      <td>a0</td>\n",
       "      <td>b0</td>\n",
       "      <td>39.844144</td>\n",
       "    </tr>\n",
       "    <tr>\n",
       "      <th>1</th>\n",
       "      <td>a0</td>\n",
       "      <td>b1</td>\n",
       "      <td>45.357542</td>\n",
       "    </tr>\n",
       "    <tr>\n",
       "      <th>2</th>\n",
       "      <td>a0</td>\n",
       "      <td>b2</td>\n",
       "      <td>39.730502</td>\n",
       "    </tr>\n",
       "    <tr>\n",
       "      <th>3</th>\n",
       "      <td>a1</td>\n",
       "      <td>b0</td>\n",
       "      <td>55.056000</td>\n",
       "    </tr>\n",
       "    <tr>\n",
       "      <th>4</th>\n",
       "      <td>a1</td>\n",
       "      <td>b1</td>\n",
       "      <td>44.567513</td>\n",
       "    </tr>\n",
       "    <tr>\n",
       "      <th>5</th>\n",
       "      <td>a1</td>\n",
       "      <td>b2</td>\n",
       "      <td>64.418951</td>\n",
       "    </tr>\n",
       "  </tbody>\n",
       "</table>\n",
       "</div>"
      ],
      "text/plain": [
       "    A   B          y\n",
       "0  a0  b0  39.844144\n",
       "1  a0  b1  45.357542\n",
       "2  a0  b2  39.730502\n",
       "3  a1  b0  55.056000\n",
       "4  a1  b1  44.567513\n",
       "5  a1  b2  64.418951"
      ]
     },
     "execution_count": 11,
     "metadata": {},
     "output_type": "execute_result"
    }
   ],
   "source": [
    "data.drop('n', axis=1).groupby(['A', 'B'], as_index=False).mean()"
   ]
  },
  {
   "cell_type": "code",
   "execution_count": 12,
   "metadata": {},
   "outputs": [
    {
     "data": {
      "image/png": "[encoded data removed]",
      "text/plain": [
       "<Figure size 864x540 with 6 Axes>"
      ]
     },
     "metadata": {},
     "output_type": "display_data"
    }
   ],
   "source": [
    "X_design.design_info.column_names\n",
    "ax = pm.plot_posterior(trace, ['beta'])\n",
    "for idx, title in enumerate(X_design.design_info.column_names):\n",
    "    ax[idx].set_title(title)"
   ]
  },
  {
   "cell_type": "code",
   "execution_count": null,
   "metadata": {},
   "outputs": [],
   "source": []
  },
  {
   "cell_type": "markdown",
   "metadata": {},
   "source": [
    "### Graphical summary"
   ]
  },
  {
   "cell_type": "code",
   "execution_count": 13,
   "metadata": {},
   "outputs": [
    {
     "data": {
      "text/plain": [
       "(6000, 6)"
      ]
     },
     "execution_count": 13,
     "metadata": {},
     "output_type": "execute_result"
    }
   ],
   "source": [
    "mcmc = trace['beta']\n",
    "mcmc.shape"
   ]
  },
  {
   "cell_type": "code",
   "execution_count": 14,
   "metadata": {},
   "outputs": [
    {
     "data": {
      "text/html": [
       "<div>\n",
       "<style scoped>\n",
       "    .dataframe tbody tr th:only-of-type {\n",
       "        vertical-align: middle;\n",
       "    }\n",
       "\n",
       "    .dataframe tbody tr th {\n",
       "        vertical-align: top;\n",
       "    }\n",
       "\n",
       "    .dataframe thead th {\n",
       "        text-align: right;\n",
       "    }\n",
       "</style>\n",
       "<table border=\"1\" class=\"dataframe\">\n",
       "  <thead>\n",
       "    <tr style=\"text-align: right;\">\n",
       "      <th></th>\n",
       "      <th>A</th>\n",
       "      <th>B</th>\n",
       "    </tr>\n",
       "  </thead>\n",
       "  <tbody>\n",
       "    <tr>\n",
       "      <th>0</th>\n",
       "      <td>a0</td>\n",
       "      <td>b0</td>\n",
       "    </tr>\n",
       "    <tr>\n",
       "      <th>1</th>\n",
       "      <td>a0</td>\n",
       "      <td>b1</td>\n",
       "    </tr>\n",
       "    <tr>\n",
       "      <th>2</th>\n",
       "      <td>a0</td>\n",
       "      <td>b2</td>\n",
       "    </tr>\n",
       "    <tr>\n",
       "      <th>3</th>\n",
       "      <td>a1</td>\n",
       "      <td>b0</td>\n",
       "    </tr>\n",
       "    <tr>\n",
       "      <th>4</th>\n",
       "      <td>a1</td>\n",
       "      <td>b1</td>\n",
       "    </tr>\n",
       "    <tr>\n",
       "      <th>5</th>\n",
       "      <td>a1</td>\n",
       "      <td>b2</td>\n",
       "    </tr>\n",
       "  </tbody>\n",
       "</table>\n",
       "</div>"
      ],
      "text/plain": [
       "    A   B\n",
       "0  a0  b0\n",
       "1  a0  b1\n",
       "2  a0  b2\n",
       "3  a1  b0\n",
       "4  a1  b1\n",
       "5  a1  b2"
      ]
     },
     "execution_count": 14,
     "metadata": {},
     "output_type": "execute_result"
    }
   ],
   "source": [
    "newdata = pd.DataFrame([row for row in itertools.product(labelsA, labelsB)], columns=['A', 'B'])\n",
    "newdata"
   ]
  },
  {
   "cell_type": "code",
   "execution_count": 15,
   "metadata": {},
   "outputs": [
    {
     "data": {
      "text/html": [
       "<div>\n",
       "<style scoped>\n",
       "    .dataframe tbody tr th:only-of-type {\n",
       "        vertical-align: middle;\n",
       "    }\n",
       "\n",
       "    .dataframe tbody tr th {\n",
       "        vertical-align: top;\n",
       "    }\n",
       "\n",
       "    .dataframe thead th {\n",
       "        text-align: right;\n",
       "    }\n",
       "</style>\n",
       "<table border=\"1\" class=\"dataframe\">\n",
       "  <thead>\n",
       "    <tr style=\"text-align: right;\">\n",
       "      <th></th>\n",
       "      <th>Intercept</th>\n",
       "      <th>A[T.a1]</th>\n",
       "      <th>B[T.b1]</th>\n",
       "      <th>B[T.b2]</th>\n",
       "      <th>A[T.a1]:B[T.b1]</th>\n",
       "      <th>A[T.a1]:B[T.b2]</th>\n",
       "    </tr>\n",
       "  </thead>\n",
       "  <tbody>\n",
       "    <tr>\n",
       "      <th>0</th>\n",
       "      <td>1.0</td>\n",
       "      <td>0.0</td>\n",
       "      <td>0.0</td>\n",
       "      <td>0.0</td>\n",
       "      <td>0.0</td>\n",
       "      <td>0.0</td>\n",
       "    </tr>\n",
       "    <tr>\n",
       "      <th>1</th>\n",
       "      <td>1.0</td>\n",
       "      <td>0.0</td>\n",
       "      <td>1.0</td>\n",
       "      <td>0.0</td>\n",
       "      <td>0.0</td>\n",
       "      <td>0.0</td>\n",
       "    </tr>\n",
       "    <tr>\n",
       "      <th>2</th>\n",
       "      <td>1.0</td>\n",
       "      <td>0.0</td>\n",
       "      <td>0.0</td>\n",
       "      <td>1.0</td>\n",
       "      <td>0.0</td>\n",
       "      <td>0.0</td>\n",
       "    </tr>\n",
       "    <tr>\n",
       "      <th>3</th>\n",
       "      <td>1.0</td>\n",
       "      <td>1.0</td>\n",
       "      <td>0.0</td>\n",
       "      <td>0.0</td>\n",
       "      <td>0.0</td>\n",
       "      <td>0.0</td>\n",
       "    </tr>\n",
       "    <tr>\n",
       "      <th>4</th>\n",
       "      <td>1.0</td>\n",
       "      <td>1.0</td>\n",
       "      <td>1.0</td>\n",
       "      <td>0.0</td>\n",
       "      <td>1.0</td>\n",
       "      <td>0.0</td>\n",
       "    </tr>\n",
       "    <tr>\n",
       "      <th>5</th>\n",
       "      <td>1.0</td>\n",
       "      <td>1.0</td>\n",
       "      <td>0.0</td>\n",
       "      <td>1.0</td>\n",
       "      <td>0.0</td>\n",
       "      <td>1.0</td>\n",
       "    </tr>\n",
       "  </tbody>\n",
       "</table>\n",
       "</div>"
      ],
      "text/plain": [
       "   Intercept  A[T.a1]  B[T.b1]  B[T.b2]  A[T.a1]:B[T.b1]  A[T.a1]:B[T.b2]\n",
       "0        1.0      0.0      0.0      0.0              0.0              0.0\n",
       "1        1.0      0.0      1.0      0.0              0.0              0.0\n",
       "2        1.0      0.0      0.0      1.0              0.0              0.0\n",
       "3        1.0      1.0      0.0      0.0              0.0              0.0\n",
       "4        1.0      1.0      1.0      0.0              1.0              0.0\n",
       "5        1.0      1.0      0.0      1.0              0.0              1.0"
      ]
     },
     "execution_count": 15,
     "metadata": {},
     "output_type": "execute_result"
    }
   ],
   "source": [
    "Xmat = patsy.dmatrix('A*B', newdata, return_type='dataframe')\n",
    "Xmat"
   ]
  },
  {
   "cell_type": "code",
   "execution_count": 16,
   "metadata": {},
   "outputs": [
    {
     "data": {
      "text/plain": [
       "(6000, 6)"
      ]
     },
     "execution_count": 16,
     "metadata": {},
     "output_type": "execute_result"
    }
   ],
   "source": [
    "fit = np.dot(np.asarray(mcmc), Xmat.T)\n",
    "fit.shape"
   ]
  },
  {
   "cell_type": "code",
   "execution_count": 17,
   "metadata": {},
   "outputs": [],
   "source": [
    "df_fit = newdata.copy\n",
    "data_mcmc = pd.DataFrame([row for row in itertools.product(labelsA, labelsB, np.arange(mcmc.shape[0])+1)], columns=['A', 'B', 'n'])"
   ]
  },
  {
   "cell_type": "code",
   "execution_count": 18,
   "metadata": {},
   "outputs": [
    {
     "data": {
      "text/html": [
       "<div>\n",
       "<style scoped>\n",
       "    .dataframe tbody tr th:only-of-type {\n",
       "        vertical-align: middle;\n",
       "    }\n",
       "\n",
       "    .dataframe tbody tr th {\n",
       "        vertical-align: top;\n",
       "    }\n",
       "\n",
       "    .dataframe thead th {\n",
       "        text-align: right;\n",
       "    }\n",
       "</style>\n",
       "<table border=\"1\" class=\"dataframe\">\n",
       "  <thead>\n",
       "    <tr style=\"text-align: right;\">\n",
       "      <th></th>\n",
       "      <th>A</th>\n",
       "      <th>B</th>\n",
       "      <th>n</th>\n",
       "      <th>mcmc</th>\n",
       "    </tr>\n",
       "  </thead>\n",
       "  <tbody>\n",
       "    <tr>\n",
       "      <th>0</th>\n",
       "      <td>a0</td>\n",
       "      <td>b0</td>\n",
       "      <td>1</td>\n",
       "      <td>39.545192</td>\n",
       "    </tr>\n",
       "    <tr>\n",
       "      <th>1</th>\n",
       "      <td>a0</td>\n",
       "      <td>b0</td>\n",
       "      <td>2</td>\n",
       "      <td>39.957793</td>\n",
       "    </tr>\n",
       "    <tr>\n",
       "      <th>2</th>\n",
       "      <td>a0</td>\n",
       "      <td>b0</td>\n",
       "      <td>3</td>\n",
       "      <td>39.480940</td>\n",
       "    </tr>\n",
       "    <tr>\n",
       "      <th>3</th>\n",
       "      <td>a0</td>\n",
       "      <td>b0</td>\n",
       "      <td>4</td>\n",
       "      <td>39.884083</td>\n",
       "    </tr>\n",
       "    <tr>\n",
       "      <th>4</th>\n",
       "      <td>a0</td>\n",
       "      <td>b0</td>\n",
       "      <td>5</td>\n",
       "      <td>39.735101</td>\n",
       "    </tr>\n",
       "  </tbody>\n",
       "</table>\n",
       "</div>"
      ],
      "text/plain": [
       "    A   B  n       mcmc\n",
       "0  a0  b0  1  39.545192\n",
       "1  a0  b0  2  39.957793\n",
       "2  a0  b0  3  39.480940\n",
       "3  a0  b0  4  39.884083\n",
       "4  a0  b0  5  39.735101"
      ]
     },
     "execution_count": 18,
     "metadata": {},
     "output_type": "execute_result"
    }
   ],
   "source": [
    "data_mcmc['mcmc'] = fit.ravel(order='F')\n",
    "data_mcmc.head()"
   ]
  },
  {
   "cell_type": "code",
   "execution_count": 19,
   "metadata": {},
   "outputs": [
    {
     "data": {
      "text/html": [
       "<div>\n",
       "<style scoped>\n",
       "    .dataframe tbody tr th:only-of-type {\n",
       "        vertical-align: middle;\n",
       "    }\n",
       "\n",
       "    .dataframe tbody tr th {\n",
       "        vertical-align: top;\n",
       "    }\n",
       "\n",
       "    .dataframe thead th {\n",
       "        text-align: right;\n",
       "    }\n",
       "</style>\n",
       "<table border=\"1\" class=\"dataframe\">\n",
       "  <thead>\n",
       "    <tr style=\"text-align: right;\">\n",
       "      <th></th>\n",
       "      <th>A</th>\n",
       "      <th>B</th>\n",
       "      <th>fit mean</th>\n",
       "      <th>sem</th>\n",
       "      <th>conf low</th>\n",
       "      <th>conf high</th>\n",
       "    </tr>\n",
       "  </thead>\n",
       "  <tbody>\n",
       "    <tr>\n",
       "      <th>0</th>\n",
       "      <td>a0</td>\n",
       "      <td>b0</td>\n",
       "      <td>39.848615</td>\n",
       "      <td>0.005537</td>\n",
       "      <td>39.043330</td>\n",
       "      <td>40.727225</td>\n",
       "    </tr>\n",
       "    <tr>\n",
       "      <th>1</th>\n",
       "      <td>a0</td>\n",
       "      <td>b1</td>\n",
       "      <td>45.353827</td>\n",
       "      <td>0.005377</td>\n",
       "      <td>44.521149</td>\n",
       "      <td>46.147865</td>\n",
       "    </tr>\n",
       "    <tr>\n",
       "      <th>2</th>\n",
       "      <td>a0</td>\n",
       "      <td>b2</td>\n",
       "      <td>39.720315</td>\n",
       "      <td>0.005523</td>\n",
       "      <td>38.876279</td>\n",
       "      <td>40.562790</td>\n",
       "    </tr>\n",
       "    <tr>\n",
       "      <th>3</th>\n",
       "      <td>a1</td>\n",
       "      <td>b0</td>\n",
       "      <td>55.057498</td>\n",
       "      <td>0.005376</td>\n",
       "      <td>54.237933</td>\n",
       "      <td>55.859520</td>\n",
       "    </tr>\n",
       "    <tr>\n",
       "      <th>4</th>\n",
       "      <td>a1</td>\n",
       "      <td>b1</td>\n",
       "      <td>44.555273</td>\n",
       "      <td>0.005515</td>\n",
       "      <td>43.732810</td>\n",
       "      <td>45.396137</td>\n",
       "    </tr>\n",
       "    <tr>\n",
       "      <th>5</th>\n",
       "      <td>a1</td>\n",
       "      <td>b2</td>\n",
       "      <td>64.419653</td>\n",
       "      <td>0.005485</td>\n",
       "      <td>63.540319</td>\n",
       "      <td>65.214616</td>\n",
       "    </tr>\n",
       "  </tbody>\n",
       "</table>\n",
       "</div>"
      ],
      "text/plain": [
       "    A   B   fit mean       sem   conf low  conf high\n",
       "0  a0  b0  39.848615  0.005537  39.043330  40.727225\n",
       "1  a0  b1  45.353827  0.005377  44.521149  46.147865\n",
       "2  a0  b2  39.720315  0.005523  38.876279  40.562790\n",
       "3  a1  b0  55.057498  0.005376  54.237933  55.859520\n",
       "4  a1  b1  44.555273  0.005515  43.732810  45.396137\n",
       "5  a1  b2  64.419653  0.005485  63.540319  65.214616"
      ]
     },
     "execution_count": 19,
     "metadata": {},
     "output_type": "execute_result"
    }
   ],
   "source": [
    "newdata['fit mean'] = fit.mean(axis=0)\n",
    "newdata['sem'] = fit.std(axis=0)/np.sqrt(fit.shape[0])\n",
    "\n",
    "newdata['conf low'] = pm.hpd(fit)[:, 0]\n",
    "newdata['conf high'] = pm.hpd(fit)[:, 1]\n",
    "\n",
    "newdata"
   ]
  },
  {
   "cell_type": "code",
   "execution_count": 20,
   "metadata": {},
   "outputs": [],
   "source": [
    "df_check_fit = data.drop('n', axis=1).groupby(['A', 'B'], as_index=False).mean()"
   ]
  },
  {
   "cell_type": "code",
   "execution_count": 21,
   "metadata": {},
   "outputs": [
    {
     "data": {
      "text/html": [
       "<div>\n",
       "<style scoped>\n",
       "    .dataframe tbody tr th:only-of-type {\n",
       "        vertical-align: middle;\n",
       "    }\n",
       "\n",
       "    .dataframe tbody tr th {\n",
       "        vertical-align: top;\n",
       "    }\n",
       "\n",
       "    .dataframe thead th {\n",
       "        text-align: right;\n",
       "    }\n",
       "</style>\n",
       "<table border=\"1\" class=\"dataframe\">\n",
       "  <thead>\n",
       "    <tr style=\"text-align: right;\">\n",
       "      <th></th>\n",
       "      <th>A</th>\n",
       "      <th>B</th>\n",
       "      <th>y</th>\n",
       "      <th>fit</th>\n",
       "      <th>error fit</th>\n",
       "    </tr>\n",
       "  </thead>\n",
       "  <tbody>\n",
       "    <tr>\n",
       "      <th>0</th>\n",
       "      <td>a0</td>\n",
       "      <td>b0</td>\n",
       "      <td>39.844144</td>\n",
       "      <td>39.848615</td>\n",
       "      <td>-0.004471</td>\n",
       "    </tr>\n",
       "    <tr>\n",
       "      <th>1</th>\n",
       "      <td>a0</td>\n",
       "      <td>b1</td>\n",
       "      <td>45.357542</td>\n",
       "      <td>45.353827</td>\n",
       "      <td>0.003716</td>\n",
       "    </tr>\n",
       "    <tr>\n",
       "      <th>2</th>\n",
       "      <td>a0</td>\n",
       "      <td>b2</td>\n",
       "      <td>39.730502</td>\n",
       "      <td>39.720315</td>\n",
       "      <td>0.010187</td>\n",
       "    </tr>\n",
       "    <tr>\n",
       "      <th>3</th>\n",
       "      <td>a1</td>\n",
       "      <td>b0</td>\n",
       "      <td>55.056000</td>\n",
       "      <td>55.057498</td>\n",
       "      <td>-0.001498</td>\n",
       "    </tr>\n",
       "    <tr>\n",
       "      <th>4</th>\n",
       "      <td>a1</td>\n",
       "      <td>b1</td>\n",
       "      <td>44.567513</td>\n",
       "      <td>44.555273</td>\n",
       "      <td>0.012240</td>\n",
       "    </tr>\n",
       "    <tr>\n",
       "      <th>5</th>\n",
       "      <td>a1</td>\n",
       "      <td>b2</td>\n",
       "      <td>64.418951</td>\n",
       "      <td>64.419653</td>\n",
       "      <td>-0.000703</td>\n",
       "    </tr>\n",
       "  </tbody>\n",
       "</table>\n",
       "</div>"
      ],
      "text/plain": [
       "    A   B          y        fit  error fit\n",
       "0  a0  b0  39.844144  39.848615  -0.004471\n",
       "1  a0  b1  45.357542  45.353827   0.003716\n",
       "2  a0  b2  39.730502  39.720315   0.010187\n",
       "3  a1  b0  55.056000  55.057498  -0.001498\n",
       "4  a1  b1  44.567513  44.555273   0.012240\n",
       "5  a1  b2  64.418951  64.419653  -0.000703"
      ]
     },
     "execution_count": 21,
     "metadata": {},
     "output_type": "execute_result"
    }
   ],
   "source": [
    "df_check_fit['fit'] = newdata['fit mean']\n",
    "df_check_fit['error fit'] = df_check_fit['y'] - df_check_fit['fit']\n",
    "df_check_fit"
   ]
  },
  {
   "cell_type": "code",
   "execution_count": 22,
   "metadata": {},
   "outputs": [
    {
     "name": "stderr",
     "output_type": "stream",
     "text": [
      "100%|████████████████████████████████████████████████████████████████████████████| 3000/3000 [00:01<00:00, 2115.63it/s]\n"
     ]
    }
   ],
   "source": [
    "with ANOVA_factorial_treatment_coding:\n",
    "    sample_ppc = pm.sample_ppc(trace)"
   ]
  },
  {
   "cell_type": "code",
   "execution_count": 23,
   "metadata": {},
   "outputs": [
    {
     "data": {
      "text/plain": [
       "(900000, 3)"
      ]
     },
     "execution_count": 23,
     "metadata": {},
     "output_type": "execute_result"
    }
   ],
   "source": [
    "data_ppc = pd.DataFrame([row for row in itertools.product(labelsA, \n",
    "                                                          labelsB, \n",
    "                                                          np.arange(sample_ppc['y_likelihood'].shape[0]*nsample)+1)], \n",
    "                        columns=['A', 'B', 'n'])\n",
    "data_ppc.shape"
   ]
  },
  {
   "cell_type": "code",
   "execution_count": 24,
   "metadata": {},
   "outputs": [],
   "source": [
    "data_ppc['y'] = np.asarray(sample_ppc['y_likelihood']).ravel(order='F')"
   ]
  },
  {
   "cell_type": "code",
   "execution_count": 25,
   "metadata": {},
   "outputs": [
    {
     "data": {
      "image/png": "[encoded data removed]",
      "text/plain": [
       "<Figure size 432x288 with 2 Axes>"
      ]
     },
     "metadata": {},
     "output_type": "display_data"
    }
   ],
   "source": [
    "fig, ax = plt.subplots(1, 2, sharex=True, sharey=True)\n",
    "_ = sns.boxplot(x='A', y='y', hue='B', data=data, ax=ax[0])\n",
    "_ = sns.boxplot(x='A', y='y', hue='B', data=data_ppc, ax=ax[1])"
   ]
  },
  {
   "cell_type": "code",
   "execution_count": null,
   "metadata": {},
   "outputs": [],
   "source": []
  }
 ],
 "metadata": {
  "kernelspec": {
   "display_name": "Python 3",
   "language": "python",
   "name": "python3"
  },
  "language_info": {
   "codemirror_mode": {
    "name": "ipython",
    "version": 3
   },
   "file_extension": ".py",
   "mimetype": "text/x-python",
   "name": "python",
   "nbconvert_exporter": "python",
   "pygments_lexer": "ipython3",
   "version": "3.6.4"
  }
 },
 "nbformat": 4,
 "nbformat_minor": 2
}
