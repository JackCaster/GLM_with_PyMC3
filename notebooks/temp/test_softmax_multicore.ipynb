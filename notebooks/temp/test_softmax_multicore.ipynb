{
 "cells": [
  {
   "cell_type": "code",
   "execution_count": null,
   "metadata": {},
   "outputs": [
    {
     "name": "stdout",
     "output_type": "stream",
     "text": [
      "3.5\n",
      "1.0.2\n"
     ]
    },
    {
     "name": "stderr",
     "output_type": "stream",
     "text": [
      "Auto-assigning NUTS sampler...\n",
      "Initializing NUTS using jitter+adapt_diag...\n"
     ]
    }
   ],
   "source": [
    "import pymc3 as pm\n",
    "print(pm.__version__)\n",
    "\n",
    "import theano.tensor as tt\n",
    "import theano\n",
    "print(theano.__version__)\n",
    "\n",
    "import patsy\n",
    "import pandas as pd\n",
    "import numpy as np\n",
    "\n",
    "SEED = 20180727\n",
    "\n",
    "df = pd.read_csv(r'..\\datasets\\SoftmaxRegData1.csv', dtype={'Y':'category'})\n",
    "\n",
    "_, X = patsy.dmatrices('Y ~ 1 + standardize(X1) + standardize(X2)', data=df)\n",
    "\n",
    "# Number of categories\n",
    "n_cat = df.Y.cat.categories.size\n",
    "# Number of predictors\n",
    "n_pred = X.shape[1]\n",
    "\n",
    "with pm.Model() as model:\n",
    "\n",
    "    ## `p`--quantity that I want to model--needs to have size (n_obs, n_cat). \n",
    "    ## Because `X` has size (n_obs, n_pred), then `beta` needs to have size (n_pred, n_cat)\n",
    "\n",
    "    # priors for categories 1-2, excluding reference category 0 which is set to zero below (see DBDA2 p. 651 for explanation).   \n",
    "    beta_ = pm.Normal('beta_', mu=0, sd=50, shape=(n_pred, n_cat-1))\n",
    "    # add prior values zero for reference category 0. (add a column)  \n",
    "    beta = pm.Deterministic('beta', tt.concatenate([tt.zeros((n_pred, 1)), beta_], axis=1))\n",
    "\n",
    "    # The softmax function will squash the values in the range 0-1\n",
    "    p = tt.nnet.softmax(tt.dot(np.asarray(X), beta))\n",
    "\n",
    "    likelihood = pm.Categorical('likelihood', p=p, observed=df.Y.cat.codes.values)\n",
    "\n",
    "    trace = pm.sample(draws=3000, tune=1000, chains=2, cores=4, random_seed=SEED)"
   ]
  },
  {
   "cell_type": "code",
   "execution_count": null,
   "metadata": {},
   "outputs": [],
   "source": []
  }
 ],
 "metadata": {
  "kernelspec": {
   "display_name": "Python 3",
   "language": "python",
   "name": "python3"
  },
  "language_info": {
   "codemirror_mode": {
    "name": "ipython",
    "version": 3
   },
   "file_extension": ".py",
   "mimetype": "text/x-python",
   "name": "python",
   "nbconvert_exporter": "python",
   "pygments_lexer": "ipython3",
   "version": "3.6.6"
  }
 },
 "nbformat": 4,
 "nbformat_minor": 2
}
