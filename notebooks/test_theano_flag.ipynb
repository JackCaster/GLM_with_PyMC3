{
 "cells": [
  {
   "cell_type": "code",
   "execution_count": 3,
   "metadata": {},
   "outputs": [
    {
     "data": {
      "text/plain": [
       "\"# config from https://software.intel.com/en-us/articles/getting-started-with-intel-optimized-theano\\ntheano.config.floatX = 'float32'\\nprint(theano.config.floatX)\\n\\ntheano.config.allow_gc = 'True'\\nprint(theano.config.allow_gc)\\n\\n#theano.config.gcc.cxxflags = '-march=native -opt-prefetch=2'\\ntheano.config.optimizer='o3'\\nprint(theano.config.optimizer)\""
      ]
     },
     "execution_count": 3,
     "metadata": {},
     "output_type": "execute_result"
    }
   ],
   "source": [
    "#!theano-cache clear\n",
    "import theano\n",
    "\n",
    "\"\"\"# config from https://software.intel.com/en-us/articles/getting-started-with-intel-optimized-theano\n",
    "theano.config.floatX = 'float32'\n",
    "print(theano.config.floatX)\n",
    "\n",
    "theano.config.allow_gc = 'True'\n",
    "print(theano.config.allow_gc)\n",
    "\n",
    "#theano.config.gcc.cxxflags = '-march=native -opt-prefetch=2'\n",
    "theano.config.optimizer='o3'\n",
    "print(theano.config.optimizer)\"\"\""
   ]
  },
  {
   "cell_type": "code",
   "execution_count": 7,
   "metadata": {},
   "outputs": [
    {
     "name": "stdout",
     "output_type": "stream",
     "text": [
      "*** Start script ***\n",
      "pymc3: v. 3.5\n",
      "theano: v. 1.0.2\n"
     ]
    },
    {
     "name": "stderr",
     "output_type": "stream",
     "text": [
      "Auto-assigning NUTS sampler...\n",
      "Initializing NUTS using jitter+adapt_diag...\n",
      "Multiprocess sampling (2 chains in 2 jobs)\n",
      "NUTS: [sd, mu]\n",
      "Sampling 2 chains: 100%|███████████████████████████████████████████████████████████████████| 2000/2000 [00:02<00:00, 713.77draws/s]\n"
     ]
    },
    {
     "name": "stdout",
     "output_type": "stream",
     "text": [
      "Done!\n"
     ]
    }
   ],
   "source": [
    "import numpy as np\n",
    "import pandas as pd\n",
    "import pymc3 as pm\n",
    "\n",
    "print('*** Start script ***')\n",
    "print(f'{pm.__name__}: v. {pm.__version__}')\n",
    "print(f'{theano.__name__}: v. {theano.__version__}')\n",
    "\n",
    "SEED = 20180730\n",
    "np.random.seed(SEED)\n",
    "\n",
    "# Generate data\n",
    "mu_real = 0\n",
    "sd_real = 1\n",
    "n_samples = 1000\n",
    "y = np.random.normal(loc=mu_real, scale=sd_real, size=n_samples)\n",
    "\n",
    "# Bayesian modelling\n",
    "with pm.Model() as model:\n",
    "    \n",
    "    mu = pm.Normal('mu', mu=0, sd=1)\n",
    "    sd = pm.HalfNormal('sd', sd=1)\n",
    "    \n",
    "    # Likelihood\n",
    "    likelihood = pm.Normal('likelihood', mu=mu, sd=sd, observed=y)    \n",
    "    trace = pm.sample(chains=2, cores=2, random_seed=SEED)\n",
    "\n",
    "print('Done!')"
   ]
  },
  {
   "cell_type": "code",
   "execution_count": null,
   "metadata": {},
   "outputs": [],
   "source": []
  },
  {
   "cell_type": "code",
   "execution_count": null,
   "metadata": {},
   "outputs": [],
   "source": []
  }
 ],
 "metadata": {
  "kernelspec": {
   "display_name": "Python 3",
   "language": "python",
   "name": "python3"
  },
  "language_info": {
   "codemirror_mode": {
    "name": "ipython",
    "version": 3
   },
   "file_extension": ".py",
   "mimetype": "text/x-python",
   "name": "python",
   "nbconvert_exporter": "python",
   "pygments_lexer": "ipython3",
   "version": "3.6.6"
  }
 },
 "nbformat": 4,
 "nbformat_minor": 2
}
