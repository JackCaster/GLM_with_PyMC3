{
 "cells": [
  {
   "cell_type": "code",
   "execution_count": 1,
   "metadata": {},
   "outputs": [
    {
     "name": "stderr",
     "output_type": "stream",
     "text": [
      "C:\\Miniconda3\\envs\\ppc\\lib\\site-packages\\h5py\\__init__.py:36: FutureWarning: Conversion of the second argument of issubdtype from `float` to `np.floating` is deprecated. In future, it will be treated as `np.float64 == np.dtype(float).type`.\n",
      "  from ._conv import register_converters as _register_converters\n"
     ]
    },
    {
     "name": "stdout",
     "output_type": "stream",
     "text": [
      "3.4.1\n"
     ]
    }
   ],
   "source": [
    "import pandas as pd\n",
    "#pd.set_option('display.max_columns', 500)\n",
    "#pd.set_option('display.max_rows', 500)\n",
    "\n",
    "import numpy as np\n",
    " \n",
    "%matplotlib inline\n",
    "import matplotlib.pyplot as plt\n",
    "import seaborn as sns\n",
    "#sns.set()\n",
    "\n",
    "import pymc3 as pm\n",
    "print(pm.__version__)\n",
    "import theano.tensor as tt\n",
    "import patsy\n",
    "\n",
    "import scipy.sparse"
   ]
  },
  {
   "cell_type": "markdown",
   "metadata": {},
   "source": [
    "# Reaction Times In A Sleep Deprivation Study\n",
    "The dataset contains the average reaction time per day for subjects in a sleep deprivation study. On day 0 the subjects had their normal amount of sleep. Starting that night they were restricted to 3 hours of sleep per night. The observations represent the average reaction time on a series of tests given each day to each subject. Data from: https://raw.githubusercontent.com/vincentarelbundock/Rdatasets/master/csv/lme4/sleepstudy.csv"
   ]
  },
  {
   "cell_type": "markdown",
   "metadata": {},
   "source": [
    "### Data loading"
   ]
  },
  {
   "cell_type": "code",
   "execution_count": 2,
   "metadata": {},
   "outputs": [
    {
     "data": {
      "text/html": [
       "<div>\n",
       "<style scoped>\n",
       "    .dataframe tbody tr th:only-of-type {\n",
       "        vertical-align: middle;\n",
       "    }\n",
       "\n",
       "    .dataframe tbody tr th {\n",
       "        vertical-align: top;\n",
       "    }\n",
       "\n",
       "    .dataframe thead th {\n",
       "        text-align: right;\n",
       "    }\n",
       "</style>\n",
       "<table border=\"1\" class=\"dataframe\">\n",
       "  <thead>\n",
       "    <tr style=\"text-align: right;\">\n",
       "      <th></th>\n",
       "      <th>Reaction</th>\n",
       "      <th>Days</th>\n",
       "      <th>Subject</th>\n",
       "    </tr>\n",
       "  </thead>\n",
       "  <tbody>\n",
       "    <tr>\n",
       "      <th>1</th>\n",
       "      <td>249.5600</td>\n",
       "      <td>0</td>\n",
       "      <td>308</td>\n",
       "    </tr>\n",
       "    <tr>\n",
       "      <th>2</th>\n",
       "      <td>258.7047</td>\n",
       "      <td>1</td>\n",
       "      <td>308</td>\n",
       "    </tr>\n",
       "    <tr>\n",
       "      <th>3</th>\n",
       "      <td>250.8006</td>\n",
       "      <td>2</td>\n",
       "      <td>308</td>\n",
       "    </tr>\n",
       "    <tr>\n",
       "      <th>4</th>\n",
       "      <td>321.4398</td>\n",
       "      <td>3</td>\n",
       "      <td>308</td>\n",
       "    </tr>\n",
       "    <tr>\n",
       "      <th>5</th>\n",
       "      <td>356.8519</td>\n",
       "      <td>4</td>\n",
       "      <td>308</td>\n",
       "    </tr>\n",
       "    <tr>\n",
       "      <th>6</th>\n",
       "      <td>414.6901</td>\n",
       "      <td>5</td>\n",
       "      <td>308</td>\n",
       "    </tr>\n",
       "    <tr>\n",
       "      <th>7</th>\n",
       "      <td>382.2038</td>\n",
       "      <td>6</td>\n",
       "      <td>308</td>\n",
       "    </tr>\n",
       "    <tr>\n",
       "      <th>8</th>\n",
       "      <td>290.1486</td>\n",
       "      <td>7</td>\n",
       "      <td>308</td>\n",
       "    </tr>\n",
       "    <tr>\n",
       "      <th>9</th>\n",
       "      <td>430.5853</td>\n",
       "      <td>8</td>\n",
       "      <td>308</td>\n",
       "    </tr>\n",
       "    <tr>\n",
       "      <th>10</th>\n",
       "      <td>466.3535</td>\n",
       "      <td>9</td>\n",
       "      <td>308</td>\n",
       "    </tr>\n",
       "    <tr>\n",
       "      <th>11</th>\n",
       "      <td>222.7339</td>\n",
       "      <td>0</td>\n",
       "      <td>309</td>\n",
       "    </tr>\n",
       "    <tr>\n",
       "      <th>12</th>\n",
       "      <td>205.2658</td>\n",
       "      <td>1</td>\n",
       "      <td>309</td>\n",
       "    </tr>\n",
       "    <tr>\n",
       "      <th>13</th>\n",
       "      <td>202.9778</td>\n",
       "      <td>2</td>\n",
       "      <td>309</td>\n",
       "    </tr>\n",
       "    <tr>\n",
       "      <th>14</th>\n",
       "      <td>204.7070</td>\n",
       "      <td>3</td>\n",
       "      <td>309</td>\n",
       "    </tr>\n",
       "    <tr>\n",
       "      <th>15</th>\n",
       "      <td>207.7161</td>\n",
       "      <td>4</td>\n",
       "      <td>309</td>\n",
       "    </tr>\n",
       "  </tbody>\n",
       "</table>\n",
       "</div>"
      ],
      "text/plain": [
       "    Reaction  Days Subject\n",
       "1   249.5600     0     308\n",
       "2   258.7047     1     308\n",
       "3   250.8006     2     308\n",
       "4   321.4398     3     308\n",
       "5   356.8519     4     308\n",
       "6   414.6901     5     308\n",
       "7   382.2038     6     308\n",
       "8   290.1486     7     308\n",
       "9   430.5853     8     308\n",
       "10  466.3535     9     308\n",
       "11  222.7339     0     309\n",
       "12  205.2658     1     309\n",
       "13  202.9778     2     309\n",
       "14  204.7070     3     309\n",
       "15  207.7161     4     309"
      ]
     },
     "execution_count": 2,
     "metadata": {},
     "output_type": "execute_result"
    }
   ],
   "source": [
    "sleep = pd.read_csv('../datasets/sleepstudy.csv', index_col=0)\n",
    "sleep['Subject'] = pd.Categorical(sleep['Subject'], ordered=False)\n",
    "sleep.head(15)"
   ]
  },
  {
   "cell_type": "code",
   "execution_count": 3,
   "metadata": {},
   "outputs": [
    {
     "data": {
      "image/png": "[encoded data removed]",
      "text/plain": [
       "<Figure size 810x360 with 18 Axes>"
      ]
     },
     "metadata": {},
     "output_type": "display_data"
    }
   ],
   "source": [
    "sns.lmplot(x=\"Days\", y=\"Reaction\", col=\"Subject\", data=sleep, col_wrap=9, palette=\"muted\", aspect=0.5, size=2.5);"
   ]
  },
  {
   "cell_type": "markdown",
   "metadata": {},
   "source": [
    "## Random effect on the intercepts and slopes\n",
    "Note: It may be beneficial to center and standardize the data"
   ]
  },
  {
   "cell_type": "markdown",
   "metadata": {},
   "source": [
    "Design matrix for the fixed effect"
   ]
  },
  {
   "cell_type": "code",
   "execution_count": 4,
   "metadata": {
    "scrolled": true
   },
   "outputs": [
    {
     "data": {
      "text/plain": [
       "array([[1., 1.],\n",
       "       [1., 2.],\n",
       "       [1., 3.],\n",
       "       [1., 4.],\n",
       "       [1., 5.],\n",
       "       [1., 6.],\n",
       "       [1., 7.],\n",
       "       [1., 8.],\n",
       "       [1., 9.],\n",
       "       [1., 0.],\n",
       "       [1., 1.],\n",
       "       [1., 2.],\n",
       "       [1., 3.],\n",
       "       [1., 4.]])"
      ]
     },
     "execution_count": 4,
     "metadata": {},
     "output_type": "execute_result"
    }
   ],
   "source": [
    "X = patsy.dmatrix(\"1 + Days\", data=sleep, return_type='dataframe')\n",
    "X = np.asarray(X)\n",
    "X[1:15, :]"
   ]
  },
  {
   "cell_type": "markdown",
   "metadata": {},
   "source": [
    "Design matrix for the random effects. Intercept and slope are modelled separately to have more control on the prior"
   ]
  },
  {
   "cell_type": "code",
   "execution_count": 5,
   "metadata": {},
   "outputs": [
    {
     "name": "stdout",
     "output_type": "stream",
     "text": [
      "Z_intercept has shape (180, 18)\n",
      "Z_slope has shape (180, 18)\n",
      "Z has shape (180, 36)\n"
     ]
    }
   ],
   "source": [
    "# Random effect on the intercepts and slopes\n",
    "Z_intercept = patsy.dmatrix('0 + Subject', data=sleep, return_type='dataframe')\n",
    "Z_intercept = np.asarray(Z_intercept)\n",
    "\n",
    "Z_slope = patsy.dmatrix('0 + Subject:Days', data=sleep, return_type='dataframe')\n",
    "Z_slope = np.asarray(Z_slope)\n",
    "\n",
    "Z = np.concatenate((Z_intercept, Z_slope), axis=1)\n",
    "\n",
    "print('Z_intercept has shape ({}, {})'.format(*Z_intercept.shape))\n",
    "print('Z_slope has shape ({}, {})'.format(*Z_slope.shape))\n",
    "print('Z has shape ({}, {})'.format(*Z.shape))"
   ]
  },
  {
   "cell_type": "code",
   "execution_count": 6,
   "metadata": {},
   "outputs": [
    {
     "data": {
      "text/plain": [
       "array([[1., 0., 0., ..., 0., 0., 0.],\n",
       "       [1., 0., 0., ..., 0., 0., 0.],\n",
       "       [1., 0., 0., ..., 0., 0., 0.],\n",
       "       ...,\n",
       "       [0., 0., 0., ..., 0., 0., 1.],\n",
       "       [0., 0., 0., ..., 0., 0., 1.],\n",
       "       [0., 0., 0., ..., 0., 0., 1.]])"
      ]
     },
     "execution_count": 6,
     "metadata": {},
     "output_type": "execute_result"
    }
   ],
   "source": [
    "Z_intercept"
   ]
  },
  {
   "cell_type": "code",
   "execution_count": 7,
   "metadata": {},
   "outputs": [
    {
     "data": {
      "text/plain": [
       "array([[0., 0., 0., ..., 0., 0., 0.],\n",
       "       [1., 0., 0., ..., 0., 0., 0.],\n",
       "       [2., 0., 0., ..., 0., 0., 0.],\n",
       "       ...,\n",
       "       [0., 0., 0., ..., 0., 0., 7.],\n",
       "       [0., 0., 0., ..., 0., 0., 8.],\n",
       "       [0., 0., 0., ..., 0., 0., 9.]])"
      ]
     },
     "execution_count": 7,
     "metadata": {},
     "output_type": "execute_result"
    }
   ],
   "source": [
    "Z_slope"
   ]
  },
  {
   "cell_type": "code",
   "execution_count": 8,
   "metadata": {},
   "outputs": [
    {
     "data": {
      "text/plain": [
       "array([[1., 0., 0., ..., 0., 0., 0.],\n",
       "       [1., 0., 0., ..., 0., 0., 0.],\n",
       "       [1., 0., 0., ..., 0., 0., 0.],\n",
       "       ...,\n",
       "       [0., 0., 0., ..., 0., 0., 7.],\n",
       "       [0., 0., 0., ..., 0., 0., 8.],\n",
       "       [0., 0., 0., ..., 0., 0., 9.]])"
      ]
     },
     "execution_count": 8,
     "metadata": {},
     "output_type": "execute_result"
    }
   ],
   "source": [
    "Z"
   ]
  },
  {
   "cell_type": "code",
   "execution_count": 9,
   "metadata": {},
   "outputs": [],
   "source": [
    "Y = np.asarray(sleep['Reaction'])"
   ]
  },
  {
   "cell_type": "code",
   "execution_count": null,
   "metadata": {
    "scrolled": true
   },
   "outputs": [],
   "source": [
    "## see also https://github.com/pymc-devs/resources/blob/master/Rethinking/Chp_13.ipynb\n",
    "\n",
    "n_random_effects = X.shape[1] #nu = 2\n",
    "n_subjects = Z_intercept.shape[1] # J = 18\n",
    "\n",
    "with pm.Model() as model:\n",
    "\n",
    "    ## Fixed effect\n",
    "    beta_X_intercept = pm.HalfNormal('beta_X_intercept', sd=10000) # contrain it to positive values\n",
    "    beta_X_slope = pm.Normal('beta_X_slope', mu=0, sd=100)\n",
    "    beta_X = tt.stack(beta_X_intercept, beta_X_slope)\n",
    "    \n",
    "    estimate_X = pm.math.dot(X, beta_X)\n",
    "        \n",
    "    ## Random effect\n",
    "    # Prior on the standard deviation of the random effects\n",
    "    sigma_Z = pm.HalfNormal.dist(sd=100, shape=n_random_effects)\n",
    "    \n",
    "    # Build the covariance matrix\n",
    "    chol_packed = pm.LKJCholeskyCov('chol_packed', n=n_random_effects, eta=1, sd_dist=sigma_Z)\n",
    "    chol = pm.expand_packed_triangular(n_random_effects, chol_packed, lower=True)\n",
    "    \n",
    "    covariance_matrix = pm.Deterministic('covariance_matrix', tt.dot(chol, chol.T))\n",
    "    \n",
    "    # Extract the standard deviations and rho\n",
    "    standard_deviations = pm.Deterministic('standard_deviations', tt.sqrt(tt.diag(covariance_matrix)))\n",
    "    correlation_matrix = pm.Deterministic('correlation_matrix', tt.diag(standard_deviations**-1).dot(covariance_matrix.dot(tt.diag(standard_deviations**-1))))\n",
    "    rho = pm.Deterministic('rho', correlation_matrix[np.triu_indices(2, k=1)])\n",
    "       \n",
    "    # Centered parametrization\n",
    "    #gamma_Z = pm.MvNormal('gamma_Z', mu=np.zeros(n_random_effects), chol=chol, shape=(n_subjects, n_random_effects))\n",
    "    #tt.printing.Print('gamma_Z')(gamma_Z.shape)\n",
    "    \n",
    "    ## Alternative Non centered\n",
    "    gamma_Z_raw = pm.Normal('gamma_Z_raw', mu=0, sd=1, shape=(n_subjects, n_random_effects))\n",
    "    gamma_Z = tt.dot(chol, gamma_Z_raw.T).T\n",
    "    \n",
    "    # Separate the coefficients for intercept and slope\n",
    "    gamma_Z_intercept = pm.Deterministic('gamma_Z_intercept', gamma_Z[:, 0])\n",
    "    gamma_Z_slope = pm.Deterministic('gamma_Z_slope', gamma_Z[:, 1])\n",
    "    \n",
    "    estimate_Z = pm.math.dot(Z_intercept, gamma_Z_intercept) + pm.math.dot(Z_slope, gamma_Z_slope) \n",
    "\n",
    "    ## likelihood\n",
    "    mu_estimate = estimate_X + estimate_Z\n",
    "    sigma_unexplained = pm.HalfNormal('sigma_unexplained', sd=1000) # unexplained variability\n",
    "    y_likelihood = pm.Normal('y_likelihood', mu=mu_estimate, sd=sigma_unexplained, observed=Y)\n",
    "    \n",
    "    trace = pm.sample(draws=3000, chains=4, njobs=2, tune=1000, nuts_kwargs={'target_accept':0.95})"
   ]
  },
  {
   "cell_type": "code",
   "execution_count": null,
   "metadata": {},
   "outputs": [],
   "source": [
    "trace = trace[1000:] # discard burnin"
   ]
  },
  {
   "cell_type": "code",
   "execution_count": null,
   "metadata": {},
   "outputs": [],
   "source": [
    "_ = pm.traceplot(trace)"
   ]
  },
  {
   "cell_type": "code",
   "execution_count": null,
   "metadata": {},
   "outputs": [],
   "source": [
    "covariance_matrix = np.mean(trace['covariance_matrix'], 0)\n",
    "covariance_matrix"
   ]
  },
  {
   "cell_type": "code",
   "execution_count": null,
   "metadata": {},
   "outputs": [],
   "source": [
    "standard_deviations = np.mean(trace['standard_deviations'], 0)\n",
    "standard_deviations"
   ]
  },
  {
   "cell_type": "code",
   "execution_count": null,
   "metadata": {},
   "outputs": [],
   "source": [
    "correlation_matrix = np.mean(trace['correlation_matrix'], 0)\n",
    "correlation_matrix"
   ]
  },
  {
   "cell_type": "code",
   "execution_count": null,
   "metadata": {},
   "outputs": [],
   "source": [
    "rho = np.mean(trace['rho'], 0)\n",
    "rho"
   ]
  },
  {
   "cell_type": "code",
   "execution_count": null,
   "metadata": {},
   "outputs": [],
   "source": [
    "trace_df = pm.trace_to_dataframe(trace)"
   ]
  },
  {
   "cell_type": "code",
   "execution_count": null,
   "metadata": {},
   "outputs": [],
   "source": [
    "yvars = [col for col in trace_df.columns if 'gamma_Z_slope' in col and 'raw' not in col]\n",
    "xvars = [col for col in trace_df.columns if 'gamma_Z_intercept' in col and 'raw' not in col]"
   ]
  },
  {
   "cell_type": "code",
   "execution_count": null,
   "metadata": {},
   "outputs": [],
   "source": [
    "fig, ax = plt.subplots(nrows=6, ncols=3, figsize=(10, 10))\n",
    "for i, axi in enumerate(ax.ravel()):\n",
    "    axi.plot(trace_df[xvars[i]], trace_df[yvars[i]], 'o', alpha=0.01)\n",
    "    axi.set_xlabel(xvars[i])\n",
    "    axi.set_ylabel(yvars[i])\n",
    "    axi.text(0.1, 0.1, '$\\\\rho$ = {}'.format(np.round(np.corrcoef(trace_df[xvars[i]], trace_df[yvars[i]])[0, 1], 2)),\n",
    "             fontsize=20, transform=axi.transAxes)\n",
    "    \n",
    "plt.tight_layout()"
   ]
  },
  {
   "cell_type": "code",
   "execution_count": null,
   "metadata": {},
   "outputs": [],
   "source": [
    "## Aggregate correlation between intercept and slope\n",
    "fig, ax = plt.subplots(1, 1, figsize=(3, 3))\n",
    "ax.plot(trace_df[xvars].values.ravel(), trace_df[yvars].values.ravel(), 'o', alpha=0.01)\n",
    "ax.set_xlabel('gamma_Z_intercept')\n",
    "ax.set_ylabel('gamma_Z_intercept')\n",
    "ax.text(0.1, 0.1, '$\\\\rho$ = {}'.format(np.round(np.corrcoef(trace_df[xvars[i]].values.ravel(), trace_df[yvars[i]].values.ravel())[0, 1], 2)),\n",
    "             fontsize=20, transform=ax.transAxes)\n",
    "    \n",
    "plt.tight_layout()"
   ]
  },
  {
   "cell_type": "code",
   "execution_count": null,
   "metadata": {},
   "outputs": [],
   "source": [
    "days = np.unique(sleep.Days)\n",
    "subject_ids = np.unique(sleep.Subject)\n",
    "\n",
    "fig, ax = plt.subplots(nrows=2, ncols=9, figsize=(15, 5), sharex=True, sharey=True)\n",
    "ax = ax.ravel()\n",
    "    \n",
    "# Main effect  \n",
    "for i, subject in enumerate(subject_ids):\n",
    "    for b0, b1 in zip(trace_df['beta_X_intercept'][::500], \n",
    "                      trace_df['beta_X_slope'][::500]):\n",
    "        ax[i].plot(days, b0 + days*b1, '-b', alpha=0.05)\n",
    "        ax[i].set_title('Subj. {}'.format(subject))\n",
    "\n",
    "        \n",
    "for i, subject in enumerate(subject_ids):\n",
    "    ax[i].plot(days, trace_df['beta_X_intercept'].mean() + days*trace_df['beta_X_slope'].mean(), '--b',\n",
    "              label='F.E. mean')\n",
    "    \n",
    "# Random effect\n",
    "for i, subject in enumerate(subject_ids):\n",
    "    for b0, b1 in zip(trace_df['gamma_Z_intercept__{}'.format(i)][::500], \n",
    "                      trace_df['gamma_Z_slope__{}'.format(i)][::500]):\n",
    "        ax[i].plot(days, trace_df['beta_X_intercept'].mean() + b0 + \n",
    "                   days * (trace_df['beta_X_slope'].mean() + b1), '-r', alpha=0.05)\n",
    "\n",
    "for i, subject in enumerate(subject_ids):\n",
    "    ax[i].plot(days,\n",
    "               trace_df['beta_X_intercept'].mean() + trace_df['gamma_Z_intercept__{}'.format(i)].mean() + \n",
    "               days * (trace_df['beta_X_slope'].mean() + trace_df['gamma_Z_slope__{}'.format(i)].mean()), '--r', \n",
    "               label='R.E. mean')    \n",
    "    \n",
    "\n",
    "for i, subject in enumerate(subject_ids):\n",
    "    ax[i].plot(days, sleep.Reaction[sleep.Subject==subject].values, 'o')\n",
    "    \n",
    "\n",
    "ax[0].legend()"
   ]
  },
  {
   "cell_type": "code",
   "execution_count": null,
   "metadata": {},
   "outputs": [],
   "source": [
    "ppc = pm.sample_ppc(trace, samples=250, model=model)"
   ]
  },
  {
   "cell_type": "code",
   "execution_count": null,
   "metadata": {},
   "outputs": [],
   "source": [
    "days = np.unique(sleep.Days)\n",
    "subject_ids = np.unique(sleep.Subject)\n",
    "\n",
    "fig, ax = plt.subplots(nrows=2, ncols=9, figsize=(15, 5), sharex=True, sharey=True)\n",
    "ax = ax.ravel()\n",
    "    \n",
    "# Main effect  \n",
    "for i, subject in enumerate(subject_ids):\n",
    "    ax[i].plot(days, ppc['y_likelihood'].T[sleep.Subject==subject], marker='.', markersize=5, linestyle='none', alpha=0.8, color='lightgray')\n",
    "    ax[i].plot(days, sleep.Reaction[sleep.Subject==subject].values, 'o')\n",
    "    ax[i].set_title('Subj. {}'.format(subject))\n"
   ]
  },
  {
   "cell_type": "code",
   "execution_count": null,
   "metadata": {},
   "outputs": [],
   "source": []
  },
  {
   "cell_type": "code",
   "execution_count": null,
   "metadata": {},
   "outputs": [],
   "source": []
  },
  {
   "cell_type": "code",
   "execution_count": null,
   "metadata": {},
   "outputs": [],
   "source": []
  },
  {
   "cell_type": "code",
   "execution_count": null,
   "metadata": {},
   "outputs": [],
   "source": []
  },
  {
   "cell_type": "code",
   "execution_count": null,
   "metadata": {},
   "outputs": [],
   "source": []
  },
  {
   "cell_type": "code",
   "execution_count": null,
   "metadata": {},
   "outputs": [],
   "source": []
  },
  {
   "cell_type": "code",
   "execution_count": null,
   "metadata": {},
   "outputs": [],
   "source": []
  },
  {
   "cell_type": "code",
   "execution_count": null,
   "metadata": {},
   "outputs": [],
   "source": []
  },
  {
   "cell_type": "code",
   "execution_count": null,
   "metadata": {},
   "outputs": [],
   "source": []
  },
  {
   "cell_type": "code",
   "execution_count": null,
   "metadata": {},
   "outputs": [],
   "source": [
    "\"\"\"\n",
    "# check code from https://blogs.sas.com/content/iml/2010/12/10/converting-between-correlation-and-covariance-matrices.html\n",
    "#/** convert covariance matrix to correlation matrix **/\n",
    "#/** standard deviations of each variable **/\n",
    "\n",
    "sd = np.sqrt(np.diag(covariance_matrix))\n",
    "R = np.diag(sd**-1).dot(covariance_matrix.dot(np.diag(sd**-1)))\n",
    "\n",
    "print(R)\n",
    "\n",
    "# for checking, compute pearson coefficient\n",
    "print(covariance_matrix[0, 1]/np.prod(np.sqrt(np.diag(covariance_matrix))))\n",
    "\"\"\""
   ]
  },
  {
   "cell_type": "code",
   "execution_count": null,
   "metadata": {},
   "outputs": [],
   "source": [
    "\n",
    "\"\"\"\n",
    "standard_deviations = np.sqrt(np.diag(covariance_matrix))\n",
    "standard_deviations\n",
    "\"\"\""
   ]
  },
  {
   "cell_type": "code",
   "execution_count": null,
   "metadata": {},
   "outputs": [],
   "source": [
    "\"\"\"\n",
    "# check code from https://blogs.sas.com/content/iml/2010/12/10/converting-between-correlation-and-covariance-matrices.html\n",
    "#/** convert covariance matrix to correlation matrix **/\n",
    "S = np.array([\n",
    "        [1.0, 1., 8.1],\n",
    "        [1.0, 16.0, 18.0],\n",
    "        [8.1,18.0,81.0]\n",
    "]);\n",
    " \n",
    "#/** standard deviations of each variable **/\n",
    "D = np.sqrt(scipy.sparse.diags(np.diag(S)).todense())\n",
    "DInv = np.linalg.inv(D)\n",
    "R = DInv * S * DInv #/** correlation matrix **/\n",
    "print(R)\n",
    "\n",
    "#Should be\n",
    "#\n",
    "#[[1.   0.25 0.9 ]\n",
    "# [0.25 1.   0.5 ]\n",
    "# [0.9  0.5  1.  ]]\n",
    "#\n",
    "\"\"\""
   ]
  },
  {
   "cell_type": "code",
   "execution_count": null,
   "metadata": {},
   "outputs": [],
   "source": [
    "\"\"\"\n",
    "# ALTERNATIVE WITH VECTORS\n",
    "# check code from https://blogs.sas.com/content/iml/2010/12/10/converting-between-correlation-and-covariance-matrices.html\n",
    "#/** convert covariance matrix to correlation matrix **/\n",
    "S = np.array([\n",
    "        [1.0, 1., 8.1],\n",
    "        [1.0, 16.0, 18.0],\n",
    "        [8.1,18.0,81.0]\n",
    "]);\n",
    "\n",
    "sd = np.sqrt(np.diag(S))\n",
    "R = np.diag(sd**-1).dot(S.dot(np.diag(sd**-1)))\n",
    "#/** standard deviations of each variable **/\n",
    "print(R)\n",
    "\n",
    "#Should be\n",
    "#\n",
    "#[[1.   0.25 0.9 ]\n",
    "# [0.25 1.   0.5 ]\n",
    "# [0.9  0.5  1.  ]]\n",
    "#\n",
    "\"\"\""
   ]
  }
 ],
 "metadata": {
  "kernelspec": {
   "display_name": "Python 3",
   "language": "python",
   "name": "python3"
  },
  "language_info": {
   "codemirror_mode": {
    "name": "ipython",
    "version": 3
   },
   "file_extension": ".py",
   "mimetype": "text/x-python",
   "name": "python",
   "nbconvert_exporter": "python",
   "pygments_lexer": "ipython3",
   "version": "3.6.5"
  }
 },
 "nbformat": 4,
 "nbformat_minor": 2
}
